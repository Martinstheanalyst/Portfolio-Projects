{
 "cells": [
  {
   "cell_type": "markdown",
   "id": "10401a1d",
   "metadata": {},
   "source": [
    "**A/B Hypothesis Testing**\n",
    "\n"
   ]
  },
  {
   "cell_type": "markdown",
   "id": "44c2c413",
   "metadata": {},
   "source": [
    "**Business Question **\n",
    "\n",
    "\n",
    "1\tDoes the shipping mode have a significant impact on the average order quantity?\n",
    "\n"
   ]
  },
  {
   "cell_type": "code",
   "execution_count": 43,
   "id": "60ba5b6e",
   "metadata": {},
   "outputs": [],
   "source": [
    "#importing the packages needed.\n",
    "\n",
    "import numpy as np\n",
    "import pandas  as pd\n",
    "from scipy import stats\n",
    "import matplotlib.pyplot as plt\n",
    "import seaborn as sns\n",
    "sns.set()"
   ]
  },
  {
   "cell_type": "code",
   "execution_count": 2,
   "id": "05f80ff9",
   "metadata": {},
   "outputs": [
    {
     "data": {
      "text/html": [
       "<div>\n",
       "<style scoped>\n",
       "    .dataframe tbody tr th:only-of-type {\n",
       "        vertical-align: middle;\n",
       "    }\n",
       "\n",
       "    .dataframe tbody tr th {\n",
       "        vertical-align: top;\n",
       "    }\n",
       "\n",
       "    .dataframe thead th {\n",
       "        text-align: right;\n",
       "    }\n",
       "</style>\n",
       "<table border=\"1\" class=\"dataframe\">\n",
       "  <thead>\n",
       "    <tr style=\"text-align: right;\">\n",
       "      <th></th>\n",
       "      <th>order_id</th>\n",
       "      <th>order_date</th>\n",
       "      <th>ship_date</th>\n",
       "      <th>ship_mode</th>\n",
       "      <th>customer_name</th>\n",
       "      <th>segment</th>\n",
       "      <th>state</th>\n",
       "      <th>country</th>\n",
       "      <th>market</th>\n",
       "      <th>region</th>\n",
       "      <th>...</th>\n",
       "      <th>category</th>\n",
       "      <th>sub_category</th>\n",
       "      <th>product_name</th>\n",
       "      <th>sales</th>\n",
       "      <th>quantity</th>\n",
       "      <th>discount</th>\n",
       "      <th>profit</th>\n",
       "      <th>shipping_cost</th>\n",
       "      <th>order_priority</th>\n",
       "      <th>year</th>\n",
       "    </tr>\n",
       "  </thead>\n",
       "  <tbody>\n",
       "    <tr>\n",
       "      <th>0</th>\n",
       "      <td>AG-2011-2040</td>\n",
       "      <td>1/1/2011</td>\n",
       "      <td>6/1/2011</td>\n",
       "      <td>Standard Class</td>\n",
       "      <td>Toby Braunhardt</td>\n",
       "      <td>Consumer</td>\n",
       "      <td>Constantine</td>\n",
       "      <td>Algeria</td>\n",
       "      <td>Africa</td>\n",
       "      <td>Africa</td>\n",
       "      <td>...</td>\n",
       "      <td>Office Supplies</td>\n",
       "      <td>Storage</td>\n",
       "      <td>Tenex Lockers, Blue</td>\n",
       "      <td>408</td>\n",
       "      <td>2</td>\n",
       "      <td>0.0</td>\n",
       "      <td>106.140</td>\n",
       "      <td>35.46</td>\n",
       "      <td>Medium</td>\n",
       "      <td>2011</td>\n",
       "    </tr>\n",
       "    <tr>\n",
       "      <th>1</th>\n",
       "      <td>IN-2011-47883</td>\n",
       "      <td>1/1/2011</td>\n",
       "      <td>8/1/2011</td>\n",
       "      <td>Standard Class</td>\n",
       "      <td>Joseph Holt</td>\n",
       "      <td>Consumer</td>\n",
       "      <td>New South Wales</td>\n",
       "      <td>Australia</td>\n",
       "      <td>APAC</td>\n",
       "      <td>Oceania</td>\n",
       "      <td>...</td>\n",
       "      <td>Office Supplies</td>\n",
       "      <td>Supplies</td>\n",
       "      <td>Acme Trimmer, High Speed</td>\n",
       "      <td>120</td>\n",
       "      <td>3</td>\n",
       "      <td>0.1</td>\n",
       "      <td>36.036</td>\n",
       "      <td>9.72</td>\n",
       "      <td>Medium</td>\n",
       "      <td>2011</td>\n",
       "    </tr>\n",
       "    <tr>\n",
       "      <th>2</th>\n",
       "      <td>HU-2011-1220</td>\n",
       "      <td>1/1/2011</td>\n",
       "      <td>5/1/2011</td>\n",
       "      <td>Second Class</td>\n",
       "      <td>Annie Thurman</td>\n",
       "      <td>Consumer</td>\n",
       "      <td>Budapest</td>\n",
       "      <td>Hungary</td>\n",
       "      <td>EMEA</td>\n",
       "      <td>EMEA</td>\n",
       "      <td>...</td>\n",
       "      <td>Office Supplies</td>\n",
       "      <td>Storage</td>\n",
       "      <td>Tenex Box, Single Width</td>\n",
       "      <td>66</td>\n",
       "      <td>4</td>\n",
       "      <td>0.0</td>\n",
       "      <td>29.640</td>\n",
       "      <td>8.17</td>\n",
       "      <td>High</td>\n",
       "      <td>2011</td>\n",
       "    </tr>\n",
       "    <tr>\n",
       "      <th>3</th>\n",
       "      <td>IT-2011-3647632</td>\n",
       "      <td>1/1/2011</td>\n",
       "      <td>5/1/2011</td>\n",
       "      <td>Second Class</td>\n",
       "      <td>Eugene Moren</td>\n",
       "      <td>Home Office</td>\n",
       "      <td>Stockholm</td>\n",
       "      <td>Sweden</td>\n",
       "      <td>EU</td>\n",
       "      <td>North</td>\n",
       "      <td>...</td>\n",
       "      <td>Office Supplies</td>\n",
       "      <td>Paper</td>\n",
       "      <td>Enermax Note Cards, Premium</td>\n",
       "      <td>45</td>\n",
       "      <td>3</td>\n",
       "      <td>0.5</td>\n",
       "      <td>-26.055</td>\n",
       "      <td>4.82</td>\n",
       "      <td>High</td>\n",
       "      <td>2011</td>\n",
       "    </tr>\n",
       "    <tr>\n",
       "      <th>4</th>\n",
       "      <td>IN-2011-47883</td>\n",
       "      <td>1/1/2011</td>\n",
       "      <td>8/1/2011</td>\n",
       "      <td>Standard Class</td>\n",
       "      <td>Joseph Holt</td>\n",
       "      <td>Consumer</td>\n",
       "      <td>New South Wales</td>\n",
       "      <td>Australia</td>\n",
       "      <td>APAC</td>\n",
       "      <td>Oceania</td>\n",
       "      <td>...</td>\n",
       "      <td>Furniture</td>\n",
       "      <td>Furnishings</td>\n",
       "      <td>Eldon Light Bulb, Duo Pack</td>\n",
       "      <td>114</td>\n",
       "      <td>5</td>\n",
       "      <td>0.1</td>\n",
       "      <td>37.770</td>\n",
       "      <td>4.70</td>\n",
       "      <td>Medium</td>\n",
       "      <td>2011</td>\n",
       "    </tr>\n",
       "  </tbody>\n",
       "</table>\n",
       "<p>5 rows × 21 columns</p>\n",
       "</div>"
      ],
      "text/plain": [
       "          order_id order_date ship_date       ship_mode    customer_name   \n",
       "0     AG-2011-2040   1/1/2011  6/1/2011  Standard Class  Toby Braunhardt  \\\n",
       "1    IN-2011-47883   1/1/2011  8/1/2011  Standard Class      Joseph Holt   \n",
       "2     HU-2011-1220   1/1/2011  5/1/2011    Second Class    Annie Thurman   \n",
       "3  IT-2011-3647632   1/1/2011  5/1/2011    Second Class     Eugene Moren   \n",
       "4    IN-2011-47883   1/1/2011  8/1/2011  Standard Class      Joseph Holt   \n",
       "\n",
       "       segment            state    country  market   region  ...   \n",
       "0     Consumer      Constantine    Algeria  Africa   Africa  ...  \\\n",
       "1     Consumer  New South Wales  Australia    APAC  Oceania  ...   \n",
       "2     Consumer         Budapest    Hungary    EMEA     EMEA  ...   \n",
       "3  Home Office        Stockholm     Sweden      EU    North  ...   \n",
       "4     Consumer  New South Wales  Australia    APAC  Oceania  ...   \n",
       "\n",
       "          category sub_category                 product_name sales quantity   \n",
       "0  Office Supplies      Storage          Tenex Lockers, Blue   408        2  \\\n",
       "1  Office Supplies     Supplies     Acme Trimmer, High Speed   120        3   \n",
       "2  Office Supplies      Storage      Tenex Box, Single Width    66        4   \n",
       "3  Office Supplies        Paper  Enermax Note Cards, Premium    45        3   \n",
       "4        Furniture  Furnishings   Eldon Light Bulb, Duo Pack   114        5   \n",
       "\n",
       "   discount   profit  shipping_cost  order_priority  year  \n",
       "0       0.0  106.140          35.46          Medium  2011  \n",
       "1       0.1   36.036           9.72          Medium  2011  \n",
       "2       0.0   29.640           8.17            High  2011  \n",
       "3       0.5  -26.055           4.82            High  2011  \n",
       "4       0.1   37.770           4.70          Medium  2011  \n",
       "\n",
       "[5 rows x 21 columns]"
      ]
     },
     "execution_count": 2,
     "metadata": {},
     "output_type": "execute_result"
    }
   ],
   "source": [
    "raw=pd.read_csv(\"C:\\\\Users\\DELL-PC\\\\Documents\\\\Database for Sql\\\\Datasets for Projects\\\\Raw Data\\\\superstore-orders.csv\",\n",
    "               encoding='ANSI')\n",
    "raw.head(5)"
   ]
  },
  {
   "cell_type": "code",
   "execution_count": 3,
   "id": "d91323df",
   "metadata": {},
   "outputs": [
    {
     "name": "stdout",
     "output_type": "stream",
     "text": [
      "<class 'pandas.core.frame.DataFrame'>\n",
      "RangeIndex: 51290 entries, 0 to 51289\n",
      "Data columns (total 21 columns):\n",
      " #   Column          Non-Null Count  Dtype  \n",
      "---  ------          --------------  -----  \n",
      " 0   order_id        51290 non-null  object \n",
      " 1   order_date      51290 non-null  object \n",
      " 2   ship_date       51290 non-null  object \n",
      " 3   ship_mode       51290 non-null  object \n",
      " 4   customer_name   51290 non-null  object \n",
      " 5   segment         51290 non-null  object \n",
      " 6   state           51290 non-null  object \n",
      " 7   country         51290 non-null  object \n",
      " 8   market          51290 non-null  object \n",
      " 9   region          51290 non-null  object \n",
      " 10  product_id      51290 non-null  object \n",
      " 11  category        51290 non-null  object \n",
      " 12  sub_category    51290 non-null  object \n",
      " 13  product_name    51290 non-null  object \n",
      " 14  sales           51290 non-null  object \n",
      " 15  quantity        51290 non-null  int64  \n",
      " 16  discount        51290 non-null  float64\n",
      " 17  profit          51290 non-null  float64\n",
      " 18  shipping_cost   51290 non-null  float64\n",
      " 19  order_priority  51290 non-null  object \n",
      " 20  year            51290 non-null  int64  \n",
      "dtypes: float64(3), int64(2), object(16)\n",
      "memory usage: 8.2+ MB\n"
     ]
    }
   ],
   "source": [
    "#info of the dataset\n",
    "raw.info()"
   ]
  },
  {
   "cell_type": "markdown",
   "id": "63b3f43c",
   "metadata": {},
   "source": [
    "Data Cleaning and Preprocessing"
   ]
  },
  {
   "cell_type": "code",
   "execution_count": 4,
   "id": "cf0efab0",
   "metadata": {},
   "outputs": [
    {
     "data": {
      "text/html": [
       "<div>\n",
       "<style scoped>\n",
       "    .dataframe tbody tr th:only-of-type {\n",
       "        vertical-align: middle;\n",
       "    }\n",
       "\n",
       "    .dataframe tbody tr th {\n",
       "        vertical-align: top;\n",
       "    }\n",
       "\n",
       "    .dataframe thead th {\n",
       "        text-align: right;\n",
       "    }\n",
       "</style>\n",
       "<table border=\"1\" class=\"dataframe\">\n",
       "  <thead>\n",
       "    <tr style=\"text-align: right;\">\n",
       "      <th></th>\n",
       "      <th>order_id</th>\n",
       "      <th>order_date</th>\n",
       "      <th>ship_date</th>\n",
       "      <th>ship_mode</th>\n",
       "      <th>customer_name</th>\n",
       "      <th>segment</th>\n",
       "      <th>state</th>\n",
       "      <th>country</th>\n",
       "      <th>market</th>\n",
       "      <th>region</th>\n",
       "      <th>...</th>\n",
       "      <th>category</th>\n",
       "      <th>sub_category</th>\n",
       "      <th>product_name</th>\n",
       "      <th>sales</th>\n",
       "      <th>quantity</th>\n",
       "      <th>discount</th>\n",
       "      <th>profit</th>\n",
       "      <th>shipping_cost</th>\n",
       "      <th>order_priority</th>\n",
       "      <th>year</th>\n",
       "    </tr>\n",
       "  </thead>\n",
       "  <tbody>\n",
       "  </tbody>\n",
       "</table>\n",
       "<p>0 rows × 21 columns</p>\n",
       "</div>"
      ],
      "text/plain": [
       "Empty DataFrame\n",
       "Columns: [order_id, order_date, ship_date, ship_mode, customer_name, segment, state, country, market, region, product_id, category, sub_category, product_name, sales, quantity, discount, profit, shipping_cost, order_priority, year]\n",
       "Index: []\n",
       "\n",
       "[0 rows x 21 columns]"
      ]
     },
     "execution_count": 4,
     "metadata": {},
     "output_type": "execute_result"
    }
   ],
   "source": [
    "#check for  duplicates\n",
    "raw[raw.duplicated()]"
   ]
  },
  {
   "cell_type": "code",
   "execution_count": 5,
   "id": "5e3e1c73",
   "metadata": {},
   "outputs": [
    {
     "data": {
      "text/plain": [
       "order_id          0\n",
       "order_date        0\n",
       "ship_date         0\n",
       "ship_mode         0\n",
       "customer_name     0\n",
       "segment           0\n",
       "state             0\n",
       "country           0\n",
       "market            0\n",
       "region            0\n",
       "product_id        0\n",
       "category          0\n",
       "sub_category      0\n",
       "product_name      0\n",
       "sales             0\n",
       "quantity          0\n",
       "discount          0\n",
       "profit            0\n",
       "shipping_cost     0\n",
       "order_priority    0\n",
       "year              0\n",
       "dtype: int64"
      ]
     },
     "execution_count": 5,
     "metadata": {},
     "output_type": "execute_result"
    }
   ],
   "source": [
    "#check for nulls\n",
    "raw.isnull().sum()"
   ]
  },
  {
   "cell_type": "markdown",
   "id": "dd84daf1",
   "metadata": {},
   "source": [
    "Transforming Incorrect Data Types"
   ]
  },
  {
   "cell_type": "code",
   "execution_count": 6,
   "id": "f03806ec",
   "metadata": {},
   "outputs": [],
   "source": [
    "# Remove commas from 'sales' column\n",
    "raw['sales'] = raw['sales'].str.replace(',', '')\n",
    "\n",
    "# Convert 'sales' column to integers\n",
    "raw['sales'] = raw['sales'].astype(int)\n"
   ]
  },
  {
   "cell_type": "code",
   "execution_count": 7,
   "id": "dc341434",
   "metadata": {},
   "outputs": [
    {
     "data": {
      "text/plain": [
       "dtype('int32')"
      ]
     },
     "execution_count": 7,
     "metadata": {},
     "output_type": "execute_result"
    }
   ],
   "source": [
    "#the data type of the sales column is now an integer.\n",
    "raw['sales'].dtype"
   ]
  },
  {
   "cell_type": "code",
   "execution_count": 8,
   "id": "b40d23e4",
   "metadata": {},
   "outputs": [],
   "source": [
    "#create a uniform separator for  the order date column\n",
    "raw['order_date']=raw['order_date'].str.replace('/','-')"
   ]
  },
  {
   "cell_type": "code",
   "execution_count": 9,
   "id": "b85299b0",
   "metadata": {},
   "outputs": [],
   "source": [
    "#create a uniform separator for the ship date column\n",
    "raw['ship_date']=raw['ship_date'].str.replace('/','-')"
   ]
  },
  {
   "cell_type": "code",
   "execution_count": 10,
   "id": "57e24718",
   "metadata": {},
   "outputs": [
    {
     "data": {
      "text/plain": [
       "0          1-1-2011\n",
       "1          1-1-2011\n",
       "2          1-1-2011\n",
       "3          1-1-2011\n",
       "4          1-1-2011\n",
       "            ...    \n",
       "51285    31-12-2014\n",
       "51286    31-12-2014\n",
       "51287    31-12-2014\n",
       "51288    31-12-2014\n",
       "51289    31-12-2014\n",
       "Name: order_date, Length: 51290, dtype: object"
      ]
     },
     "execution_count": 10,
     "metadata": {},
     "output_type": "execute_result"
    }
   ],
   "source": [
    "#order date formats in both d/m/Y and Y/m/d formats\n",
    "raw['order_date']"
   ]
  },
  {
   "cell_type": "code",
   "execution_count": 11,
   "id": "118d050b",
   "metadata": {},
   "outputs": [],
   "source": [
    "#convert order date column from string to datetime\n",
    "raw['order_date']=pd.to_datetime(raw['order_date'], format='%d-%m-%Y')"
   ]
  },
  {
   "cell_type": "code",
   "execution_count": 12,
   "id": "b47c9418",
   "metadata": {},
   "outputs": [],
   "source": [
    "#convert ship date column from string to datetime\n",
    "raw['ship_date']=pd.to_datetime(raw['ship_date'], errors='coerce')"
   ]
  },
  {
   "cell_type": "code",
   "execution_count": 13,
   "id": "7349fc63",
   "metadata": {},
   "outputs": [
    {
     "data": {
      "text/plain": [
       "dtype('<M8[ns]')"
      ]
     },
     "execution_count": 13,
     "metadata": {},
     "output_type": "execute_result"
    }
   ],
   "source": [
    "raw['order_date'].dtype"
   ]
  },
  {
   "cell_type": "markdown",
   "id": "7808467f",
   "metadata": {},
   "source": [
    "**EDA**"
   ]
  },
  {
   "cell_type": "code",
   "execution_count": 14,
   "id": "90cc090c",
   "metadata": {},
   "outputs": [
    {
     "data": {
      "text/html": [
       "<div>\n",
       "<style scoped>\n",
       "    .dataframe tbody tr th:only-of-type {\n",
       "        vertical-align: middle;\n",
       "    }\n",
       "\n",
       "    .dataframe tbody tr th {\n",
       "        vertical-align: top;\n",
       "    }\n",
       "\n",
       "    .dataframe thead th {\n",
       "        text-align: right;\n",
       "    }\n",
       "</style>\n",
       "<table border=\"1\" class=\"dataframe\">\n",
       "  <thead>\n",
       "    <tr style=\"text-align: right;\">\n",
       "      <th></th>\n",
       "      <th>order_date</th>\n",
       "      <th>ship_date</th>\n",
       "      <th>sales</th>\n",
       "      <th>quantity</th>\n",
       "      <th>discount</th>\n",
       "      <th>profit</th>\n",
       "      <th>shipping_cost</th>\n",
       "      <th>year</th>\n",
       "    </tr>\n",
       "  </thead>\n",
       "  <tbody>\n",
       "    <tr>\n",
       "      <th>count</th>\n",
       "      <td>51290</td>\n",
       "      <td>19834</td>\n",
       "      <td>51290.000000</td>\n",
       "      <td>51290.000000</td>\n",
       "      <td>51290.000000</td>\n",
       "      <td>51290.000000</td>\n",
       "      <td>51290.000000</td>\n",
       "      <td>51290.000000</td>\n",
       "    </tr>\n",
       "    <tr>\n",
       "      <th>mean</th>\n",
       "      <td>2013-05-11 21:26:49.155780864</td>\n",
       "      <td>2013-04-14 00:24:19.312292096</td>\n",
       "      <td>246.498440</td>\n",
       "      <td>3.476545</td>\n",
       "      <td>0.142908</td>\n",
       "      <td>28.641740</td>\n",
       "      <td>26.375915</td>\n",
       "      <td>2012.777208</td>\n",
       "    </tr>\n",
       "    <tr>\n",
       "      <th>min</th>\n",
       "      <td>2011-01-01 00:00:00</td>\n",
       "      <td>2011-01-02 00:00:00</td>\n",
       "      <td>0.000000</td>\n",
       "      <td>1.000000</td>\n",
       "      <td>0.000000</td>\n",
       "      <td>-6599.978000</td>\n",
       "      <td>0.000000</td>\n",
       "      <td>2011.000000</td>\n",
       "    </tr>\n",
       "    <tr>\n",
       "      <th>25%</th>\n",
       "      <td>2012-06-19 00:00:00</td>\n",
       "      <td>2012-05-09 00:00:00</td>\n",
       "      <td>31.000000</td>\n",
       "      <td>2.000000</td>\n",
       "      <td>0.000000</td>\n",
       "      <td>0.000000</td>\n",
       "      <td>2.610000</td>\n",
       "      <td>2012.000000</td>\n",
       "    </tr>\n",
       "    <tr>\n",
       "      <th>50%</th>\n",
       "      <td>2013-07-08 00:00:00</td>\n",
       "      <td>2013-06-05 00:00:00</td>\n",
       "      <td>85.000000</td>\n",
       "      <td>3.000000</td>\n",
       "      <td>0.000000</td>\n",
       "      <td>9.240000</td>\n",
       "      <td>7.790000</td>\n",
       "      <td>2013.000000</td>\n",
       "    </tr>\n",
       "    <tr>\n",
       "      <th>75%</th>\n",
       "      <td>2014-05-22 00:00:00</td>\n",
       "      <td>2014-04-08 00:00:00</td>\n",
       "      <td>251.000000</td>\n",
       "      <td>5.000000</td>\n",
       "      <td>0.200000</td>\n",
       "      <td>36.810000</td>\n",
       "      <td>24.450000</td>\n",
       "      <td>2014.000000</td>\n",
       "    </tr>\n",
       "    <tr>\n",
       "      <th>max</th>\n",
       "      <td>2014-12-31 00:00:00</td>\n",
       "      <td>2015-07-01 00:00:00</td>\n",
       "      <td>22638.000000</td>\n",
       "      <td>14.000000</td>\n",
       "      <td>0.850000</td>\n",
       "      <td>8399.976000</td>\n",
       "      <td>933.570000</td>\n",
       "      <td>2014.000000</td>\n",
       "    </tr>\n",
       "    <tr>\n",
       "      <th>std</th>\n",
       "      <td>NaN</td>\n",
       "      <td>NaN</td>\n",
       "      <td>487.567175</td>\n",
       "      <td>2.278766</td>\n",
       "      <td>0.212280</td>\n",
       "      <td>174.424113</td>\n",
       "      <td>57.296804</td>\n",
       "      <td>1.098931</td>\n",
       "    </tr>\n",
       "  </tbody>\n",
       "</table>\n",
       "</div>"
      ],
      "text/plain": [
       "                          order_date                      ship_date   \n",
       "count                          51290                          19834  \\\n",
       "mean   2013-05-11 21:26:49.155780864  2013-04-14 00:24:19.312292096   \n",
       "min              2011-01-01 00:00:00            2011-01-02 00:00:00   \n",
       "25%              2012-06-19 00:00:00            2012-05-09 00:00:00   \n",
       "50%              2013-07-08 00:00:00            2013-06-05 00:00:00   \n",
       "75%              2014-05-22 00:00:00            2014-04-08 00:00:00   \n",
       "max              2014-12-31 00:00:00            2015-07-01 00:00:00   \n",
       "std                              NaN                            NaN   \n",
       "\n",
       "              sales      quantity      discount        profit  shipping_cost   \n",
       "count  51290.000000  51290.000000  51290.000000  51290.000000   51290.000000  \\\n",
       "mean     246.498440      3.476545      0.142908     28.641740      26.375915   \n",
       "min        0.000000      1.000000      0.000000  -6599.978000       0.000000   \n",
       "25%       31.000000      2.000000      0.000000      0.000000       2.610000   \n",
       "50%       85.000000      3.000000      0.000000      9.240000       7.790000   \n",
       "75%      251.000000      5.000000      0.200000     36.810000      24.450000   \n",
       "max    22638.000000     14.000000      0.850000   8399.976000     933.570000   \n",
       "std      487.567175      2.278766      0.212280    174.424113      57.296804   \n",
       "\n",
       "               year  \n",
       "count  51290.000000  \n",
       "mean    2012.777208  \n",
       "min     2011.000000  \n",
       "25%     2012.000000  \n",
       "50%     2013.000000  \n",
       "75%     2014.000000  \n",
       "max     2014.000000  \n",
       "std        1.098931  "
      ]
     },
     "execution_count": 14,
     "metadata": {},
     "output_type": "execute_result"
    }
   ],
   "source": [
    "#Basic descriptive statistics of the dataset\n",
    "raw.describe()"
   ]
  },
  {
   "cell_type": "code",
   "execution_count": 15,
   "id": "875ea449",
   "metadata": {
    "scrolled": true
   },
   "outputs": [
    {
     "data": {
      "text/plain": [
       "order_id          25035\n",
       "order_date         1430\n",
       "ship_date           580\n",
       "ship_mode             4\n",
       "customer_name       795\n",
       "segment               3\n",
       "state              1094\n",
       "country             147\n",
       "market                7\n",
       "region               13\n",
       "product_id        10292\n",
       "category              3\n",
       "sub_category         17\n",
       "product_name       3788\n",
       "sales              2246\n",
       "quantity             14\n",
       "discount             27\n",
       "profit            24575\n",
       "shipping_cost     10037\n",
       "order_priority        4\n",
       "year                  4\n",
       "dtype: int64"
      ]
     },
     "execution_count": 15,
     "metadata": {},
     "output_type": "execute_result"
    }
   ],
   "source": [
    "#getting the number uniuque values\n",
    "raw.nunique()"
   ]
  },
  {
   "cell_type": "code",
   "execution_count": 31,
   "id": "057b06d4",
   "metadata": {},
   "outputs": [
    {
     "data": {
      "text/plain": [
       "(51290, 23)"
      ]
     },
     "execution_count": 31,
     "metadata": {},
     "output_type": "execute_result"
    }
   ],
   "source": [
    "raw.shape"
   ]
  },
  {
   "cell_type": "markdown",
   "id": "209de72c",
   "metadata": {},
   "source": [
    "**Variable Selection**"
   ]
  },
  {
   "cell_type": "markdown",
   "id": "09db9475",
   "metadata": {},
   "source": [
    "1  Does the shipping mode have a significant impact on the average order quantity?\n",
    "\n",
    "For this we are interested in the Mode of shipping and the order qty\n"
   ]
  },
  {
   "cell_type": "code",
   "execution_count": 34,
   "id": "5508881d",
   "metadata": {},
   "outputs": [],
   "source": [
    "#subseting the dataset\n",
    "\n",
    "\n",
    "#Question : shipping mode vs Quantity\n",
    "std_class=raw[raw['ship_mode']=='Standard Class']['quantity']\n",
    "first_class=raw[raw['ship_mode']=='First Class']['quantity']\n",
    "second_class=raw[raw['ship_mode']=='Second Class']['quantity']\n",
    "same_day=raw[raw['ship_mode']=='Same Day']['quantity']"
   ]
  },
  {
   "cell_type": "code",
   "execution_count": 21,
   "id": "201a003b",
   "metadata": {},
   "outputs": [],
   "source": [
    "Significance_level=0.05"
   ]
  },
  {
   "cell_type": "code",
   "execution_count": 35,
   "id": "25fb0025",
   "metadata": {},
   "outputs": [
    {
     "name": "stdout",
     "output_type": "stream",
     "text": [
      "Sample Size - Standard Class: 30775\n",
      "Sample Size - First Class: 7505\n",
      "Sample Size - Second Class: 10309\n",
      "Sample Size - Same Day: 2701\n"
     ]
    }
   ],
   "source": [
    "#check for the sample sizes for each of the subsets to ensure fairness\n",
    "sample_size_std_class = len(std_class)\n",
    "sample_size_first_class = len(first_class)\n",
    "sample_size_second_class = len(second_class)\n",
    "sample_size_same_day = len(same_day)\n",
    "\n",
    "print(\"Sample Size - Standard Class:\", sample_size_std_class)\n",
    "print(\"Sample Size - First Class:\", sample_size_first_class)\n",
    "print(\"Sample Size - Second Class:\", sample_size_second_class)\n",
    "print(\"Sample Size - Same Day:\", sample_size_same_day)\n"
   ]
  },
  {
   "cell_type": "code",
   "execution_count": 46,
   "id": "f091581c",
   "metadata": {},
   "outputs": [
    {
     "name": "stdout",
     "output_type": "stream",
     "text": [
      "shipping mode mean 3.631 3.561 3.548 3.448\n"
     ]
    }
   ],
   "source": [
    "#caluclating the average order quantity of shiping modes\n",
    "std_class_mean=std_class_sample.mean()\n",
    "first_class_mean=first_class_sample.mean()\n",
    "second_class_mean=second_class_sample.mean()\n",
    "same_day_mean=same_day_sample.mean()\n",
    "\n",
    "\n",
    "print('shipping mode mean', std_class_mean,first_class_mean,second_class_mean, same_day_mean)"
   ]
  },
  {
   "cell_type": "markdown",
   "id": "3b832f69",
   "metadata": {},
   "source": [
    "**Hypothesis Definition**"
   ]
  },
  {
   "cell_type": "markdown",
   "id": "b872efbb",
   "metadata": {},
   "source": [
    "Hypothesis Testing for **Standard Class**\n",
    "\n",
    "H0: There is no significant impact between standard class shipping mode and order quantity\n",
    "    \n",
    "H1: There is a significant diffeence between standrad class shipping mode and order quantity"
   ]
  },
  {
   "cell_type": "markdown",
   "id": "05cfbcfc",
   "metadata": {},
   "source": [
    "Hypothesis Testing for **First Class**\n",
    "\n",
    "H0: There is no significant impact between First class shipping mode and order quantity\n",
    "    \n",
    "H1: There is a significant diffeence between First class shipping mode and order quantity"
   ]
  },
  {
   "cell_type": "markdown",
   "id": "44d09a0c",
   "metadata": {},
   "source": [
    "Hypothesis Testing for **Second Class**\n",
    "\n",
    "H0: There is no significant impact between Second class shipping mode and order quantity\n",
    "    \n",
    "H1: There is a significant diffeence between Second class shipping mode and order quantity"
   ]
  },
  {
   "cell_type": "markdown",
   "id": "a402409e",
   "metadata": {},
   "source": [
    "Hypothesis Testing for **Same Day**\n",
    "\n",
    "H0: There is no significant impact between same day shipping mode and order quantity\n",
    "    \n",
    "H1: There is a significant diffeence between same day shipping mode and order quantity"
   ]
  },
  {
   "cell_type": "code",
   "execution_count": 45,
   "id": "e9b20009",
   "metadata": {},
   "outputs": [
    {
     "name": "stdout",
     "output_type": "stream",
     "text": [
      "T-statistic: 0.6056396206637537\n",
      "P-value: 0.5447660140814421\n"
     ]
    }
   ],
   "source": [
    "\n",
    "# t-test for standard class and first class\n",
    "t_stat, p_value = stats.ttest_ind(std_class, first_class, equal_var=False)\n",
    "\n",
    "print(\"T-statistic:\", t_stat)\n",
    "print(\"P-value:\", p_value)"
   ]
  },
  {
   "cell_type": "markdown",
   "id": "e0330920",
   "metadata": {},
   "source": [
    "**Interpretation**"
   ]
  },
  {
   "cell_type": "markdown",
   "id": "611d33b1",
   "metadata": {},
   "source": [
    "Interpretation:\n",
    "Since the p-value (0.5448) is greater than the significance level of 5% or 0.05, we fail to reject the null hypothesis. This means that there is not enough evidence to conclude that there is a significant difference in the average order quantities between Standard Class and First Class shipping modes.\n",
    "\n",
    "In other words, based on the sample data, we do not have sufficient evidence to suggest that the choice of shipping mode (Standard Class vs. First Class) has a significant impact on the average order quantity. That is, it is merely by chance."
   ]
  },
  {
   "cell_type": "code",
   "execution_count": 48,
   "id": "a9187c9b",
   "metadata": {},
   "outputs": [
    {
     "name": "stdout",
     "output_type": "stream",
     "text": [
      "T-statistic: 0.9904815564369654\n",
      "P-value: 0.3219943551639985\n"
     ]
    }
   ],
   "source": [
    "# t-test for standard class and first class\n",
    "t_stat, p_value = stats.ttest_ind(second_class, same_day, equal_var=False)\n",
    "\n",
    "print(\"T-statistic:\", t_stat)\n",
    "print(\"P-value:\", p_value)"
   ]
  },
  {
   "cell_type": "markdown",
   "id": "bfbb49e7",
   "metadata": {},
   "source": [
    "**Interpretation**"
   ]
  },
  {
   "cell_type": "markdown",
   "id": "12d0c280",
   "metadata": {},
   "source": [
    "Interpretation: Since the p-value (0.3219) is greater than the significance level of 5% or 0.05, we fail to reject the null hypothesis. This means that there is no statistically significant evidence to conclude that there is a significant difference in the average order quantities between Second Class and Same Day shipping modes.\n",
    "\n",
    "In other words, based on the sample data, we do not have sufficient evidence to suggest that the choice of shipping mode (Second Class vs Same Day) has a significant impact on the average order quantity. That is, it is merely by chance."
   ]
  },
  {
   "cell_type": "markdown",
   "id": "7672befc",
   "metadata": {},
   "source": [
    "**Business Insights**"
   ]
  },
  {
   "cell_type": "markdown",
   "id": "2b8174cc",
   "metadata": {},
   "source": [
    "From a statistical standpoint, the choice of shipping mode (Standard Class or First Class), (second class vs same day) does not appear to have a significant impact on the average order quantity. Therefore, other factors such as pricing, product selection, customer service, or marketing efforts may have a more significant influence on order quantities.\n",
    "\n",
    "Additionally, further analysis and consideration of other factors are recommended to gain a comprehensive understanding of the relationships between shipping modes and order quantities"
   ]
  },
  {
   "cell_type": "code",
   "execution_count": null,
   "id": "fb3c5292",
   "metadata": {},
   "outputs": [],
   "source": []
  }
 ],
 "metadata": {
  "kernelspec": {
   "display_name": "Python 3 (ipykernel)",
   "language": "python",
   "name": "python3"
  },
  "language_info": {
   "codemirror_mode": {
    "name": "ipython",
    "version": 3
   },
   "file_extension": ".py",
   "mimetype": "text/x-python",
   "name": "python",
   "nbconvert_exporter": "python",
   "pygments_lexer": "ipython3",
   "version": "3.9.12"
  }
 },
 "nbformat": 4,
 "nbformat_minor": 5
}
