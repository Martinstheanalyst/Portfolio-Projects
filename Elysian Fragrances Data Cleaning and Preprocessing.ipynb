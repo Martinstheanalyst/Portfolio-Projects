{
 "cells": [
  {
   "cell_type": "code",
   "execution_count": 1,
   "id": "dcc95972",
   "metadata": {},
   "outputs": [],
   "source": [
    "#Lets Import the packages\n",
    "import pandas as pd"
   ]
  },
  {
   "cell_type": "code",
   "execution_count": 2,
   "id": "65e7cb33",
   "metadata": {},
   "outputs": [
    {
     "data": {
      "text/html": [
       "<div>\n",
       "<style scoped>\n",
       "    .dataframe tbody tr th:only-of-type {\n",
       "        vertical-align: middle;\n",
       "    }\n",
       "\n",
       "    .dataframe tbody tr th {\n",
       "        vertical-align: top;\n",
       "    }\n",
       "\n",
       "    .dataframe thead th {\n",
       "        text-align: right;\n",
       "    }\n",
       "</style>\n",
       "<table border=\"1\" class=\"dataframe\">\n",
       "  <thead>\n",
       "    <tr style=\"text-align: right;\">\n",
       "      <th></th>\n",
       "      <th>Customer ID</th>\n",
       "      <th>Product Name</th>\n",
       "      <th>Sentiment</th>\n",
       "      <th>Category</th>\n",
       "      <th>User Type</th>\n",
       "      <th>Gender</th>\n",
       "      <th>Age</th>\n",
       "      <th>Price</th>\n",
       "      <th>Cost Price</th>\n",
       "      <th>Quantity</th>\n",
       "      <th>Payment Method</th>\n",
       "      <th>City</th>\n",
       "      <th>Country</th>\n",
       "      <th>Bottle Size</th>\n",
       "      <th>Discount</th>\n",
       "      <th>Purchase Date</th>\n",
       "      <th>Rating</th>\n",
       "      <th>Oil Content Percentage</th>\n",
       "    </tr>\n",
       "    <tr>\n",
       "      <th>Sales ID</th>\n",
       "      <th></th>\n",
       "      <th></th>\n",
       "      <th></th>\n",
       "      <th></th>\n",
       "      <th></th>\n",
       "      <th></th>\n",
       "      <th></th>\n",
       "      <th></th>\n",
       "      <th></th>\n",
       "      <th></th>\n",
       "      <th></th>\n",
       "      <th></th>\n",
       "      <th></th>\n",
       "      <th></th>\n",
       "      <th></th>\n",
       "      <th></th>\n",
       "      <th></th>\n",
       "      <th></th>\n",
       "    </tr>\n",
       "  </thead>\n",
       "  <tbody>\n",
       "    <tr>\n",
       "      <th>sid1</th>\n",
       "      <td>NaN</td>\n",
       "      <td>Aqua</td>\n",
       "      <td>Positive</td>\n",
       "      <td>eau de parfum</td>\n",
       "      <td>uni</td>\n",
       "      <td>f</td>\n",
       "      <td>150</td>\n",
       "      <td>325.044124</td>\n",
       "      <td>82.724641</td>\n",
       "      <td>NaN</td>\n",
       "      <td>PayPal</td>\n",
       "      <td>Sydney</td>\n",
       "      <td>NaN</td>\n",
       "      <td>100ml</td>\n",
       "      <td>NaN</td>\n",
       "      <td>2</td>\n",
       "      <td>2022-06-12</td>\n",
       "      <td>NaN</td>\n",
       "    </tr>\n",
       "    <tr>\n",
       "      <th>sid2</th>\n",
       "      <td>cid18393</td>\n",
       "      <td>Dusk</td>\n",
       "      <td>Positive</td>\n",
       "      <td>eau de cologne</td>\n",
       "      <td>Women</td>\n",
       "      <td>F</td>\n",
       "      <td>37</td>\n",
       "      <td>98.222536</td>\n",
       "      <td>58.933522</td>\n",
       "      <td>8.0</td>\n",
       "      <td>Card</td>\n",
       "      <td>Tokyo</td>\n",
       "      <td>Japan</td>\n",
       "      <td>50ml</td>\n",
       "      <td>81.11</td>\n",
       "      <td>2017-07-26</td>\n",
       "      <td>5</td>\n",
       "      <td>2%</td>\n",
       "    </tr>\n",
       "    <tr>\n",
       "      <th>sid3</th>\n",
       "      <td>cid3108</td>\n",
       "      <td>Aqua</td>\n",
       "      <td>Positive</td>\n",
       "      <td>eau de cologne</td>\n",
       "      <td>Women</td>\n",
       "      <td>M</td>\n",
       "      <td>34</td>\n",
       "      <td>143.470592</td>\n",
       "      <td>100.429415</td>\n",
       "      <td>2.0</td>\n",
       "      <td>Bank Transfer</td>\n",
       "      <td>Tokyo</td>\n",
       "      <td>Japan</td>\n",
       "      <td>30ml</td>\n",
       "      <td>36.22</td>\n",
       "      <td>2019-12-23</td>\n",
       "      <td>1</td>\n",
       "      <td>2%</td>\n",
       "    </tr>\n",
       "    <tr>\n",
       "      <th>sid4</th>\n",
       "      <td>cid181</td>\n",
       "      <td>Elixir</td>\n",
       "      <td>Positive</td>\n",
       "      <td>eau de cologne</td>\n",
       "      <td>Unisex</td>\n",
       "      <td>F</td>\n",
       "      <td>150</td>\n",
       "      <td>747.300840</td>\n",
       "      <td>176.283608</td>\n",
       "      <td>4.0</td>\n",
       "      <td>Card</td>\n",
       "      <td>London</td>\n",
       "      <td>UK</td>\n",
       "      <td>200ml</td>\n",
       "      <td>15.25</td>\n",
       "      <td>2018-05-06</td>\n",
       "      <td>4</td>\n",
       "      <td>4%</td>\n",
       "    </tr>\n",
       "    <tr>\n",
       "      <th>sid5</th>\n",
       "      <td>cid48531</td>\n",
       "      <td>Dusk</td>\n",
       "      <td>Positive</td>\n",
       "      <td>eau de cologne</td>\n",
       "      <td>Women</td>\n",
       "      <td>F</td>\n",
       "      <td>30</td>\n",
       "      <td>62.294481</td>\n",
       "      <td>37.376689</td>\n",
       "      <td>2.0</td>\n",
       "      <td>Cash</td>\n",
       "      <td>London</td>\n",
       "      <td>UK</td>\n",
       "      <td>30ml</td>\n",
       "      <td>44.53</td>\n",
       "      <td>2022-07-26</td>\n",
       "      <td>3</td>\n",
       "      <td>4%</td>\n",
       "    </tr>\n",
       "    <tr>\n",
       "      <th>...</th>\n",
       "      <td>...</td>\n",
       "      <td>...</td>\n",
       "      <td>...</td>\n",
       "      <td>...</td>\n",
       "      <td>...</td>\n",
       "      <td>...</td>\n",
       "      <td>...</td>\n",
       "      <td>...</td>\n",
       "      <td>...</td>\n",
       "      <td>...</td>\n",
       "      <td>...</td>\n",
       "      <td>...</td>\n",
       "      <td>...</td>\n",
       "      <td>...</td>\n",
       "      <td>...</td>\n",
       "      <td>...</td>\n",
       "      <td>...</td>\n",
       "      <td>...</td>\n",
       "    </tr>\n",
       "    <tr>\n",
       "      <th>sid199996</th>\n",
       "      <td>cid829</td>\n",
       "      <td>Aqua</td>\n",
       "      <td>Positive</td>\n",
       "      <td>eau de cologne</td>\n",
       "      <td>woman</td>\n",
       "      <td>f</td>\n",
       "      <td>150</td>\n",
       "      <td>968.206715</td>\n",
       "      <td>42.376160</td>\n",
       "      <td>1.0</td>\n",
       "      <td>Card</td>\n",
       "      <td>London</td>\n",
       "      <td>UK</td>\n",
       "      <td>100ml</td>\n",
       "      <td>78.94</td>\n",
       "      <td>2021-08-28</td>\n",
       "      <td>1</td>\n",
       "      <td>3%</td>\n",
       "    </tr>\n",
       "    <tr>\n",
       "      <th>sid199997</th>\n",
       "      <td>cid49485</td>\n",
       "      <td>Belle</td>\n",
       "      <td>Neutral</td>\n",
       "      <td>eau de cologne</td>\n",
       "      <td>Women</td>\n",
       "      <td>M</td>\n",
       "      <td>22</td>\n",
       "      <td>137.624430</td>\n",
       "      <td>96.337101</td>\n",
       "      <td>2.0</td>\n",
       "      <td>Card</td>\n",
       "      <td>Dubai</td>\n",
       "      <td>UAE</td>\n",
       "      <td>200ml</td>\n",
       "      <td>49.95</td>\n",
       "      <td>2020-12-20</td>\n",
       "      <td>12</td>\n",
       "      <td>4%</td>\n",
       "    </tr>\n",
       "    <tr>\n",
       "      <th>sid199998</th>\n",
       "      <td>cid42688</td>\n",
       "      <td>Elixir</td>\n",
       "      <td>Neutral</td>\n",
       "      <td>eau de cologne</td>\n",
       "      <td>Unisex</td>\n",
       "      <td>F</td>\n",
       "      <td>42</td>\n",
       "      <td>282.438277</td>\n",
       "      <td>225.950621</td>\n",
       "      <td>NaN</td>\n",
       "      <td>Bank Transfer</td>\n",
       "      <td>Paris</td>\n",
       "      <td>France</td>\n",
       "      <td>50ml</td>\n",
       "      <td>52.24</td>\n",
       "      <td>2022-02-27</td>\n",
       "      <td>1</td>\n",
       "      <td>3%</td>\n",
       "    </tr>\n",
       "    <tr>\n",
       "      <th>sid199999</th>\n",
       "      <td>cid45803</td>\n",
       "      <td>Dusk</td>\n",
       "      <td>Negative</td>\n",
       "      <td>eau de cologne</td>\n",
       "      <td>Women</td>\n",
       "      <td>M</td>\n",
       "      <td>150</td>\n",
       "      <td>950.425435</td>\n",
       "      <td>59.397882</td>\n",
       "      <td>4.0</td>\n",
       "      <td>Card</td>\n",
       "      <td>London</td>\n",
       "      <td>UK</td>\n",
       "      <td>100ml</td>\n",
       "      <td>74.91</td>\n",
       "      <td>2022-03-05</td>\n",
       "      <td>1</td>\n",
       "      <td>4%</td>\n",
       "    </tr>\n",
       "    <tr>\n",
       "      <th>sid200000</th>\n",
       "      <td>cid22146</td>\n",
       "      <td>Elixir</td>\n",
       "      <td>Positive</td>\n",
       "      <td>eau de cologne</td>\n",
       "      <td>Men</td>\n",
       "      <td>F</td>\n",
       "      <td>25</td>\n",
       "      <td>196.077214</td>\n",
       "      <td>137.254050</td>\n",
       "      <td>3.0</td>\n",
       "      <td>Card</td>\n",
       "      <td>Sydney</td>\n",
       "      <td>Australia</td>\n",
       "      <td>75ml</td>\n",
       "      <td>49.39</td>\n",
       "      <td>2019-01-30</td>\n",
       "      <td>4</td>\n",
       "      <td>4%</td>\n",
       "    </tr>\n",
       "  </tbody>\n",
       "</table>\n",
       "<p>200000 rows × 18 columns</p>\n",
       "</div>"
      ],
      "text/plain": [
       "          Customer ID Product Name Sentiment        Category User Type Gender   \n",
       "Sales ID                                                                        \n",
       "sid1              NaN         Aqua  Positive   eau de parfum       uni      f  \\\n",
       "sid2         cid18393         Dusk  Positive  eau de cologne     Women      F   \n",
       "sid3          cid3108         Aqua  Positive  eau de cologne     Women      M   \n",
       "sid4           cid181       Elixir  Positive  eau de cologne    Unisex      F   \n",
       "sid5         cid48531         Dusk  Positive  eau de cologne     Women      F   \n",
       "...               ...          ...       ...             ...       ...    ...   \n",
       "sid199996      cid829         Aqua  Positive  eau de cologne     woman      f   \n",
       "sid199997    cid49485        Belle   Neutral  eau de cologne     Women      M   \n",
       "sid199998    cid42688       Elixir   Neutral  eau de cologne    Unisex      F   \n",
       "sid199999    cid45803         Dusk  Negative  eau de cologne     Women      M   \n",
       "sid200000    cid22146       Elixir  Positive  eau de cologne       Men      F   \n",
       "\n",
       "           Age       Price  Cost Price  Quantity Payment Method    City   \n",
       "Sales ID                                                                  \n",
       "sid1       150  325.044124   82.724641       NaN         PayPal  Sydney  \\\n",
       "sid2        37   98.222536   58.933522       8.0           Card   Tokyo   \n",
       "sid3        34  143.470592  100.429415       2.0  Bank Transfer   Tokyo   \n",
       "sid4       150  747.300840  176.283608       4.0           Card  London   \n",
       "sid5        30   62.294481   37.376689       2.0           Cash  London   \n",
       "...        ...         ...         ...       ...            ...     ...   \n",
       "sid199996  150  968.206715   42.376160       1.0           Card  London   \n",
       "sid199997   22  137.624430   96.337101       2.0           Card   Dubai   \n",
       "sid199998   42  282.438277  225.950621       NaN  Bank Transfer   Paris   \n",
       "sid199999  150  950.425435   59.397882       4.0           Card  London   \n",
       "sid200000   25  196.077214  137.254050       3.0           Card  Sydney   \n",
       "\n",
       "             Country Bottle Size  Discount Purchase Date      Rating   \n",
       "Sales ID                                                               \n",
       "sid1             NaN       100ml       NaN             2  2022-06-12  \\\n",
       "sid2           Japan        50ml     81.11    2017-07-26           5   \n",
       "sid3           Japan        30ml     36.22    2019-12-23           1   \n",
       "sid4              UK       200ml     15.25    2018-05-06           4   \n",
       "sid5              UK        30ml     44.53    2022-07-26           3   \n",
       "...              ...         ...       ...           ...         ...   \n",
       "sid199996         UK       100ml     78.94    2021-08-28           1   \n",
       "sid199997        UAE       200ml     49.95    2020-12-20          12   \n",
       "sid199998     France        50ml     52.24    2022-02-27           1   \n",
       "sid199999         UK       100ml     74.91    2022-03-05           1   \n",
       "sid200000  Australia        75ml     49.39    2019-01-30           4   \n",
       "\n",
       "          Oil Content Percentage  \n",
       "Sales ID                          \n",
       "sid1                         NaN  \n",
       "sid2                          2%  \n",
       "sid3                          2%  \n",
       "sid4                          4%  \n",
       "sid5                          4%  \n",
       "...                          ...  \n",
       "sid199996                     3%  \n",
       "sid199997                     4%  \n",
       "sid199998                     3%  \n",
       "sid199999                     4%  \n",
       "sid200000                     4%  \n",
       "\n",
       "[200000 rows x 18 columns]"
      ]
     },
     "execution_count": 2,
     "metadata": {},
     "output_type": "execute_result"
    }
   ],
   "source": [
    "#lets import the first dataset.\n",
    "raw_data_1=pd.read_csv(\"messy_dataset.csv\", index_col='Sales ID')\n",
    "raw_data_1"
   ]
  },
  {
   "cell_type": "code",
   "execution_count": 3,
   "id": "991860d9",
   "metadata": {},
   "outputs": [
    {
     "data": {
      "text/html": [
       "<div>\n",
       "<style scoped>\n",
       "    .dataframe tbody tr th:only-of-type {\n",
       "        vertical-align: middle;\n",
       "    }\n",
       "\n",
       "    .dataframe tbody tr th {\n",
       "        vertical-align: top;\n",
       "    }\n",
       "\n",
       "    .dataframe thead th {\n",
       "        text-align: right;\n",
       "    }\n",
       "</style>\n",
       "<table border=\"1\" class=\"dataframe\">\n",
       "  <thead>\n",
       "    <tr style=\"text-align: right;\">\n",
       "      <th></th>\n",
       "      <th>Customer ID</th>\n",
       "      <th>Product Name</th>\n",
       "      <th>Sentiment</th>\n",
       "      <th>Category</th>\n",
       "      <th>User Type</th>\n",
       "      <th>Gender</th>\n",
       "      <th>Age</th>\n",
       "      <th>Price</th>\n",
       "      <th>Cost Price</th>\n",
       "      <th>Quantity</th>\n",
       "      <th>Payment Method</th>\n",
       "      <th>City</th>\n",
       "      <th>Country</th>\n",
       "      <th>Bottle Size</th>\n",
       "      <th>Discount</th>\n",
       "      <th>Purchase Date</th>\n",
       "      <th>Rating</th>\n",
       "      <th>Oil Content Percentage</th>\n",
       "    </tr>\n",
       "    <tr>\n",
       "      <th>Sales ID</th>\n",
       "      <th></th>\n",
       "      <th></th>\n",
       "      <th></th>\n",
       "      <th></th>\n",
       "      <th></th>\n",
       "      <th></th>\n",
       "      <th></th>\n",
       "      <th></th>\n",
       "      <th></th>\n",
       "      <th></th>\n",
       "      <th></th>\n",
       "      <th></th>\n",
       "      <th></th>\n",
       "      <th></th>\n",
       "      <th></th>\n",
       "      <th></th>\n",
       "      <th></th>\n",
       "      <th></th>\n",
       "    </tr>\n",
       "  </thead>\n",
       "  <tbody>\n",
       "    <tr>\n",
       "      <th>sid1</th>\n",
       "      <td>NaN</td>\n",
       "      <td>Elixir</td>\n",
       "      <td>NaN</td>\n",
       "      <td>eau de parfum</td>\n",
       "      <td>NaN</td>\n",
       "      <td>NaN</td>\n",
       "      <td>138</td>\n",
       "      <td>1387.501545</td>\n",
       "      <td>12.000000</td>\n",
       "      <td>NaN</td>\n",
       "      <td>Card</td>\n",
       "      <td>NaN</td>\n",
       "      <td>NaN</td>\n",
       "      <td>200ml</td>\n",
       "      <td>59.17</td>\n",
       "      <td>2018/02/02</td>\n",
       "      <td>5</td>\n",
       "      <td>NaN</td>\n",
       "    </tr>\n",
       "    <tr>\n",
       "      <th>sid2</th>\n",
       "      <td>cid36169</td>\n",
       "      <td>Ciel</td>\n",
       "      <td>Negative</td>\n",
       "      <td>eau de cologne</td>\n",
       "      <td>Women</td>\n",
       "      <td>M</td>\n",
       "      <td>34</td>\n",
       "      <td>279.875842</td>\n",
       "      <td>223.900674</td>\n",
       "      <td>4.0</td>\n",
       "      <td>Card</td>\n",
       "      <td>Dubai</td>\n",
       "      <td>UAE</td>\n",
       "      <td>50ml</td>\n",
       "      <td>67.47</td>\n",
       "      <td>2022/07/23</td>\n",
       "      <td>2</td>\n",
       "      <td>4%</td>\n",
       "    </tr>\n",
       "    <tr>\n",
       "      <th>sid3</th>\n",
       "      <td>cid33746</td>\n",
       "      <td>Elixir</td>\n",
       "      <td>Neutral</td>\n",
       "      <td>eau de toilette</td>\n",
       "      <td>Women</td>\n",
       "      <td>M</td>\n",
       "      <td>24</td>\n",
       "      <td>142.771487</td>\n",
       "      <td>85.662892</td>\n",
       "      <td>6.0</td>\n",
       "      <td>Card</td>\n",
       "      <td>Sydney</td>\n",
       "      <td>Australia</td>\n",
       "      <td>200ml</td>\n",
       "      <td>80.49</td>\n",
       "      <td>2022/02/03</td>\n",
       "      <td>3</td>\n",
       "      <td>7%</td>\n",
       "    </tr>\n",
       "    <tr>\n",
       "      <th>sid4</th>\n",
       "      <td>cid37443</td>\n",
       "      <td>Elixir</td>\n",
       "      <td>Neutral</td>\n",
       "      <td>eau de cologne</td>\n",
       "      <td>Unisex</td>\n",
       "      <td>M</td>\n",
       "      <td>84</td>\n",
       "      <td>6138.733384</td>\n",
       "      <td>358.031304</td>\n",
       "      <td>8.0</td>\n",
       "      <td>Cash</td>\n",
       "      <td>Sydney</td>\n",
       "      <td>Australia</td>\n",
       "      <td>50ml</td>\n",
       "      <td>66.83</td>\n",
       "      <td>2020/11/03</td>\n",
       "      <td>3</td>\n",
       "      <td>3%</td>\n",
       "    </tr>\n",
       "    <tr>\n",
       "      <th>sid5</th>\n",
       "      <td>cid29397</td>\n",
       "      <td>Dusk</td>\n",
       "      <td>Positive</td>\n",
       "      <td>eau de cologne</td>\n",
       "      <td>Men</td>\n",
       "      <td>F</td>\n",
       "      <td>19</td>\n",
       "      <td>123.026513</td>\n",
       "      <td>73.815908</td>\n",
       "      <td>4.0</td>\n",
       "      <td>Card</td>\n",
       "      <td>New York</td>\n",
       "      <td>USA</td>\n",
       "      <td>100ml</td>\n",
       "      <td>94.08</td>\n",
       "      <td>2021/01/14</td>\n",
       "      <td>3</td>\n",
       "      <td>3%</td>\n",
       "    </tr>\n",
       "    <tr>\n",
       "      <th>...</th>\n",
       "      <td>...</td>\n",
       "      <td>...</td>\n",
       "      <td>...</td>\n",
       "      <td>...</td>\n",
       "      <td>...</td>\n",
       "      <td>...</td>\n",
       "      <td>...</td>\n",
       "      <td>...</td>\n",
       "      <td>...</td>\n",
       "      <td>...</td>\n",
       "      <td>...</td>\n",
       "      <td>...</td>\n",
       "      <td>...</td>\n",
       "      <td>...</td>\n",
       "      <td>...</td>\n",
       "      <td>...</td>\n",
       "      <td>...</td>\n",
       "      <td>...</td>\n",
       "    </tr>\n",
       "    <tr>\n",
       "      <th>sid199996</th>\n",
       "      <td>cid42647</td>\n",
       "      <td>Ciel</td>\n",
       "      <td>Positive</td>\n",
       "      <td>NaN</td>\n",
       "      <td>Uni</td>\n",
       "      <td>f</td>\n",
       "      <td>66</td>\n",
       "      <td>5961.375604</td>\n",
       "      <td>48.243248</td>\n",
       "      <td>2.0</td>\n",
       "      <td>Card</td>\n",
       "      <td>London</td>\n",
       "      <td>UK</td>\n",
       "      <td>75ml</td>\n",
       "      <td>99.06</td>\n",
       "      <td>2017/12/19</td>\n",
       "      <td>3</td>\n",
       "      <td>3%</td>\n",
       "    </tr>\n",
       "    <tr>\n",
       "      <th>sid199997</th>\n",
       "      <td>cid38796</td>\n",
       "      <td>Dusk</td>\n",
       "      <td>Positive</td>\n",
       "      <td>eau de cologne</td>\n",
       "      <td>Unisex</td>\n",
       "      <td>M</td>\n",
       "      <td>28</td>\n",
       "      <td>191.383222</td>\n",
       "      <td>153.106578</td>\n",
       "      <td>2.0</td>\n",
       "      <td>Cash</td>\n",
       "      <td>Dubai</td>\n",
       "      <td>UAE</td>\n",
       "      <td>50ml</td>\n",
       "      <td>93.96</td>\n",
       "      <td>2017/06/05</td>\n",
       "      <td>1</td>\n",
       "      <td>3%</td>\n",
       "    </tr>\n",
       "    <tr>\n",
       "      <th>sid199998</th>\n",
       "      <td>cid49535</td>\n",
       "      <td>Ciel</td>\n",
       "      <td>Positive</td>\n",
       "      <td>eau de toilette</td>\n",
       "      <td>Women</td>\n",
       "      <td>F</td>\n",
       "      <td>30</td>\n",
       "      <td>112.734137</td>\n",
       "      <td>67.640482</td>\n",
       "      <td>NaN</td>\n",
       "      <td>NaN</td>\n",
       "      <td>Paris</td>\n",
       "      <td>France</td>\n",
       "      <td>100ml</td>\n",
       "      <td>0.87</td>\n",
       "      <td>2022/01/14</td>\n",
       "      <td>1</td>\n",
       "      <td>11%</td>\n",
       "    </tr>\n",
       "    <tr>\n",
       "      <th>sid199999</th>\n",
       "      <td>cid15939</td>\n",
       "      <td>Elixir</td>\n",
       "      <td>Negative</td>\n",
       "      <td>eau de cologne</td>\n",
       "      <td>Unisex</td>\n",
       "      <td>M</td>\n",
       "      <td>61</td>\n",
       "      <td>7362.003212</td>\n",
       "      <td>207.695361</td>\n",
       "      <td>9.0</td>\n",
       "      <td>Card</td>\n",
       "      <td>New York</td>\n",
       "      <td>USA</td>\n",
       "      <td>75ml</td>\n",
       "      <td>49.84</td>\n",
       "      <td>2019/11/06</td>\n",
       "      <td>4</td>\n",
       "      <td>3%</td>\n",
       "    </tr>\n",
       "    <tr>\n",
       "      <th>sid200000</th>\n",
       "      <td>cid12071</td>\n",
       "      <td>Elixir</td>\n",
       "      <td>Negative</td>\n",
       "      <td>eau de cologne</td>\n",
       "      <td>Unisex</td>\n",
       "      <td>F</td>\n",
       "      <td>29</td>\n",
       "      <td>168.874497</td>\n",
       "      <td>118.212148</td>\n",
       "      <td>1.0</td>\n",
       "      <td>Card</td>\n",
       "      <td>Dubai</td>\n",
       "      <td>UAE</td>\n",
       "      <td>100ml</td>\n",
       "      <td>28.27</td>\n",
       "      <td>2018/08/04</td>\n",
       "      <td>4</td>\n",
       "      <td>2%</td>\n",
       "    </tr>\n",
       "  </tbody>\n",
       "</table>\n",
       "<p>200000 rows × 18 columns</p>\n",
       "</div>"
      ],
      "text/plain": [
       "          Customer ID Product Name Sentiment         Category User Type   \n",
       "Sales ID                                                                  \n",
       "sid1              NaN       Elixir       NaN    eau de parfum       NaN  \\\n",
       "sid2         cid36169         Ciel  Negative   eau de cologne     Women   \n",
       "sid3         cid33746       Elixir   Neutral  eau de toilette     Women   \n",
       "sid4         cid37443       Elixir   Neutral   eau de cologne    Unisex   \n",
       "sid5         cid29397         Dusk  Positive   eau de cologne       Men   \n",
       "...               ...          ...       ...              ...       ...   \n",
       "sid199996    cid42647         Ciel  Positive              NaN       Uni   \n",
       "sid199997    cid38796         Dusk  Positive   eau de cologne    Unisex   \n",
       "sid199998    cid49535         Ciel  Positive  eau de toilette     Women   \n",
       "sid199999    cid15939       Elixir  Negative   eau de cologne    Unisex   \n",
       "sid200000    cid12071       Elixir  Negative   eau de cologne    Unisex   \n",
       "\n",
       "          Gender  Age        Price  Cost Price  Quantity Payment Method   \n",
       "Sales ID                                                                  \n",
       "sid1         NaN  138  1387.501545   12.000000       NaN           Card  \\\n",
       "sid2           M   34   279.875842  223.900674       4.0           Card   \n",
       "sid3           M   24   142.771487   85.662892       6.0           Card   \n",
       "sid4           M   84  6138.733384  358.031304       8.0           Cash   \n",
       "sid5           F   19   123.026513   73.815908       4.0           Card   \n",
       "...          ...  ...          ...         ...       ...            ...   \n",
       "sid199996      f   66  5961.375604   48.243248       2.0           Card   \n",
       "sid199997      M   28   191.383222  153.106578       2.0           Cash   \n",
       "sid199998      F   30   112.734137   67.640482       NaN            NaN   \n",
       "sid199999      M   61  7362.003212  207.695361       9.0           Card   \n",
       "sid200000      F   29   168.874497  118.212148       1.0           Card   \n",
       "\n",
       "               City    Country Bottle Size  Discount Purchase Date  Rating   \n",
       "Sales ID                                                                     \n",
       "sid1            NaN        NaN       200ml     59.17    2018/02/02       5  \\\n",
       "sid2          Dubai        UAE        50ml     67.47    2022/07/23       2   \n",
       "sid3         Sydney  Australia       200ml     80.49    2022/02/03       3   \n",
       "sid4         Sydney  Australia        50ml     66.83    2020/11/03       3   \n",
       "sid5       New York        USA       100ml     94.08    2021/01/14       3   \n",
       "...             ...        ...         ...       ...           ...     ...   \n",
       "sid199996    London         UK        75ml     99.06    2017/12/19       3   \n",
       "sid199997     Dubai        UAE        50ml     93.96    2017/06/05       1   \n",
       "sid199998     Paris     France       100ml      0.87    2022/01/14       1   \n",
       "sid199999  New York        USA        75ml     49.84    2019/11/06       4   \n",
       "sid200000     Dubai        UAE       100ml     28.27    2018/08/04       4   \n",
       "\n",
       "          Oil Content Percentage  \n",
       "Sales ID                          \n",
       "sid1                         NaN  \n",
       "sid2                          4%  \n",
       "sid3                          7%  \n",
       "sid4                          3%  \n",
       "sid5                          3%  \n",
       "...                          ...  \n",
       "sid199996                     3%  \n",
       "sid199997                     3%  \n",
       "sid199998                    11%  \n",
       "sid199999                     3%  \n",
       "sid200000                     2%  \n",
       "\n",
       "[200000 rows x 18 columns]"
      ]
     },
     "execution_count": 3,
     "metadata": {},
     "output_type": "execute_result"
    }
   ],
   "source": [
    "raw_data_2=pd.read_csv('dataset 5.csv', index_col='Sales ID')\n",
    "raw_data_2"
   ]
  },
  {
   "cell_type": "code",
   "execution_count": 4,
   "id": "cc778549",
   "metadata": {},
   "outputs": [],
   "source": [
    "#lets merge the two datasets together. We are only interested in the first 100 thousand rows for the each dataset\n",
    "df_raw=pd.concat([raw_data_1[:100000], raw_data_2[:100000]], axis =0)"
   ]
  },
  {
   "cell_type": "code",
   "execution_count": 5,
   "id": "d82f679d",
   "metadata": {},
   "outputs": [
    {
     "data": {
      "text/html": [
       "<div>\n",
       "<style scoped>\n",
       "    .dataframe tbody tr th:only-of-type {\n",
       "        vertical-align: middle;\n",
       "    }\n",
       "\n",
       "    .dataframe tbody tr th {\n",
       "        vertical-align: top;\n",
       "    }\n",
       "\n",
       "    .dataframe thead th {\n",
       "        text-align: right;\n",
       "    }\n",
       "</style>\n",
       "<table border=\"1\" class=\"dataframe\">\n",
       "  <thead>\n",
       "    <tr style=\"text-align: right;\">\n",
       "      <th></th>\n",
       "      <th>Customer ID</th>\n",
       "      <th>Product Name</th>\n",
       "      <th>Sentiment</th>\n",
       "      <th>Category</th>\n",
       "      <th>User Type</th>\n",
       "      <th>Gender</th>\n",
       "      <th>Age</th>\n",
       "      <th>Price</th>\n",
       "      <th>Cost Price</th>\n",
       "      <th>Quantity</th>\n",
       "      <th>Payment Method</th>\n",
       "      <th>City</th>\n",
       "      <th>Country</th>\n",
       "      <th>Bottle Size</th>\n",
       "      <th>Discount</th>\n",
       "      <th>Purchase Date</th>\n",
       "      <th>Rating</th>\n",
       "      <th>Oil Content Percentage</th>\n",
       "    </tr>\n",
       "    <tr>\n",
       "      <th>Sales ID</th>\n",
       "      <th></th>\n",
       "      <th></th>\n",
       "      <th></th>\n",
       "      <th></th>\n",
       "      <th></th>\n",
       "      <th></th>\n",
       "      <th></th>\n",
       "      <th></th>\n",
       "      <th></th>\n",
       "      <th></th>\n",
       "      <th></th>\n",
       "      <th></th>\n",
       "      <th></th>\n",
       "      <th></th>\n",
       "      <th></th>\n",
       "      <th></th>\n",
       "      <th></th>\n",
       "      <th></th>\n",
       "    </tr>\n",
       "  </thead>\n",
       "  <tbody>\n",
       "    <tr>\n",
       "      <th>sid1</th>\n",
       "      <td>NaN</td>\n",
       "      <td>Aqua</td>\n",
       "      <td>Positive</td>\n",
       "      <td>eau de parfum</td>\n",
       "      <td>uni</td>\n",
       "      <td>f</td>\n",
       "      <td>150</td>\n",
       "      <td>325.044124</td>\n",
       "      <td>82.724641</td>\n",
       "      <td>NaN</td>\n",
       "      <td>PayPal</td>\n",
       "      <td>Sydney</td>\n",
       "      <td>NaN</td>\n",
       "      <td>100ml</td>\n",
       "      <td>NaN</td>\n",
       "      <td>2</td>\n",
       "      <td>2022-06-12</td>\n",
       "      <td>NaN</td>\n",
       "    </tr>\n",
       "    <tr>\n",
       "      <th>sid2</th>\n",
       "      <td>cid18393</td>\n",
       "      <td>Dusk</td>\n",
       "      <td>Positive</td>\n",
       "      <td>eau de cologne</td>\n",
       "      <td>Women</td>\n",
       "      <td>F</td>\n",
       "      <td>37</td>\n",
       "      <td>98.222536</td>\n",
       "      <td>58.933522</td>\n",
       "      <td>8.0</td>\n",
       "      <td>Card</td>\n",
       "      <td>Tokyo</td>\n",
       "      <td>Japan</td>\n",
       "      <td>50ml</td>\n",
       "      <td>81.11</td>\n",
       "      <td>2017-07-26</td>\n",
       "      <td>5</td>\n",
       "      <td>2%</td>\n",
       "    </tr>\n",
       "    <tr>\n",
       "      <th>sid3</th>\n",
       "      <td>cid3108</td>\n",
       "      <td>Aqua</td>\n",
       "      <td>Positive</td>\n",
       "      <td>eau de cologne</td>\n",
       "      <td>Women</td>\n",
       "      <td>M</td>\n",
       "      <td>34</td>\n",
       "      <td>143.470592</td>\n",
       "      <td>100.429415</td>\n",
       "      <td>2.0</td>\n",
       "      <td>Bank Transfer</td>\n",
       "      <td>Tokyo</td>\n",
       "      <td>Japan</td>\n",
       "      <td>30ml</td>\n",
       "      <td>36.22</td>\n",
       "      <td>2019-12-23</td>\n",
       "      <td>1</td>\n",
       "      <td>2%</td>\n",
       "    </tr>\n",
       "    <tr>\n",
       "      <th>sid4</th>\n",
       "      <td>cid181</td>\n",
       "      <td>Elixir</td>\n",
       "      <td>Positive</td>\n",
       "      <td>eau de cologne</td>\n",
       "      <td>Unisex</td>\n",
       "      <td>F</td>\n",
       "      <td>150</td>\n",
       "      <td>747.300840</td>\n",
       "      <td>176.283608</td>\n",
       "      <td>4.0</td>\n",
       "      <td>Card</td>\n",
       "      <td>London</td>\n",
       "      <td>UK</td>\n",
       "      <td>200ml</td>\n",
       "      <td>15.25</td>\n",
       "      <td>2018-05-06</td>\n",
       "      <td>4</td>\n",
       "      <td>4%</td>\n",
       "    </tr>\n",
       "    <tr>\n",
       "      <th>sid5</th>\n",
       "      <td>cid48531</td>\n",
       "      <td>Dusk</td>\n",
       "      <td>Positive</td>\n",
       "      <td>eau de cologne</td>\n",
       "      <td>Women</td>\n",
       "      <td>F</td>\n",
       "      <td>30</td>\n",
       "      <td>62.294481</td>\n",
       "      <td>37.376689</td>\n",
       "      <td>2.0</td>\n",
       "      <td>Cash</td>\n",
       "      <td>London</td>\n",
       "      <td>UK</td>\n",
       "      <td>30ml</td>\n",
       "      <td>44.53</td>\n",
       "      <td>2022-07-26</td>\n",
       "      <td>3</td>\n",
       "      <td>4%</td>\n",
       "    </tr>\n",
       "    <tr>\n",
       "      <th>...</th>\n",
       "      <td>...</td>\n",
       "      <td>...</td>\n",
       "      <td>...</td>\n",
       "      <td>...</td>\n",
       "      <td>...</td>\n",
       "      <td>...</td>\n",
       "      <td>...</td>\n",
       "      <td>...</td>\n",
       "      <td>...</td>\n",
       "      <td>...</td>\n",
       "      <td>...</td>\n",
       "      <td>...</td>\n",
       "      <td>...</td>\n",
       "      <td>...</td>\n",
       "      <td>...</td>\n",
       "      <td>...</td>\n",
       "      <td>...</td>\n",
       "      <td>...</td>\n",
       "    </tr>\n",
       "    <tr>\n",
       "      <th>sid99996</th>\n",
       "      <td>cid15897</td>\n",
       "      <td>Aqua</td>\n",
       "      <td>Positive</td>\n",
       "      <td>NaN</td>\n",
       "      <td>Uni</td>\n",
       "      <td>f</td>\n",
       "      <td>25</td>\n",
       "      <td>592.211175</td>\n",
       "      <td>710.653410</td>\n",
       "      <td>NaN</td>\n",
       "      <td>Paypal</td>\n",
       "      <td>Dubai</td>\n",
       "      <td>UAE</td>\n",
       "      <td>100ml</td>\n",
       "      <td>16.28</td>\n",
       "      <td>2018/05/08</td>\n",
       "      <td>3</td>\n",
       "      <td>19%</td>\n",
       "    </tr>\n",
       "    <tr>\n",
       "      <th>sid99997</th>\n",
       "      <td>cid32780</td>\n",
       "      <td>Dusk</td>\n",
       "      <td>Positive</td>\n",
       "      <td>eau de cologne</td>\n",
       "      <td>NaN</td>\n",
       "      <td>M</td>\n",
       "      <td>114</td>\n",
       "      <td>7846.779319</td>\n",
       "      <td>208.142739</td>\n",
       "      <td>5.0</td>\n",
       "      <td>Bank Transfer</td>\n",
       "      <td>Paris</td>\n",
       "      <td>France</td>\n",
       "      <td>100ml</td>\n",
       "      <td>44.99</td>\n",
       "      <td>2021/06/24</td>\n",
       "      <td>5</td>\n",
       "      <td>2%</td>\n",
       "    </tr>\n",
       "    <tr>\n",
       "      <th>sid99998</th>\n",
       "      <td>cid35422</td>\n",
       "      <td>Ciel</td>\n",
       "      <td>Positive</td>\n",
       "      <td>eau de cologne</td>\n",
       "      <td>Unisex</td>\n",
       "      <td>M</td>\n",
       "      <td>34</td>\n",
       "      <td>146.525687</td>\n",
       "      <td>10.000000</td>\n",
       "      <td>4.0</td>\n",
       "      <td>Card</td>\n",
       "      <td>Paris</td>\n",
       "      <td>France</td>\n",
       "      <td>100ml</td>\n",
       "      <td>69.93</td>\n",
       "      <td>2017/07/18</td>\n",
       "      <td>4</td>\n",
       "      <td>NaN</td>\n",
       "    </tr>\n",
       "    <tr>\n",
       "      <th>sid99999</th>\n",
       "      <td>cid8530</td>\n",
       "      <td>Elixir</td>\n",
       "      <td>Positive</td>\n",
       "      <td>eau de cologne</td>\n",
       "      <td>Women</td>\n",
       "      <td>F</td>\n",
       "      <td>40</td>\n",
       "      <td>284.124574</td>\n",
       "      <td>227.299659</td>\n",
       "      <td>6.0</td>\n",
       "      <td>Cash</td>\n",
       "      <td>Paris</td>\n",
       "      <td>France</td>\n",
       "      <td>50ml</td>\n",
       "      <td>97.11</td>\n",
       "      <td>2020/10/08</td>\n",
       "      <td>4</td>\n",
       "      <td>4%</td>\n",
       "    </tr>\n",
       "    <tr>\n",
       "      <th>sid100000</th>\n",
       "      <td>cid44269</td>\n",
       "      <td>Belle</td>\n",
       "      <td>Positive</td>\n",
       "      <td>eau de cologne</td>\n",
       "      <td>Women</td>\n",
       "      <td>M</td>\n",
       "      <td>46</td>\n",
       "      <td>6969.170760</td>\n",
       "      <td>47.773840</td>\n",
       "      <td>10.0</td>\n",
       "      <td>Cash</td>\n",
       "      <td>New York</td>\n",
       "      <td>USA</td>\n",
       "      <td>30ml</td>\n",
       "      <td>36.81</td>\n",
       "      <td>2019/10/16</td>\n",
       "      <td>5</td>\n",
       "      <td>2%</td>\n",
       "    </tr>\n",
       "  </tbody>\n",
       "</table>\n",
       "<p>200000 rows × 18 columns</p>\n",
       "</div>"
      ],
      "text/plain": [
       "          Customer ID Product Name Sentiment        Category User Type Gender   \n",
       "Sales ID                                                                        \n",
       "sid1              NaN         Aqua  Positive   eau de parfum       uni      f  \\\n",
       "sid2         cid18393         Dusk  Positive  eau de cologne     Women      F   \n",
       "sid3          cid3108         Aqua  Positive  eau de cologne     Women      M   \n",
       "sid4           cid181       Elixir  Positive  eau de cologne    Unisex      F   \n",
       "sid5         cid48531         Dusk  Positive  eau de cologne     Women      F   \n",
       "...               ...          ...       ...             ...       ...    ...   \n",
       "sid99996     cid15897         Aqua  Positive             NaN       Uni      f   \n",
       "sid99997     cid32780         Dusk  Positive  eau de cologne       NaN      M   \n",
       "sid99998     cid35422         Ciel  Positive  eau de cologne    Unisex      M   \n",
       "sid99999      cid8530       Elixir  Positive  eau de cologne     Women      F   \n",
       "sid100000    cid44269        Belle  Positive  eau de cologne     Women      M   \n",
       "\n",
       "           Age        Price  Cost Price  Quantity Payment Method      City   \n",
       "Sales ID                                                                     \n",
       "sid1       150   325.044124   82.724641       NaN         PayPal    Sydney  \\\n",
       "sid2        37    98.222536   58.933522       8.0           Card     Tokyo   \n",
       "sid3        34   143.470592  100.429415       2.0  Bank Transfer     Tokyo   \n",
       "sid4       150   747.300840  176.283608       4.0           Card    London   \n",
       "sid5        30    62.294481   37.376689       2.0           Cash    London   \n",
       "...        ...          ...         ...       ...            ...       ...   \n",
       "sid99996    25   592.211175  710.653410       NaN         Paypal     Dubai   \n",
       "sid99997   114  7846.779319  208.142739       5.0  Bank Transfer     Paris   \n",
       "sid99998    34   146.525687   10.000000       4.0           Card     Paris   \n",
       "sid99999    40   284.124574  227.299659       6.0           Cash     Paris   \n",
       "sid100000   46  6969.170760   47.773840      10.0           Cash  New York   \n",
       "\n",
       "          Country Bottle Size  Discount Purchase Date      Rating   \n",
       "Sales ID                                                            \n",
       "sid1          NaN       100ml       NaN             2  2022-06-12  \\\n",
       "sid2        Japan        50ml     81.11    2017-07-26           5   \n",
       "sid3        Japan        30ml     36.22    2019-12-23           1   \n",
       "sid4           UK       200ml     15.25    2018-05-06           4   \n",
       "sid5           UK        30ml     44.53    2022-07-26           3   \n",
       "...           ...         ...       ...           ...         ...   \n",
       "sid99996      UAE       100ml     16.28    2018/05/08           3   \n",
       "sid99997   France       100ml     44.99    2021/06/24           5   \n",
       "sid99998   France       100ml     69.93    2017/07/18           4   \n",
       "sid99999   France        50ml     97.11    2020/10/08           4   \n",
       "sid100000     USA        30ml     36.81    2019/10/16           5   \n",
       "\n",
       "          Oil Content Percentage  \n",
       "Sales ID                          \n",
       "sid1                         NaN  \n",
       "sid2                          2%  \n",
       "sid3                          2%  \n",
       "sid4                          4%  \n",
       "sid5                          4%  \n",
       "...                          ...  \n",
       "sid99996                     19%  \n",
       "sid99997                      2%  \n",
       "sid99998                     NaN  \n",
       "sid99999                      4%  \n",
       "sid100000                     2%  \n",
       "\n",
       "[200000 rows x 18 columns]"
      ]
     },
     "execution_count": 5,
     "metadata": {},
     "output_type": "execute_result"
    }
   ],
   "source": [
    "\n",
    "df_raw=df_raw.copy()\n",
    "df_raw"
   ]
  },
  {
   "cell_type": "code",
   "execution_count": 6,
   "id": "512b8ca2",
   "metadata": {},
   "outputs": [
    {
     "data": {
      "text/plain": [
       "pandas.core.frame.DataFrame"
      ]
     },
     "execution_count": 6,
     "metadata": {},
     "output_type": "execute_result"
    }
   ],
   "source": [
    "type(df_raw)"
   ]
  },
  {
   "cell_type": "code",
   "execution_count": 7,
   "id": "729af75e",
   "metadata": {},
   "outputs": [
    {
     "data": {
      "text/plain": [
       "(200000, 18)"
      ]
     },
     "execution_count": 7,
     "metadata": {},
     "output_type": "execute_result"
    }
   ],
   "source": [
    "df_raw.shape"
   ]
  },
  {
   "cell_type": "code",
   "execution_count": 8,
   "id": "c79f8c57",
   "metadata": {},
   "outputs": [
    {
     "name": "stdout",
     "output_type": "stream",
     "text": [
      "<class 'pandas.core.frame.DataFrame'>\n",
      "Index: 200000 entries, sid1 to sid100000\n",
      "Data columns (total 18 columns):\n",
      " #   Column                  Non-Null Count   Dtype  \n",
      "---  ------                  --------------   -----  \n",
      " 0   Customer ID             180000 non-null  object \n",
      " 1   Product Name            200000 non-null  object \n",
      " 2   Sentiment               190909 non-null  object \n",
      " 3   Category                181819 non-null  object \n",
      " 4   User Type               192307 non-null  object \n",
      " 5   Gender                  194117 non-null  object \n",
      " 6   Age                     200000 non-null  int64  \n",
      " 7   Price                   200000 non-null  float64\n",
      " 8   Cost Price              200000 non-null  float64\n",
      " 9   Quantity                171428 non-null  float64\n",
      " 10  Payment Method          193538 non-null  object \n",
      " 11  City                    195652 non-null  object \n",
      " 12  Country                 186561 non-null  object \n",
      " 13  Bottle Size             198550 non-null  object \n",
      " 14  Discount                192307 non-null  float64\n",
      " 15  Purchase Date           200000 non-null  object \n",
      " 16  Rating                  200000 non-null  object \n",
      " 17  Oil Content Percentage  188853 non-null  object \n",
      "dtypes: float64(4), int64(1), object(13)\n",
      "memory usage: 29.0+ MB\n"
     ]
    }
   ],
   "source": [
    "#lets get a summary of the dataset.\n",
    "df_raw.info()"
   ]
  },
  {
   "cell_type": "code",
   "execution_count": 9,
   "id": "6f50fe45",
   "metadata": {},
   "outputs": [],
   "source": [
    "#The dataset shows we have quite a large number of missing values among others.\n"
   ]
  },
  {
   "cell_type": "markdown",
   "id": "7465668a",
   "metadata": {},
   "source": [
    "**DATA CLEANING AND PREPROCESSING**"
   ]
  },
  {
   "cell_type": "markdown",
   "id": "f703196e",
   "metadata": {},
   "source": [
    "Customer ID"
   ]
  },
  {
   "cell_type": "code",
   "execution_count": 10,
   "id": "d3c07ed4",
   "metadata": {},
   "outputs": [
    {
     "data": {
      "text/plain": [
       "20000"
      ]
     },
     "execution_count": 10,
     "metadata": {},
     "output_type": "execute_result"
    }
   ],
   "source": [
    "#we have about 20000 missing customer IDs in our dataset which is very significant and therefore cannot be dropped.\n",
    "pd.isnull(df_raw['Customer ID']).sum()"
   ]
  },
  {
   "cell_type": "code",
   "execution_count": 11,
   "id": "f36b3ab7",
   "metadata": {},
   "outputs": [
    {
     "data": {
      "text/html": [
       "<div>\n",
       "<style scoped>\n",
       "    .dataframe tbody tr th:only-of-type {\n",
       "        vertical-align: middle;\n",
       "    }\n",
       "\n",
       "    .dataframe tbody tr th {\n",
       "        vertical-align: top;\n",
       "    }\n",
       "\n",
       "    .dataframe thead th {\n",
       "        text-align: right;\n",
       "    }\n",
       "</style>\n",
       "<table border=\"1\" class=\"dataframe\">\n",
       "  <thead>\n",
       "    <tr style=\"text-align: right;\">\n",
       "      <th></th>\n",
       "      <th>Customer ID</th>\n",
       "      <th>Product Name</th>\n",
       "      <th>Sentiment</th>\n",
       "      <th>Category</th>\n",
       "      <th>User Type</th>\n",
       "      <th>Gender</th>\n",
       "      <th>Age</th>\n",
       "      <th>Price</th>\n",
       "      <th>Cost Price</th>\n",
       "      <th>Quantity</th>\n",
       "      <th>Payment Method</th>\n",
       "      <th>City</th>\n",
       "      <th>Country</th>\n",
       "      <th>Bottle Size</th>\n",
       "      <th>Discount</th>\n",
       "      <th>Purchase Date</th>\n",
       "      <th>Rating</th>\n",
       "      <th>Oil Content Percentage</th>\n",
       "    </tr>\n",
       "    <tr>\n",
       "      <th>Sales ID</th>\n",
       "      <th></th>\n",
       "      <th></th>\n",
       "      <th></th>\n",
       "      <th></th>\n",
       "      <th></th>\n",
       "      <th></th>\n",
       "      <th></th>\n",
       "      <th></th>\n",
       "      <th></th>\n",
       "      <th></th>\n",
       "      <th></th>\n",
       "      <th></th>\n",
       "      <th></th>\n",
       "      <th></th>\n",
       "      <th></th>\n",
       "      <th></th>\n",
       "      <th></th>\n",
       "      <th></th>\n",
       "    </tr>\n",
       "  </thead>\n",
       "  <tbody>\n",
       "    <tr>\n",
       "      <th>sid1</th>\n",
       "      <td>N/A</td>\n",
       "      <td>Aqua</td>\n",
       "      <td>Positive</td>\n",
       "      <td>eau de parfum</td>\n",
       "      <td>uni</td>\n",
       "      <td>f</td>\n",
       "      <td>150</td>\n",
       "      <td>325.044124</td>\n",
       "      <td>82.724641</td>\n",
       "      <td>NaN</td>\n",
       "      <td>PayPal</td>\n",
       "      <td>Sydney</td>\n",
       "      <td>NaN</td>\n",
       "      <td>100ml</td>\n",
       "      <td>NaN</td>\n",
       "      <td>2</td>\n",
       "      <td>2022-06-12</td>\n",
       "      <td>NaN</td>\n",
       "    </tr>\n",
       "    <tr>\n",
       "      <th>sid2</th>\n",
       "      <td>cid18393</td>\n",
       "      <td>Dusk</td>\n",
       "      <td>Positive</td>\n",
       "      <td>eau de cologne</td>\n",
       "      <td>Women</td>\n",
       "      <td>F</td>\n",
       "      <td>37</td>\n",
       "      <td>98.222536</td>\n",
       "      <td>58.933522</td>\n",
       "      <td>8.0</td>\n",
       "      <td>Card</td>\n",
       "      <td>Tokyo</td>\n",
       "      <td>Japan</td>\n",
       "      <td>50ml</td>\n",
       "      <td>81.11</td>\n",
       "      <td>2017-07-26</td>\n",
       "      <td>5</td>\n",
       "      <td>2%</td>\n",
       "    </tr>\n",
       "    <tr>\n",
       "      <th>sid3</th>\n",
       "      <td>cid3108</td>\n",
       "      <td>Aqua</td>\n",
       "      <td>Positive</td>\n",
       "      <td>eau de cologne</td>\n",
       "      <td>Women</td>\n",
       "      <td>M</td>\n",
       "      <td>34</td>\n",
       "      <td>143.470592</td>\n",
       "      <td>100.429415</td>\n",
       "      <td>2.0</td>\n",
       "      <td>Bank Transfer</td>\n",
       "      <td>Tokyo</td>\n",
       "      <td>Japan</td>\n",
       "      <td>30ml</td>\n",
       "      <td>36.22</td>\n",
       "      <td>2019-12-23</td>\n",
       "      <td>1</td>\n",
       "      <td>2%</td>\n",
       "    </tr>\n",
       "    <tr>\n",
       "      <th>sid4</th>\n",
       "      <td>cid181</td>\n",
       "      <td>Elixir</td>\n",
       "      <td>Positive</td>\n",
       "      <td>eau de cologne</td>\n",
       "      <td>Unisex</td>\n",
       "      <td>F</td>\n",
       "      <td>150</td>\n",
       "      <td>747.300840</td>\n",
       "      <td>176.283608</td>\n",
       "      <td>4.0</td>\n",
       "      <td>Card</td>\n",
       "      <td>London</td>\n",
       "      <td>UK</td>\n",
       "      <td>200ml</td>\n",
       "      <td>15.25</td>\n",
       "      <td>2018-05-06</td>\n",
       "      <td>4</td>\n",
       "      <td>4%</td>\n",
       "    </tr>\n",
       "    <tr>\n",
       "      <th>sid5</th>\n",
       "      <td>cid48531</td>\n",
       "      <td>Dusk</td>\n",
       "      <td>Positive</td>\n",
       "      <td>eau de cologne</td>\n",
       "      <td>Women</td>\n",
       "      <td>F</td>\n",
       "      <td>30</td>\n",
       "      <td>62.294481</td>\n",
       "      <td>37.376689</td>\n",
       "      <td>2.0</td>\n",
       "      <td>Cash</td>\n",
       "      <td>London</td>\n",
       "      <td>UK</td>\n",
       "      <td>30ml</td>\n",
       "      <td>44.53</td>\n",
       "      <td>2022-07-26</td>\n",
       "      <td>3</td>\n",
       "      <td>4%</td>\n",
       "    </tr>\n",
       "    <tr>\n",
       "      <th>...</th>\n",
       "      <td>...</td>\n",
       "      <td>...</td>\n",
       "      <td>...</td>\n",
       "      <td>...</td>\n",
       "      <td>...</td>\n",
       "      <td>...</td>\n",
       "      <td>...</td>\n",
       "      <td>...</td>\n",
       "      <td>...</td>\n",
       "      <td>...</td>\n",
       "      <td>...</td>\n",
       "      <td>...</td>\n",
       "      <td>...</td>\n",
       "      <td>...</td>\n",
       "      <td>...</td>\n",
       "      <td>...</td>\n",
       "      <td>...</td>\n",
       "      <td>...</td>\n",
       "    </tr>\n",
       "    <tr>\n",
       "      <th>sid99996</th>\n",
       "      <td>cid15897</td>\n",
       "      <td>Aqua</td>\n",
       "      <td>Positive</td>\n",
       "      <td>NaN</td>\n",
       "      <td>Uni</td>\n",
       "      <td>f</td>\n",
       "      <td>25</td>\n",
       "      <td>592.211175</td>\n",
       "      <td>710.653410</td>\n",
       "      <td>NaN</td>\n",
       "      <td>Paypal</td>\n",
       "      <td>Dubai</td>\n",
       "      <td>UAE</td>\n",
       "      <td>100ml</td>\n",
       "      <td>16.28</td>\n",
       "      <td>2018/05/08</td>\n",
       "      <td>3</td>\n",
       "      <td>19%</td>\n",
       "    </tr>\n",
       "    <tr>\n",
       "      <th>sid99997</th>\n",
       "      <td>cid32780</td>\n",
       "      <td>Dusk</td>\n",
       "      <td>Positive</td>\n",
       "      <td>eau de cologne</td>\n",
       "      <td>NaN</td>\n",
       "      <td>M</td>\n",
       "      <td>114</td>\n",
       "      <td>7846.779319</td>\n",
       "      <td>208.142739</td>\n",
       "      <td>5.0</td>\n",
       "      <td>Bank Transfer</td>\n",
       "      <td>Paris</td>\n",
       "      <td>France</td>\n",
       "      <td>100ml</td>\n",
       "      <td>44.99</td>\n",
       "      <td>2021/06/24</td>\n",
       "      <td>5</td>\n",
       "      <td>2%</td>\n",
       "    </tr>\n",
       "    <tr>\n",
       "      <th>sid99998</th>\n",
       "      <td>cid35422</td>\n",
       "      <td>Ciel</td>\n",
       "      <td>Positive</td>\n",
       "      <td>eau de cologne</td>\n",
       "      <td>Unisex</td>\n",
       "      <td>M</td>\n",
       "      <td>34</td>\n",
       "      <td>146.525687</td>\n",
       "      <td>10.000000</td>\n",
       "      <td>4.0</td>\n",
       "      <td>Card</td>\n",
       "      <td>Paris</td>\n",
       "      <td>France</td>\n",
       "      <td>100ml</td>\n",
       "      <td>69.93</td>\n",
       "      <td>2017/07/18</td>\n",
       "      <td>4</td>\n",
       "      <td>NaN</td>\n",
       "    </tr>\n",
       "    <tr>\n",
       "      <th>sid99999</th>\n",
       "      <td>cid8530</td>\n",
       "      <td>Elixir</td>\n",
       "      <td>Positive</td>\n",
       "      <td>eau de cologne</td>\n",
       "      <td>Women</td>\n",
       "      <td>F</td>\n",
       "      <td>40</td>\n",
       "      <td>284.124574</td>\n",
       "      <td>227.299659</td>\n",
       "      <td>6.0</td>\n",
       "      <td>Cash</td>\n",
       "      <td>Paris</td>\n",
       "      <td>France</td>\n",
       "      <td>50ml</td>\n",
       "      <td>97.11</td>\n",
       "      <td>2020/10/08</td>\n",
       "      <td>4</td>\n",
       "      <td>4%</td>\n",
       "    </tr>\n",
       "    <tr>\n",
       "      <th>sid100000</th>\n",
       "      <td>cid44269</td>\n",
       "      <td>Belle</td>\n",
       "      <td>Positive</td>\n",
       "      <td>eau de cologne</td>\n",
       "      <td>Women</td>\n",
       "      <td>M</td>\n",
       "      <td>46</td>\n",
       "      <td>6969.170760</td>\n",
       "      <td>47.773840</td>\n",
       "      <td>10.0</td>\n",
       "      <td>Cash</td>\n",
       "      <td>New York</td>\n",
       "      <td>USA</td>\n",
       "      <td>30ml</td>\n",
       "      <td>36.81</td>\n",
       "      <td>2019/10/16</td>\n",
       "      <td>5</td>\n",
       "      <td>2%</td>\n",
       "    </tr>\n",
       "  </tbody>\n",
       "</table>\n",
       "<p>200000 rows × 18 columns</p>\n",
       "</div>"
      ],
      "text/plain": [
       "          Customer ID Product Name Sentiment        Category User Type Gender   \n",
       "Sales ID                                                                        \n",
       "sid1              N/A         Aqua  Positive   eau de parfum       uni      f  \\\n",
       "sid2         cid18393         Dusk  Positive  eau de cologne     Women      F   \n",
       "sid3          cid3108         Aqua  Positive  eau de cologne     Women      M   \n",
       "sid4           cid181       Elixir  Positive  eau de cologne    Unisex      F   \n",
       "sid5         cid48531         Dusk  Positive  eau de cologne     Women      F   \n",
       "...               ...          ...       ...             ...       ...    ...   \n",
       "sid99996     cid15897         Aqua  Positive             NaN       Uni      f   \n",
       "sid99997     cid32780         Dusk  Positive  eau de cologne       NaN      M   \n",
       "sid99998     cid35422         Ciel  Positive  eau de cologne    Unisex      M   \n",
       "sid99999      cid8530       Elixir  Positive  eau de cologne     Women      F   \n",
       "sid100000    cid44269        Belle  Positive  eau de cologne     Women      M   \n",
       "\n",
       "           Age        Price  Cost Price  Quantity Payment Method      City   \n",
       "Sales ID                                                                     \n",
       "sid1       150   325.044124   82.724641       NaN         PayPal    Sydney  \\\n",
       "sid2        37    98.222536   58.933522       8.0           Card     Tokyo   \n",
       "sid3        34   143.470592  100.429415       2.0  Bank Transfer     Tokyo   \n",
       "sid4       150   747.300840  176.283608       4.0           Card    London   \n",
       "sid5        30    62.294481   37.376689       2.0           Cash    London   \n",
       "...        ...          ...         ...       ...            ...       ...   \n",
       "sid99996    25   592.211175  710.653410       NaN         Paypal     Dubai   \n",
       "sid99997   114  7846.779319  208.142739       5.0  Bank Transfer     Paris   \n",
       "sid99998    34   146.525687   10.000000       4.0           Card     Paris   \n",
       "sid99999    40   284.124574  227.299659       6.0           Cash     Paris   \n",
       "sid100000   46  6969.170760   47.773840      10.0           Cash  New York   \n",
       "\n",
       "          Country Bottle Size  Discount Purchase Date      Rating   \n",
       "Sales ID                                                            \n",
       "sid1          NaN       100ml       NaN             2  2022-06-12  \\\n",
       "sid2        Japan        50ml     81.11    2017-07-26           5   \n",
       "sid3        Japan        30ml     36.22    2019-12-23           1   \n",
       "sid4           UK       200ml     15.25    2018-05-06           4   \n",
       "sid5           UK        30ml     44.53    2022-07-26           3   \n",
       "...           ...         ...       ...           ...         ...   \n",
       "sid99996      UAE       100ml     16.28    2018/05/08           3   \n",
       "sid99997   France       100ml     44.99    2021/06/24           5   \n",
       "sid99998   France       100ml     69.93    2017/07/18           4   \n",
       "sid99999   France        50ml     97.11    2020/10/08           4   \n",
       "sid100000     USA        30ml     36.81    2019/10/16           5   \n",
       "\n",
       "          Oil Content Percentage  \n",
       "Sales ID                          \n",
       "sid1                         NaN  \n",
       "sid2                          2%  \n",
       "sid3                          2%  \n",
       "sid4                          4%  \n",
       "sid5                          4%  \n",
       "...                          ...  \n",
       "sid99996                     19%  \n",
       "sid99997                      2%  \n",
       "sid99998                     NaN  \n",
       "sid99999                      4%  \n",
       "sid100000                     2%  \n",
       "\n",
       "[200000 rows x 18 columns]"
      ]
     },
     "execution_count": 11,
     "metadata": {},
     "output_type": "execute_result"
    }
   ],
   "source": [
    "#lets replace all the missing customer IDS with N/A.\n",
    "df_raw['Customer ID']=df_raw['Customer ID'].fillna('N/A')\n",
    "df_raw"
   ]
  },
  {
   "cell_type": "markdown",
   "id": "dd228ba9",
   "metadata": {},
   "source": [
    "Product Name"
   ]
  },
  {
   "cell_type": "code",
   "execution_count": 12,
   "id": "2960fbda",
   "metadata": {},
   "outputs": [
    {
     "data": {
      "text/plain": [
       "Sales ID\n",
       "sid1           Aqua\n",
       "sid2           Dusk\n",
       "sid3           Aqua\n",
       "sid4         Elixir\n",
       "sid5           Dusk\n",
       "              ...  \n",
       "sid99996       Aqua\n",
       "sid99997       Dusk\n",
       "sid99998       Ciel\n",
       "sid99999     Elixir\n",
       "sid100000     Belle\n",
       "Name: Product Name, Length: 200000, dtype: object"
      ]
     },
     "execution_count": 12,
     "metadata": {},
     "output_type": "execute_result"
    }
   ],
   "source": [
    "df_raw['Product Name']"
   ]
  },
  {
   "cell_type": "code",
   "execution_count": 13,
   "id": "1216d47e",
   "metadata": {},
   "outputs": [
    {
     "data": {
      "text/plain": [
       "0"
      ]
     },
     "execution_count": 13,
     "metadata": {},
     "output_type": "execute_result"
    }
   ],
   "source": [
    "pd.isnull(df_raw['Product Name']).sum()"
   ]
  },
  {
   "cell_type": "code",
   "execution_count": 14,
   "id": "c7a5b4d6",
   "metadata": {},
   "outputs": [
    {
     "data": {
      "text/plain": [
       "array(['Aqua', 'Dusk', 'Elixir', 'Ciel', 'Belle'], dtype=object)"
      ]
     },
     "execution_count": 14,
     "metadata": {},
     "output_type": "execute_result"
    }
   ],
   "source": [
    "pd.unique(df_raw['Product Name'])"
   ]
  },
  {
   "cell_type": "code",
   "execution_count": 15,
   "id": "6e8a6993",
   "metadata": {},
   "outputs": [],
   "source": [
    "#the product Name column looks okay without missing values or inconsistent formatting"
   ]
  },
  {
   "cell_type": "markdown",
   "id": "50f0555e",
   "metadata": {},
   "source": [
    "Sentiment"
   ]
  },
  {
   "cell_type": "code",
   "execution_count": 16,
   "id": "aa8d7eb2",
   "metadata": {},
   "outputs": [
    {
     "data": {
      "text/plain": [
       "Sales ID\n",
       "sid1         Positive\n",
       "sid2         Positive\n",
       "sid3         Positive\n",
       "sid4         Positive\n",
       "sid5         Positive\n",
       "               ...   \n",
       "sid99996     Positive\n",
       "sid99997     Positive\n",
       "sid99998     Positive\n",
       "sid99999     Positive\n",
       "sid100000    Positive\n",
       "Name: Sentiment, Length: 200000, dtype: object"
      ]
     },
     "execution_count": 16,
     "metadata": {},
     "output_type": "execute_result"
    }
   ],
   "source": [
    "df_raw['Sentiment']"
   ]
  },
  {
   "cell_type": "code",
   "execution_count": 17,
   "id": "7b7257c5",
   "metadata": {},
   "outputs": [
    {
     "data": {
      "text/plain": [
       "9091"
      ]
     },
     "execution_count": 17,
     "metadata": {},
     "output_type": "execute_result"
    }
   ],
   "source": [
    "pd.isnull(df_raw['Sentiment']).sum()"
   ]
  },
  {
   "cell_type": "code",
   "execution_count": 18,
   "id": "66ad6c2b",
   "metadata": {},
   "outputs": [
    {
     "data": {
      "text/plain": [
       "array(['Positive', 'Negative', 'Neutral', nan], dtype=object)"
      ]
     },
     "execution_count": 18,
     "metadata": {},
     "output_type": "execute_result"
    }
   ],
   "source": [
    "df_raw['Sentiment'].unique()"
   ]
  },
  {
   "cell_type": "code",
   "execution_count": 19,
   "id": "4b0d8560",
   "metadata": {},
   "outputs": [
    {
     "data": {
      "text/plain": [
       "Sentiment\n",
       "Positive    133435\n",
       "Negative     38354\n",
       "Neutral      19120\n",
       "Name: count, dtype: int64"
      ]
     },
     "execution_count": 19,
     "metadata": {},
     "output_type": "execute_result"
    }
   ],
   "source": [
    "#lets get the value counts of the items in the sentiments column\n",
    "df_raw['Sentiment'].value_counts()"
   ]
  },
  {
   "cell_type": "code",
   "execution_count": 20,
   "id": "2a4e638e",
   "metadata": {},
   "outputs": [
    {
     "data": {
      "text/plain": [
       "'Positive'"
      ]
     },
     "execution_count": 20,
     "metadata": {},
     "output_type": "execute_result"
    }
   ],
   "source": [
    "#lets find the mode of the column to see  which is more frequent.\n",
    "df_raw['Sentiment'].mode()[0]"
   ]
  },
  {
   "cell_type": "code",
   "execution_count": 21,
   "id": "327d0986",
   "metadata": {},
   "outputs": [
    {
     "data": {
      "text/plain": [
       "Sentiment\n",
       "Positive      133435\n",
       "Negative       38354\n",
       "Neutral        19120\n",
       "Ambivalent      9091\n",
       "Name: count, dtype: int64"
      ]
     },
     "execution_count": 21,
     "metadata": {},
     "output_type": "execute_result"
    }
   ],
   "source": [
    "#rather than assign the mode(positive) to them. these categories of people might resonate with being positive, negative and also neutral.\n",
    "#lets create a column mixed and assign it to them.\n",
    "df_raw['Sentiment']=df_raw['Sentiment'].fillna('Ambivalent')\n",
    "df_raw['Sentiment'].value_counts()"
   ]
  },
  {
   "cell_type": "code",
   "execution_count": 22,
   "id": "4645e93c",
   "metadata": {},
   "outputs": [
    {
     "data": {
      "text/plain": [
       "Sales ID\n",
       "sid1          eau de parfum\n",
       "sid2         eau de cologne\n",
       "sid3         eau de cologne\n",
       "sid4         eau de cologne\n",
       "sid5         eau de cologne\n",
       "                  ...      \n",
       "sid99996                NaN\n",
       "sid99997     eau de cologne\n",
       "sid99998     eau de cologne\n",
       "sid99999     eau de cologne\n",
       "sid100000    eau de cologne\n",
       "Name: Category, Length: 200000, dtype: object"
      ]
     },
     "execution_count": 22,
     "metadata": {},
     "output_type": "execute_result"
    }
   ],
   "source": [
    "df_raw['Category']"
   ]
  },
  {
   "cell_type": "code",
   "execution_count": 23,
   "id": "f7fa36b9",
   "metadata": {},
   "outputs": [
    {
     "data": {
      "text/plain": [
       "18181"
      ]
     },
     "execution_count": 23,
     "metadata": {},
     "output_type": "execute_result"
    }
   ],
   "source": [
    "pd.isnull(df_raw['Category']).sum()"
   ]
  },
  {
   "cell_type": "code",
   "execution_count": 24,
   "id": "d6234cc0",
   "metadata": {},
   "outputs": [
    {
     "data": {
      "text/plain": [
       "array(['eau de parfum', 'eau de cologne', 'eau de toilette', nan],\n",
       "      dtype=object)"
      ]
     },
     "execution_count": 24,
     "metadata": {},
     "output_type": "execute_result"
    }
   ],
   "source": [
    "df_raw['Category'].unique()"
   ]
  },
  {
   "cell_type": "code",
   "execution_count": 25,
   "id": "a97a48d1",
   "metadata": {},
   "outputs": [
    {
     "data": {
      "text/plain": [
       "Category\n",
       "eau de cologne     132204\n",
       "eau de parfum       24873\n",
       "eau de toilette     24742\n",
       "Name: count, dtype: int64"
      ]
     },
     "execution_count": 25,
     "metadata": {},
     "output_type": "execute_result"
    }
   ],
   "source": [
    "df_raw['Category'].value_counts()"
   ]
  },
  {
   "cell_type": "code",
   "execution_count": 26,
   "id": "cde3466e",
   "metadata": {},
   "outputs": [],
   "source": [
    "#The head of data said  that all edcs are for edps and an error was made durign  data entry.\n",
    "#lets replace all the edps with edcs and vice versa\n",
    "df_raw['Category']=df_raw['Category'].replace({'eau de parfum': 'eau de cologne', 'eau de cologne': 'eau de parfum'})"
   ]
  },
  {
   "cell_type": "code",
   "execution_count": 27,
   "id": "44534e52",
   "metadata": {},
   "outputs": [
    {
     "data": {
      "text/plain": [
       "Category\n",
       "eau de parfum      132204\n",
       "eau de cologne      24873\n",
       "eau de toilette     24742\n",
       "Name: count, dtype: int64"
      ]
     },
     "execution_count": 27,
     "metadata": {},
     "output_type": "execute_result"
    }
   ],
   "source": [
    "df_raw['Category'].value_counts()"
   ]
  },
  {
   "cell_type": "code",
   "execution_count": 28,
   "id": "749b82ff",
   "metadata": {},
   "outputs": [
    {
     "data": {
      "text/plain": [
       "0    eau de parfum\n",
       "Name: Category, dtype: object"
      ]
     },
     "execution_count": 28,
     "metadata": {},
     "output_type": "execute_result"
    }
   ],
   "source": [
    "df_raw['Category'].mode()"
   ]
  },
  {
   "cell_type": "code",
   "execution_count": 29,
   "id": "8f5ea9fb",
   "metadata": {},
   "outputs": [],
   "source": [
    "#lets fill the nan with the mode of the column. Technically, the vast majority of perfumes worlwide are edps\n",
    "df_raw['Category']=df_raw['Category'].fillna('eau de parfum')"
   ]
  },
  {
   "cell_type": "code",
   "execution_count": 30,
   "id": "840372c0",
   "metadata": {},
   "outputs": [
    {
     "data": {
      "text/plain": [
       "Category\n",
       "eau de parfum      150385\n",
       "eau de cologne      24873\n",
       "eau de toilette     24742\n",
       "Name: count, dtype: int64"
      ]
     },
     "execution_count": 30,
     "metadata": {},
     "output_type": "execute_result"
    }
   ],
   "source": [
    "df_raw['Category'].value_counts()"
   ]
  },
  {
   "cell_type": "markdown",
   "id": "f6d26a24",
   "metadata": {},
   "source": [
    "User Type"
   ]
  },
  {
   "cell_type": "code",
   "execution_count": 31,
   "id": "ef5a8786",
   "metadata": {
    "scrolled": false
   },
   "outputs": [
    {
     "data": {
      "text/plain": [
       "Sales ID\n",
       "sid1            uni\n",
       "sid2          Women\n",
       "sid3          Women\n",
       "sid4         Unisex\n",
       "sid5          Women\n",
       "              ...  \n",
       "sid99996        Uni\n",
       "sid99997        NaN\n",
       "sid99998     Unisex\n",
       "sid99999      Women\n",
       "sid100000     Women\n",
       "Name: User Type, Length: 200000, dtype: object"
      ]
     },
     "execution_count": 31,
     "metadata": {},
     "output_type": "execute_result"
    }
   ],
   "source": [
    "df_raw['User Type']"
   ]
  },
  {
   "cell_type": "code",
   "execution_count": 32,
   "id": "4f21f9d0",
   "metadata": {},
   "outputs": [
    {
     "data": {
      "text/plain": [
       "array(['uni', 'Women', 'Unisex', 'Men', 'man', 'woman', nan, 'Man',\n",
       "       'Woman', 'Uni'], dtype=object)"
      ]
     },
     "execution_count": 32,
     "metadata": {},
     "output_type": "execute_result"
    }
   ],
   "source": [
    "df_raw['User Type'].unique()\n",
    "#the output shows we have inconsistent formatting in the columns"
   ]
  },
  {
   "cell_type": "code",
   "execution_count": 33,
   "id": "7b897d54",
   "metadata": {},
   "outputs": [],
   "source": [
    "df_raw['User Type']=df_raw['User Type'].replace({'uni':'Unisex', 'man':'Men','woman':'Women', 'Man':'Men', 'Woman':'Women', \n",
    "                             'Uni':'Unisex'})"
   ]
  },
  {
   "cell_type": "code",
   "execution_count": 34,
   "id": "d1620141",
   "metadata": {},
   "outputs": [
    {
     "data": {
      "text/plain": [
       "array(['Unisex', 'Women', 'Men', nan], dtype=object)"
      ]
     },
     "execution_count": 34,
     "metadata": {},
     "output_type": "execute_result"
    }
   ],
   "source": [
    "df_raw['User Type'].unique()"
   ]
  },
  {
   "cell_type": "code",
   "execution_count": 35,
   "id": "556ee342",
   "metadata": {},
   "outputs": [
    {
     "data": {
      "text/plain": [
       "7693"
      ]
     },
     "execution_count": 35,
     "metadata": {},
     "output_type": "execute_result"
    }
   ],
   "source": [
    "#lets handle the missing values\n",
    "pd.isnull(df_raw['User Type']).sum()"
   ]
  },
  {
   "cell_type": "code",
   "execution_count": 36,
   "id": "8c27e4b7",
   "metadata": {},
   "outputs": [
    {
     "data": {
      "text/plain": [
       "0    Women\n",
       "Name: User Type, dtype: object"
      ]
     },
     "execution_count": 36,
     "metadata": {},
     "output_type": "execute_result"
    }
   ],
   "source": [
    "df_raw['User Type'].mode()"
   ]
  },
  {
   "cell_type": "code",
   "execution_count": 37,
   "id": "1d595d3e",
   "metadata": {},
   "outputs": [],
   "source": [
    "#lets fill the missing user type rows with N/A as some products do not have user type labels written on them.\n",
    "df_raw['User Type']=df_raw['User Type'].fillna('N/A')"
   ]
  },
  {
   "cell_type": "code",
   "execution_count": 38,
   "id": "a6d04562",
   "metadata": {},
   "outputs": [
    {
     "data": {
      "text/plain": [
       "array(['Unisex', 'Women', 'Men', 'N/A'], dtype=object)"
      ]
     },
     "execution_count": 38,
     "metadata": {},
     "output_type": "execute_result"
    }
   ],
   "source": [
    "df_raw['User Type'].unique()"
   ]
  },
  {
   "cell_type": "markdown",
   "id": "7ce6af55",
   "metadata": {},
   "source": [
    "Gender"
   ]
  },
  {
   "cell_type": "code",
   "execution_count": 39,
   "id": "5be0b1ed",
   "metadata": {},
   "outputs": [
    {
     "data": {
      "text/plain": [
       "Sales ID\n",
       "sid1         f\n",
       "sid2         F\n",
       "sid3         M\n",
       "sid4         F\n",
       "sid5         F\n",
       "            ..\n",
       "sid99996     f\n",
       "sid99997     M\n",
       "sid99998     M\n",
       "sid99999     F\n",
       "sid100000    M\n",
       "Name: Gender, Length: 200000, dtype: object"
      ]
     },
     "execution_count": 39,
     "metadata": {},
     "output_type": "execute_result"
    }
   ],
   "source": [
    "df_raw['Gender']"
   ]
  },
  {
   "cell_type": "code",
   "execution_count": 40,
   "id": "3bb2a943",
   "metadata": {},
   "outputs": [
    {
     "data": {
      "text/plain": [
       "array(['f', 'F', 'M', 'm', nan], dtype=object)"
      ]
     },
     "execution_count": 40,
     "metadata": {},
     "output_type": "execute_result"
    }
   ],
   "source": [
    "df_raw['Gender'].unique()"
   ]
  },
  {
   "cell_type": "code",
   "execution_count": 41,
   "id": "8ce00617",
   "metadata": {},
   "outputs": [],
   "source": [
    "#lets standardize the formats of the gender column\n",
    "df_raw['Gender']=df_raw['Gender'].replace({'f':'F','m':'M'})"
   ]
  },
  {
   "cell_type": "code",
   "execution_count": 42,
   "id": "94b856b3",
   "metadata": {},
   "outputs": [
    {
     "data": {
      "text/plain": [
       "Sales ID\n",
       "sid1         F\n",
       "sid2         F\n",
       "sid3         M\n",
       "sid4         F\n",
       "sid5         F\n",
       "            ..\n",
       "sid99996     F\n",
       "sid99997     M\n",
       "sid99998     M\n",
       "sid99999     F\n",
       "sid100000    M\n",
       "Name: Gender, Length: 200000, dtype: object"
      ]
     },
     "execution_count": 42,
     "metadata": {},
     "output_type": "execute_result"
    }
   ],
   "source": [
    "df_raw['Gender']"
   ]
  },
  {
   "cell_type": "code",
   "execution_count": 43,
   "id": "b80c0813",
   "metadata": {},
   "outputs": [
    {
     "data": {
      "text/plain": [
       "5883"
      ]
     },
     "execution_count": 43,
     "metadata": {},
     "output_type": "execute_result"
    }
   ],
   "source": [
    "#lets fill the missing rows with 'others' since we don't know what gender they belong to. They might belong to other genders\n",
    "pd.isnull(df_raw['Gender']).sum()"
   ]
  },
  {
   "cell_type": "code",
   "execution_count": 44,
   "id": "6eaffc48",
   "metadata": {},
   "outputs": [
    {
     "data": {
      "text/plain": [
       "array(['F', 'M', 'O'], dtype=object)"
      ]
     },
     "execution_count": 44,
     "metadata": {},
     "output_type": "execute_result"
    }
   ],
   "source": [
    "df_raw['Gender']=df_raw['Gender'].fillna('O')\n",
    "df_raw['Gender'].unique()"
   ]
  },
  {
   "cell_type": "markdown",
   "id": "6abe48a1",
   "metadata": {},
   "source": [
    "Age\n",
    "\n",
    "We have been told that the focus for the analysis was customers aged 18-65. Therefore, the remaining are irrelavant errors."
   ]
  },
  {
   "cell_type": "code",
   "execution_count": 45,
   "id": "c7bc6586",
   "metadata": {},
   "outputs": [
    {
     "data": {
      "text/plain": [
       "Sales ID\n",
       "sid1         150\n",
       "sid2          37\n",
       "sid3          34\n",
       "sid4         150\n",
       "sid5          30\n",
       "            ... \n",
       "sid99996      25\n",
       "sid99997     114\n",
       "sid99998      34\n",
       "sid99999      40\n",
       "sid100000     46\n",
       "Name: Age, Length: 200000, dtype: int64"
      ]
     },
     "execution_count": 45,
     "metadata": {},
     "output_type": "execute_result"
    }
   ],
   "source": [
    "df_raw['Age']"
   ]
  },
  {
   "cell_type": "code",
   "execution_count": 46,
   "id": "75b5d600",
   "metadata": {
    "scrolled": true
   },
   "outputs": [
    {
     "data": {
      "text/html": [
       "<div>\n",
       "<style scoped>\n",
       "    .dataframe tbody tr th:only-of-type {\n",
       "        vertical-align: middle;\n",
       "    }\n",
       "\n",
       "    .dataframe tbody tr th {\n",
       "        vertical-align: top;\n",
       "    }\n",
       "\n",
       "    .dataframe thead th {\n",
       "        text-align: right;\n",
       "    }\n",
       "</style>\n",
       "<table border=\"1\" class=\"dataframe\">\n",
       "  <thead>\n",
       "    <tr style=\"text-align: right;\">\n",
       "      <th></th>\n",
       "      <th>Customer ID</th>\n",
       "      <th>Product Name</th>\n",
       "      <th>Sentiment</th>\n",
       "      <th>Category</th>\n",
       "      <th>User Type</th>\n",
       "      <th>Gender</th>\n",
       "      <th>Age</th>\n",
       "      <th>Price</th>\n",
       "      <th>Cost Price</th>\n",
       "      <th>Quantity</th>\n",
       "      <th>Payment Method</th>\n",
       "      <th>City</th>\n",
       "      <th>Country</th>\n",
       "      <th>Bottle Size</th>\n",
       "      <th>Discount</th>\n",
       "      <th>Purchase Date</th>\n",
       "      <th>Rating</th>\n",
       "      <th>Oil Content Percentage</th>\n",
       "    </tr>\n",
       "    <tr>\n",
       "      <th>Sales ID</th>\n",
       "      <th></th>\n",
       "      <th></th>\n",
       "      <th></th>\n",
       "      <th></th>\n",
       "      <th></th>\n",
       "      <th></th>\n",
       "      <th></th>\n",
       "      <th></th>\n",
       "      <th></th>\n",
       "      <th></th>\n",
       "      <th></th>\n",
       "      <th></th>\n",
       "      <th></th>\n",
       "      <th></th>\n",
       "      <th></th>\n",
       "      <th></th>\n",
       "      <th></th>\n",
       "      <th></th>\n",
       "    </tr>\n",
       "  </thead>\n",
       "  <tbody>\n",
       "    <tr>\n",
       "      <th>sid2</th>\n",
       "      <td>cid18393</td>\n",
       "      <td>Dusk</td>\n",
       "      <td>Positive</td>\n",
       "      <td>eau de parfum</td>\n",
       "      <td>Women</td>\n",
       "      <td>F</td>\n",
       "      <td>37</td>\n",
       "      <td>98.222536</td>\n",
       "      <td>58.933522</td>\n",
       "      <td>8.0</td>\n",
       "      <td>Card</td>\n",
       "      <td>Tokyo</td>\n",
       "      <td>Japan</td>\n",
       "      <td>50ml</td>\n",
       "      <td>81.11</td>\n",
       "      <td>2017-07-26</td>\n",
       "      <td>5</td>\n",
       "      <td>2%</td>\n",
       "    </tr>\n",
       "    <tr>\n",
       "      <th>sid3</th>\n",
       "      <td>cid3108</td>\n",
       "      <td>Aqua</td>\n",
       "      <td>Positive</td>\n",
       "      <td>eau de parfum</td>\n",
       "      <td>Women</td>\n",
       "      <td>M</td>\n",
       "      <td>34</td>\n",
       "      <td>143.470592</td>\n",
       "      <td>100.429415</td>\n",
       "      <td>2.0</td>\n",
       "      <td>Bank Transfer</td>\n",
       "      <td>Tokyo</td>\n",
       "      <td>Japan</td>\n",
       "      <td>30ml</td>\n",
       "      <td>36.22</td>\n",
       "      <td>2019-12-23</td>\n",
       "      <td>1</td>\n",
       "      <td>2%</td>\n",
       "    </tr>\n",
       "    <tr>\n",
       "      <th>sid5</th>\n",
       "      <td>cid48531</td>\n",
       "      <td>Dusk</td>\n",
       "      <td>Positive</td>\n",
       "      <td>eau de parfum</td>\n",
       "      <td>Women</td>\n",
       "      <td>F</td>\n",
       "      <td>30</td>\n",
       "      <td>62.294481</td>\n",
       "      <td>37.376689</td>\n",
       "      <td>2.0</td>\n",
       "      <td>Cash</td>\n",
       "      <td>London</td>\n",
       "      <td>UK</td>\n",
       "      <td>30ml</td>\n",
       "      <td>44.53</td>\n",
       "      <td>2022-07-26</td>\n",
       "      <td>3</td>\n",
       "      <td>4%</td>\n",
       "    </tr>\n",
       "    <tr>\n",
       "      <th>sid6</th>\n",
       "      <td>cid26224</td>\n",
       "      <td>Aqua</td>\n",
       "      <td>Positive</td>\n",
       "      <td>eau de cologne</td>\n",
       "      <td>Unisex</td>\n",
       "      <td>M</td>\n",
       "      <td>27</td>\n",
       "      <td>127.765291</td>\n",
       "      <td>102.212233</td>\n",
       "      <td>3.0</td>\n",
       "      <td>Card</td>\n",
       "      <td>Dubai</td>\n",
       "      <td>UAE</td>\n",
       "      <td>50ml</td>\n",
       "      <td>59.32</td>\n",
       "      <td>2017-10-16</td>\n",
       "      <td>5</td>\n",
       "      <td>3%</td>\n",
       "    </tr>\n",
       "    <tr>\n",
       "      <th>sid8</th>\n",
       "      <td>cid39791</td>\n",
       "      <td>Dusk</td>\n",
       "      <td>Positive</td>\n",
       "      <td>eau de parfum</td>\n",
       "      <td>Men</td>\n",
       "      <td>M</td>\n",
       "      <td>44</td>\n",
       "      <td>180.938378</td>\n",
       "      <td>144.750702</td>\n",
       "      <td>NaN</td>\n",
       "      <td>Card</td>\n",
       "      <td>New York</td>\n",
       "      <td>USA</td>\n",
       "      <td>50ml</td>\n",
       "      <td>14.38</td>\n",
       "      <td>2020-08-07</td>\n",
       "      <td>1</td>\n",
       "      <td>2%</td>\n",
       "    </tr>\n",
       "    <tr>\n",
       "      <th>...</th>\n",
       "      <td>...</td>\n",
       "      <td>...</td>\n",
       "      <td>...</td>\n",
       "      <td>...</td>\n",
       "      <td>...</td>\n",
       "      <td>...</td>\n",
       "      <td>...</td>\n",
       "      <td>...</td>\n",
       "      <td>...</td>\n",
       "      <td>...</td>\n",
       "      <td>...</td>\n",
       "      <td>...</td>\n",
       "      <td>...</td>\n",
       "      <td>...</td>\n",
       "      <td>...</td>\n",
       "      <td>...</td>\n",
       "      <td>...</td>\n",
       "      <td>...</td>\n",
       "    </tr>\n",
       "    <tr>\n",
       "      <th>sid99995</th>\n",
       "      <td>cid14569</td>\n",
       "      <td>Elixir</td>\n",
       "      <td>Negative</td>\n",
       "      <td>eau de parfum</td>\n",
       "      <td>Men</td>\n",
       "      <td>O</td>\n",
       "      <td>24</td>\n",
       "      <td>412.205061</td>\n",
       "      <td>494.646073</td>\n",
       "      <td>2.0</td>\n",
       "      <td>Cash</td>\n",
       "      <td>Sydney</td>\n",
       "      <td>Australia</td>\n",
       "      <td>50ml</td>\n",
       "      <td>1.01</td>\n",
       "      <td>2019/10/16</td>\n",
       "      <td>3</td>\n",
       "      <td>2%</td>\n",
       "    </tr>\n",
       "    <tr>\n",
       "      <th>sid99996</th>\n",
       "      <td>cid15897</td>\n",
       "      <td>Aqua</td>\n",
       "      <td>Positive</td>\n",
       "      <td>eau de parfum</td>\n",
       "      <td>Unisex</td>\n",
       "      <td>F</td>\n",
       "      <td>25</td>\n",
       "      <td>592.211175</td>\n",
       "      <td>710.653410</td>\n",
       "      <td>NaN</td>\n",
       "      <td>Paypal</td>\n",
       "      <td>Dubai</td>\n",
       "      <td>UAE</td>\n",
       "      <td>100ml</td>\n",
       "      <td>16.28</td>\n",
       "      <td>2018/05/08</td>\n",
       "      <td>3</td>\n",
       "      <td>19%</td>\n",
       "    </tr>\n",
       "    <tr>\n",
       "      <th>sid99998</th>\n",
       "      <td>cid35422</td>\n",
       "      <td>Ciel</td>\n",
       "      <td>Positive</td>\n",
       "      <td>eau de parfum</td>\n",
       "      <td>Unisex</td>\n",
       "      <td>M</td>\n",
       "      <td>34</td>\n",
       "      <td>146.525687</td>\n",
       "      <td>10.000000</td>\n",
       "      <td>4.0</td>\n",
       "      <td>Card</td>\n",
       "      <td>Paris</td>\n",
       "      <td>France</td>\n",
       "      <td>100ml</td>\n",
       "      <td>69.93</td>\n",
       "      <td>2017/07/18</td>\n",
       "      <td>4</td>\n",
       "      <td>NaN</td>\n",
       "    </tr>\n",
       "    <tr>\n",
       "      <th>sid99999</th>\n",
       "      <td>cid8530</td>\n",
       "      <td>Elixir</td>\n",
       "      <td>Positive</td>\n",
       "      <td>eau de parfum</td>\n",
       "      <td>Women</td>\n",
       "      <td>F</td>\n",
       "      <td>40</td>\n",
       "      <td>284.124574</td>\n",
       "      <td>227.299659</td>\n",
       "      <td>6.0</td>\n",
       "      <td>Cash</td>\n",
       "      <td>Paris</td>\n",
       "      <td>France</td>\n",
       "      <td>50ml</td>\n",
       "      <td>97.11</td>\n",
       "      <td>2020/10/08</td>\n",
       "      <td>4</td>\n",
       "      <td>4%</td>\n",
       "    </tr>\n",
       "    <tr>\n",
       "      <th>sid100000</th>\n",
       "      <td>cid44269</td>\n",
       "      <td>Belle</td>\n",
       "      <td>Positive</td>\n",
       "      <td>eau de parfum</td>\n",
       "      <td>Women</td>\n",
       "      <td>M</td>\n",
       "      <td>46</td>\n",
       "      <td>6969.170760</td>\n",
       "      <td>47.773840</td>\n",
       "      <td>10.0</td>\n",
       "      <td>Cash</td>\n",
       "      <td>New York</td>\n",
       "      <td>USA</td>\n",
       "      <td>30ml</td>\n",
       "      <td>36.81</td>\n",
       "      <td>2019/10/16</td>\n",
       "      <td>5</td>\n",
       "      <td>2%</td>\n",
       "    </tr>\n",
       "  </tbody>\n",
       "</table>\n",
       "<p>144635 rows × 18 columns</p>\n",
       "</div>"
      ],
      "text/plain": [
       "          Customer ID Product Name Sentiment        Category User Type Gender   \n",
       "Sales ID                                                                        \n",
       "sid2         cid18393         Dusk  Positive   eau de parfum     Women      F  \\\n",
       "sid3          cid3108         Aqua  Positive   eau de parfum     Women      M   \n",
       "sid5         cid48531         Dusk  Positive   eau de parfum     Women      F   \n",
       "sid6         cid26224         Aqua  Positive  eau de cologne    Unisex      M   \n",
       "sid8         cid39791         Dusk  Positive   eau de parfum       Men      M   \n",
       "...               ...          ...       ...             ...       ...    ...   \n",
       "sid99995     cid14569       Elixir  Negative   eau de parfum       Men      O   \n",
       "sid99996     cid15897         Aqua  Positive   eau de parfum    Unisex      F   \n",
       "sid99998     cid35422         Ciel  Positive   eau de parfum    Unisex      M   \n",
       "sid99999      cid8530       Elixir  Positive   eau de parfum     Women      F   \n",
       "sid100000    cid44269        Belle  Positive   eau de parfum     Women      M   \n",
       "\n",
       "           Age        Price  Cost Price  Quantity Payment Method      City   \n",
       "Sales ID                                                                     \n",
       "sid2        37    98.222536   58.933522       8.0           Card     Tokyo  \\\n",
       "sid3        34   143.470592  100.429415       2.0  Bank Transfer     Tokyo   \n",
       "sid5        30    62.294481   37.376689       2.0           Cash    London   \n",
       "sid6        27   127.765291  102.212233       3.0           Card     Dubai   \n",
       "sid8        44   180.938378  144.750702       NaN           Card  New York   \n",
       "...        ...          ...         ...       ...            ...       ...   \n",
       "sid99995    24   412.205061  494.646073       2.0           Cash    Sydney   \n",
       "sid99996    25   592.211175  710.653410       NaN         Paypal     Dubai   \n",
       "sid99998    34   146.525687   10.000000       4.0           Card     Paris   \n",
       "sid99999    40   284.124574  227.299659       6.0           Cash     Paris   \n",
       "sid100000   46  6969.170760   47.773840      10.0           Cash  New York   \n",
       "\n",
       "             Country Bottle Size  Discount Purchase Date Rating   \n",
       "Sales ID                                                          \n",
       "sid2           Japan        50ml     81.11    2017-07-26      5  \\\n",
       "sid3           Japan        30ml     36.22    2019-12-23      1   \n",
       "sid5              UK        30ml     44.53    2022-07-26      3   \n",
       "sid6             UAE        50ml     59.32    2017-10-16      5   \n",
       "sid8             USA        50ml     14.38    2020-08-07      1   \n",
       "...              ...         ...       ...           ...    ...   \n",
       "sid99995   Australia        50ml      1.01    2019/10/16      3   \n",
       "sid99996         UAE       100ml     16.28    2018/05/08      3   \n",
       "sid99998      France       100ml     69.93    2017/07/18      4   \n",
       "sid99999      France        50ml     97.11    2020/10/08      4   \n",
       "sid100000        USA        30ml     36.81    2019/10/16      5   \n",
       "\n",
       "          Oil Content Percentage  \n",
       "Sales ID                          \n",
       "sid2                          2%  \n",
       "sid3                          2%  \n",
       "sid5                          4%  \n",
       "sid6                          3%  \n",
       "sid8                          2%  \n",
       "...                          ...  \n",
       "sid99995                      2%  \n",
       "sid99996                     19%  \n",
       "sid99998                     NaN  \n",
       "sid99999                      4%  \n",
       "sid100000                     2%  \n",
       "\n",
       "[144635 rows x 18 columns]"
      ]
     },
     "execution_count": 46,
     "metadata": {},
     "output_type": "execute_result"
    }
   ],
   "source": [
    "#deleting all the rows with ages>65\n",
    "df_raw=df_raw[df_raw['Age'] <= 65]\n",
    "df_raw"
   ]
  },
  {
   "cell_type": "code",
   "execution_count": 47,
   "id": "3041cbc9",
   "metadata": {},
   "outputs": [
    {
     "data": {
      "text/plain": [
       "(144635, 18)"
      ]
     },
     "execution_count": 47,
     "metadata": {},
     "output_type": "execute_result"
    }
   ],
   "source": [
    "df_raw.shape"
   ]
  },
  {
   "cell_type": "markdown",
   "id": "631274ef",
   "metadata": {},
   "source": [
    "Quantity"
   ]
  },
  {
   "cell_type": "code",
   "execution_count": 48,
   "id": "ccaa0b9d",
   "metadata": {
    "scrolled": true
   },
   "outputs": [
    {
     "data": {
      "text/plain": [
       "Sales ID\n",
       "sid2          8.0\n",
       "sid3          2.0\n",
       "sid5          2.0\n",
       "sid6          3.0\n",
       "sid8          NaN\n",
       "             ... \n",
       "sid99995      2.0\n",
       "sid99996      NaN\n",
       "sid99998      4.0\n",
       "sid99999      6.0\n",
       "sid100000    10.0\n",
       "Name: Quantity, Length: 144635, dtype: float64"
      ]
     },
     "execution_count": 48,
     "metadata": {},
     "output_type": "execute_result"
    }
   ],
   "source": [
    "df_raw['Quantity']"
   ]
  },
  {
   "cell_type": "code",
   "execution_count": 49,
   "id": "e70ebf0f",
   "metadata": {},
   "outputs": [
    {
     "data": {
      "text/plain": [
       "20676"
      ]
     },
     "execution_count": 49,
     "metadata": {},
     "output_type": "execute_result"
    }
   ],
   "source": [
    "#lets replace all missing values in the quantity column with the mean of the column.\n",
    "pd.isnull(df_raw['Quantity']).sum()"
   ]
  },
  {
   "cell_type": "code",
   "execution_count": 50,
   "id": "60c83b4b",
   "metadata": {},
   "outputs": [
    {
     "data": {
      "text/plain": [
       "6.0"
      ]
     },
     "execution_count": 50,
     "metadata": {},
     "output_type": "execute_result"
    }
   ],
   "source": [
    "mean_qty=df_raw['Quantity'].mean().round(0)\n",
    "mean_qty\n",
    "#since we cant have half quantitiy for a perfume, we round it to the nearest whole number."
   ]
  },
  {
   "cell_type": "code",
   "execution_count": 51,
   "id": "150141e0",
   "metadata": {},
   "outputs": [
    {
     "data": {
      "text/plain": [
       "Sales ID\n",
       "sid2          8.0\n",
       "sid3          2.0\n",
       "sid5          2.0\n",
       "sid6          3.0\n",
       "sid8          6.0\n",
       "             ... \n",
       "sid99995      2.0\n",
       "sid99996      6.0\n",
       "sid99998      4.0\n",
       "sid99999      6.0\n",
       "sid100000    10.0\n",
       "Name: Quantity, Length: 144635, dtype: float64"
      ]
     },
     "execution_count": 51,
     "metadata": {},
     "output_type": "execute_result"
    }
   ],
   "source": [
    "df_raw.loc[:,'Quantity']=df_raw['Quantity'].fillna(mean_qty)\n",
    "df_raw['Quantity']"
   ]
  },
  {
   "cell_type": "code",
   "execution_count": 52,
   "id": "027fca8c",
   "metadata": {},
   "outputs": [
    {
     "data": {
      "text/html": [
       "<div>\n",
       "<style scoped>\n",
       "    .dataframe tbody tr th:only-of-type {\n",
       "        vertical-align: middle;\n",
       "    }\n",
       "\n",
       "    .dataframe tbody tr th {\n",
       "        vertical-align: top;\n",
       "    }\n",
       "\n",
       "    .dataframe thead th {\n",
       "        text-align: right;\n",
       "    }\n",
       "</style>\n",
       "<table border=\"1\" class=\"dataframe\">\n",
       "  <thead>\n",
       "    <tr style=\"text-align: right;\">\n",
       "      <th></th>\n",
       "      <th>Customer ID</th>\n",
       "      <th>Product Name</th>\n",
       "      <th>Sentiment</th>\n",
       "      <th>Category</th>\n",
       "      <th>User Type</th>\n",
       "      <th>Gender</th>\n",
       "      <th>Age</th>\n",
       "      <th>Price</th>\n",
       "      <th>Cost Price</th>\n",
       "      <th>Quantity</th>\n",
       "      <th>Payment Method</th>\n",
       "      <th>City</th>\n",
       "      <th>Country</th>\n",
       "      <th>Bottle Size</th>\n",
       "      <th>Discount</th>\n",
       "      <th>Purchase Date</th>\n",
       "      <th>Rating</th>\n",
       "      <th>Oil Content Percentage</th>\n",
       "    </tr>\n",
       "    <tr>\n",
       "      <th>Sales ID</th>\n",
       "      <th></th>\n",
       "      <th></th>\n",
       "      <th></th>\n",
       "      <th></th>\n",
       "      <th></th>\n",
       "      <th></th>\n",
       "      <th></th>\n",
       "      <th></th>\n",
       "      <th></th>\n",
       "      <th></th>\n",
       "      <th></th>\n",
       "      <th></th>\n",
       "      <th></th>\n",
       "      <th></th>\n",
       "      <th></th>\n",
       "      <th></th>\n",
       "      <th></th>\n",
       "      <th></th>\n",
       "    </tr>\n",
       "  </thead>\n",
       "  <tbody>\n",
       "    <tr>\n",
       "      <th>sid2</th>\n",
       "      <td>cid18393</td>\n",
       "      <td>Dusk</td>\n",
       "      <td>Positive</td>\n",
       "      <td>eau de parfum</td>\n",
       "      <td>Women</td>\n",
       "      <td>F</td>\n",
       "      <td>37</td>\n",
       "      <td>98.222536</td>\n",
       "      <td>58.933522</td>\n",
       "      <td>8.0</td>\n",
       "      <td>Card</td>\n",
       "      <td>Tokyo</td>\n",
       "      <td>Japan</td>\n",
       "      <td>50ml</td>\n",
       "      <td>81.11</td>\n",
       "      <td>2017-07-26</td>\n",
       "      <td>5</td>\n",
       "      <td>2%</td>\n",
       "    </tr>\n",
       "    <tr>\n",
       "      <th>sid3</th>\n",
       "      <td>cid3108</td>\n",
       "      <td>Aqua</td>\n",
       "      <td>Positive</td>\n",
       "      <td>eau de parfum</td>\n",
       "      <td>Women</td>\n",
       "      <td>M</td>\n",
       "      <td>34</td>\n",
       "      <td>143.470592</td>\n",
       "      <td>100.429415</td>\n",
       "      <td>2.0</td>\n",
       "      <td>Bank Transfer</td>\n",
       "      <td>Tokyo</td>\n",
       "      <td>Japan</td>\n",
       "      <td>30ml</td>\n",
       "      <td>36.22</td>\n",
       "      <td>2019-12-23</td>\n",
       "      <td>1</td>\n",
       "      <td>2%</td>\n",
       "    </tr>\n",
       "    <tr>\n",
       "      <th>sid5</th>\n",
       "      <td>cid48531</td>\n",
       "      <td>Dusk</td>\n",
       "      <td>Positive</td>\n",
       "      <td>eau de parfum</td>\n",
       "      <td>Women</td>\n",
       "      <td>F</td>\n",
       "      <td>30</td>\n",
       "      <td>62.294481</td>\n",
       "      <td>37.376689</td>\n",
       "      <td>2.0</td>\n",
       "      <td>Cash</td>\n",
       "      <td>London</td>\n",
       "      <td>UK</td>\n",
       "      <td>30ml</td>\n",
       "      <td>44.53</td>\n",
       "      <td>2022-07-26</td>\n",
       "      <td>3</td>\n",
       "      <td>4%</td>\n",
       "    </tr>\n",
       "    <tr>\n",
       "      <th>sid6</th>\n",
       "      <td>cid26224</td>\n",
       "      <td>Aqua</td>\n",
       "      <td>Positive</td>\n",
       "      <td>eau de cologne</td>\n",
       "      <td>Unisex</td>\n",
       "      <td>M</td>\n",
       "      <td>27</td>\n",
       "      <td>127.765291</td>\n",
       "      <td>102.212233</td>\n",
       "      <td>3.0</td>\n",
       "      <td>Card</td>\n",
       "      <td>Dubai</td>\n",
       "      <td>UAE</td>\n",
       "      <td>50ml</td>\n",
       "      <td>59.32</td>\n",
       "      <td>2017-10-16</td>\n",
       "      <td>5</td>\n",
       "      <td>3%</td>\n",
       "    </tr>\n",
       "    <tr>\n",
       "      <th>sid8</th>\n",
       "      <td>cid39791</td>\n",
       "      <td>Dusk</td>\n",
       "      <td>Positive</td>\n",
       "      <td>eau de parfum</td>\n",
       "      <td>Men</td>\n",
       "      <td>M</td>\n",
       "      <td>44</td>\n",
       "      <td>180.938378</td>\n",
       "      <td>144.750702</td>\n",
       "      <td>6.0</td>\n",
       "      <td>Card</td>\n",
       "      <td>New York</td>\n",
       "      <td>USA</td>\n",
       "      <td>50ml</td>\n",
       "      <td>14.38</td>\n",
       "      <td>2020-08-07</td>\n",
       "      <td>1</td>\n",
       "      <td>2%</td>\n",
       "    </tr>\n",
       "    <tr>\n",
       "      <th>...</th>\n",
       "      <td>...</td>\n",
       "      <td>...</td>\n",
       "      <td>...</td>\n",
       "      <td>...</td>\n",
       "      <td>...</td>\n",
       "      <td>...</td>\n",
       "      <td>...</td>\n",
       "      <td>...</td>\n",
       "      <td>...</td>\n",
       "      <td>...</td>\n",
       "      <td>...</td>\n",
       "      <td>...</td>\n",
       "      <td>...</td>\n",
       "      <td>...</td>\n",
       "      <td>...</td>\n",
       "      <td>...</td>\n",
       "      <td>...</td>\n",
       "      <td>...</td>\n",
       "    </tr>\n",
       "    <tr>\n",
       "      <th>sid99995</th>\n",
       "      <td>cid14569</td>\n",
       "      <td>Elixir</td>\n",
       "      <td>Negative</td>\n",
       "      <td>eau de parfum</td>\n",
       "      <td>Men</td>\n",
       "      <td>O</td>\n",
       "      <td>24</td>\n",
       "      <td>412.205061</td>\n",
       "      <td>494.646073</td>\n",
       "      <td>2.0</td>\n",
       "      <td>Cash</td>\n",
       "      <td>Sydney</td>\n",
       "      <td>Australia</td>\n",
       "      <td>50ml</td>\n",
       "      <td>1.01</td>\n",
       "      <td>2019/10/16</td>\n",
       "      <td>3</td>\n",
       "      <td>2%</td>\n",
       "    </tr>\n",
       "    <tr>\n",
       "      <th>sid99996</th>\n",
       "      <td>cid15897</td>\n",
       "      <td>Aqua</td>\n",
       "      <td>Positive</td>\n",
       "      <td>eau de parfum</td>\n",
       "      <td>Unisex</td>\n",
       "      <td>F</td>\n",
       "      <td>25</td>\n",
       "      <td>592.211175</td>\n",
       "      <td>710.653410</td>\n",
       "      <td>6.0</td>\n",
       "      <td>Paypal</td>\n",
       "      <td>Dubai</td>\n",
       "      <td>UAE</td>\n",
       "      <td>100ml</td>\n",
       "      <td>16.28</td>\n",
       "      <td>2018/05/08</td>\n",
       "      <td>3</td>\n",
       "      <td>19%</td>\n",
       "    </tr>\n",
       "    <tr>\n",
       "      <th>sid99998</th>\n",
       "      <td>cid35422</td>\n",
       "      <td>Ciel</td>\n",
       "      <td>Positive</td>\n",
       "      <td>eau de parfum</td>\n",
       "      <td>Unisex</td>\n",
       "      <td>M</td>\n",
       "      <td>34</td>\n",
       "      <td>146.525687</td>\n",
       "      <td>10.000000</td>\n",
       "      <td>4.0</td>\n",
       "      <td>Card</td>\n",
       "      <td>Paris</td>\n",
       "      <td>France</td>\n",
       "      <td>100ml</td>\n",
       "      <td>69.93</td>\n",
       "      <td>2017/07/18</td>\n",
       "      <td>4</td>\n",
       "      <td>NaN</td>\n",
       "    </tr>\n",
       "    <tr>\n",
       "      <th>sid99999</th>\n",
       "      <td>cid8530</td>\n",
       "      <td>Elixir</td>\n",
       "      <td>Positive</td>\n",
       "      <td>eau de parfum</td>\n",
       "      <td>Women</td>\n",
       "      <td>F</td>\n",
       "      <td>40</td>\n",
       "      <td>284.124574</td>\n",
       "      <td>227.299659</td>\n",
       "      <td>6.0</td>\n",
       "      <td>Cash</td>\n",
       "      <td>Paris</td>\n",
       "      <td>France</td>\n",
       "      <td>50ml</td>\n",
       "      <td>97.11</td>\n",
       "      <td>2020/10/08</td>\n",
       "      <td>4</td>\n",
       "      <td>4%</td>\n",
       "    </tr>\n",
       "    <tr>\n",
       "      <th>sid100000</th>\n",
       "      <td>cid44269</td>\n",
       "      <td>Belle</td>\n",
       "      <td>Positive</td>\n",
       "      <td>eau de parfum</td>\n",
       "      <td>Women</td>\n",
       "      <td>M</td>\n",
       "      <td>46</td>\n",
       "      <td>6969.170760</td>\n",
       "      <td>47.773840</td>\n",
       "      <td>10.0</td>\n",
       "      <td>Cash</td>\n",
       "      <td>New York</td>\n",
       "      <td>USA</td>\n",
       "      <td>30ml</td>\n",
       "      <td>36.81</td>\n",
       "      <td>2019/10/16</td>\n",
       "      <td>5</td>\n",
       "      <td>2%</td>\n",
       "    </tr>\n",
       "  </tbody>\n",
       "</table>\n",
       "<p>144635 rows × 18 columns</p>\n",
       "</div>"
      ],
      "text/plain": [
       "          Customer ID Product Name Sentiment        Category User Type Gender   \n",
       "Sales ID                                                                        \n",
       "sid2         cid18393         Dusk  Positive   eau de parfum     Women      F  \\\n",
       "sid3          cid3108         Aqua  Positive   eau de parfum     Women      M   \n",
       "sid5         cid48531         Dusk  Positive   eau de parfum     Women      F   \n",
       "sid6         cid26224         Aqua  Positive  eau de cologne    Unisex      M   \n",
       "sid8         cid39791         Dusk  Positive   eau de parfum       Men      M   \n",
       "...               ...          ...       ...             ...       ...    ...   \n",
       "sid99995     cid14569       Elixir  Negative   eau de parfum       Men      O   \n",
       "sid99996     cid15897         Aqua  Positive   eau de parfum    Unisex      F   \n",
       "sid99998     cid35422         Ciel  Positive   eau de parfum    Unisex      M   \n",
       "sid99999      cid8530       Elixir  Positive   eau de parfum     Women      F   \n",
       "sid100000    cid44269        Belle  Positive   eau de parfum     Women      M   \n",
       "\n",
       "           Age        Price  Cost Price  Quantity Payment Method      City   \n",
       "Sales ID                                                                     \n",
       "sid2        37    98.222536   58.933522       8.0           Card     Tokyo  \\\n",
       "sid3        34   143.470592  100.429415       2.0  Bank Transfer     Tokyo   \n",
       "sid5        30    62.294481   37.376689       2.0           Cash    London   \n",
       "sid6        27   127.765291  102.212233       3.0           Card     Dubai   \n",
       "sid8        44   180.938378  144.750702       6.0           Card  New York   \n",
       "...        ...          ...         ...       ...            ...       ...   \n",
       "sid99995    24   412.205061  494.646073       2.0           Cash    Sydney   \n",
       "sid99996    25   592.211175  710.653410       6.0         Paypal     Dubai   \n",
       "sid99998    34   146.525687   10.000000       4.0           Card     Paris   \n",
       "sid99999    40   284.124574  227.299659       6.0           Cash     Paris   \n",
       "sid100000   46  6969.170760   47.773840      10.0           Cash  New York   \n",
       "\n",
       "             Country Bottle Size  Discount Purchase Date Rating   \n",
       "Sales ID                                                          \n",
       "sid2           Japan        50ml     81.11    2017-07-26      5  \\\n",
       "sid3           Japan        30ml     36.22    2019-12-23      1   \n",
       "sid5              UK        30ml     44.53    2022-07-26      3   \n",
       "sid6             UAE        50ml     59.32    2017-10-16      5   \n",
       "sid8             USA        50ml     14.38    2020-08-07      1   \n",
       "...              ...         ...       ...           ...    ...   \n",
       "sid99995   Australia        50ml      1.01    2019/10/16      3   \n",
       "sid99996         UAE       100ml     16.28    2018/05/08      3   \n",
       "sid99998      France       100ml     69.93    2017/07/18      4   \n",
       "sid99999      France        50ml     97.11    2020/10/08      4   \n",
       "sid100000        USA        30ml     36.81    2019/10/16      5   \n",
       "\n",
       "          Oil Content Percentage  \n",
       "Sales ID                          \n",
       "sid2                          2%  \n",
       "sid3                          2%  \n",
       "sid5                          4%  \n",
       "sid6                          3%  \n",
       "sid8                          2%  \n",
       "...                          ...  \n",
       "sid99995                      2%  \n",
       "sid99996                     19%  \n",
       "sid99998                     NaN  \n",
       "sid99999                      4%  \n",
       "sid100000                     2%  \n",
       "\n",
       "[144635 rows x 18 columns]"
      ]
     },
     "execution_count": 52,
     "metadata": {},
     "output_type": "execute_result"
    }
   ],
   "source": [
    "df_raw\n"
   ]
  },
  {
   "cell_type": "markdown",
   "id": "5a6d4b31",
   "metadata": {},
   "source": [
    "Payment Method"
   ]
  },
  {
   "cell_type": "code",
   "execution_count": 53,
   "id": "8cadaf0b",
   "metadata": {},
   "outputs": [
    {
     "data": {
      "text/plain": [
       "Sales ID\n",
       "sid2                  Card\n",
       "sid3         Bank Transfer\n",
       "sid5                  Cash\n",
       "sid6                  Card\n",
       "sid8                  Card\n",
       "                 ...      \n",
       "sid99995              Cash\n",
       "sid99996            Paypal\n",
       "sid99998              Card\n",
       "sid99999              Cash\n",
       "sid100000             Cash\n",
       "Name: Payment Method, Length: 144635, dtype: object"
      ]
     },
     "execution_count": 53,
     "metadata": {},
     "output_type": "execute_result"
    }
   ],
   "source": [
    "df_raw['Payment Method']"
   ]
  },
  {
   "cell_type": "code",
   "execution_count": 54,
   "id": "b0938e54",
   "metadata": {},
   "outputs": [
    {
     "data": {
      "text/plain": [
       "array(['Card', 'Bank Transfer', 'Cash', 'PayPal', nan, 'Paypal'],\n",
       "      dtype=object)"
      ]
     },
     "execution_count": 54,
     "metadata": {},
     "output_type": "execute_result"
    }
   ],
   "source": [
    "df_raw['Payment Method'].unique()"
   ]
  },
  {
   "cell_type": "code",
   "execution_count": 55,
   "id": "96b13782",
   "metadata": {},
   "outputs": [
    {
     "data": {
      "text/plain": [
       "array(['Card', 'Bank Transfer', 'Cash', 'PayPal', nan], dtype=object)"
      ]
     },
     "execution_count": 55,
     "metadata": {},
     "output_type": "execute_result"
    }
   ],
   "source": [
    "df_raw.loc[:,'Payment Method']=df_raw['Payment Method'].replace({'Paypal':'Bank Transfer'})\n",
    "df_raw['Payment Method'].unique()"
   ]
  },
  {
   "cell_type": "code",
   "execution_count": 56,
   "id": "3494a49a",
   "metadata": {},
   "outputs": [
    {
     "data": {
      "text/plain": [
       "4657"
      ]
     },
     "execution_count": 56,
     "metadata": {},
     "output_type": "execute_result"
    }
   ],
   "source": [
    "#replacing the missing values\n",
    "pd.isnull(df_raw['Payment Method']).sum()"
   ]
  },
  {
   "cell_type": "code",
   "execution_count": 57,
   "id": "6ee6f91f",
   "metadata": {},
   "outputs": [
    {
     "data": {
      "text/plain": [
       "Payment Method\n",
       "Card             91594\n",
       "Cash             29432\n",
       "Bank Transfer    17032\n",
       "PayPal            1920\n",
       "Name: count, dtype: int64"
      ]
     },
     "execution_count": 57,
     "metadata": {},
     "output_type": "execute_result"
    }
   ],
   "source": [
    "df_raw['Payment Method'].value_counts()"
   ]
  },
  {
   "cell_type": "code",
   "execution_count": 58,
   "id": "1c5c666e",
   "metadata": {},
   "outputs": [
    {
     "data": {
      "text/plain": [
       "0    Card\n",
       "Name: Payment Method, dtype: object"
      ]
     },
     "execution_count": 58,
     "metadata": {},
     "output_type": "execute_result"
    }
   ],
   "source": [
    "df_raw['Payment Method'].mode()"
   ]
  },
  {
   "cell_type": "code",
   "execution_count": 59,
   "id": "37e154a5",
   "metadata": {},
   "outputs": [
    {
     "data": {
      "text/plain": [
       "array(['Card', 'Bank Transfer', 'Cash', 'PayPal'], dtype=object)"
      ]
     },
     "execution_count": 59,
     "metadata": {},
     "output_type": "execute_result"
    }
   ],
   "source": [
    "df_raw.loc[:,'Payment Method']=df_raw['Payment Method'].fillna('Card')\n",
    "df_raw['Payment Method'].unique()"
   ]
  },
  {
   "cell_type": "markdown",
   "id": "a1294be7",
   "metadata": {},
   "source": [
    "City and Country"
   ]
  },
  {
   "cell_type": "code",
   "execution_count": 60,
   "id": "f8fdc3f1",
   "metadata": {},
   "outputs": [
    {
     "data": {
      "text/plain": [
       "array(['Tokyo', 'London', 'Dubai', 'New York', 'Paris', 'Sydney', nan],\n",
       "      dtype=object)"
      ]
     },
     "execution_count": 60,
     "metadata": {},
     "output_type": "execute_result"
    }
   ],
   "source": [
    "df_raw['City'].unique()"
   ]
  },
  {
   "cell_type": "code",
   "execution_count": 61,
   "id": "64bccfd8",
   "metadata": {},
   "outputs": [
    {
     "data": {
      "text/plain": [
       "3392"
      ]
     },
     "execution_count": 61,
     "metadata": {},
     "output_type": "execute_result"
    }
   ],
   "source": [
    "pd.isnull(df_raw['City']).sum()"
   ]
  },
  {
   "cell_type": "code",
   "execution_count": 62,
   "id": "5acf1117",
   "metadata": {},
   "outputs": [
    {
     "data": {
      "text/plain": [
       "array(['Japan', 'UK', 'UAE', 'USA', 'France', nan, 'Australia'],\n",
       "      dtype=object)"
      ]
     },
     "execution_count": 62,
     "metadata": {},
     "output_type": "execute_result"
    }
   ],
   "source": [
    "df_raw['Country'].unique()"
   ]
  },
  {
   "cell_type": "code",
   "execution_count": 63,
   "id": "52c25cee",
   "metadata": {},
   "outputs": [
    {
     "data": {
      "text/plain": [
       "9400"
      ]
     },
     "execution_count": 63,
     "metadata": {},
     "output_type": "execute_result"
    }
   ],
   "source": [
    "pd.isnull(df_raw['Country']).sum()"
   ]
  },
  {
   "cell_type": "code",
   "execution_count": 64,
   "id": "b1aa8800",
   "metadata": {},
   "outputs": [],
   "source": [
    "#fill the missing City rows with attributes of the country column and vice versa  through mapping.\n",
    "#first we create a dictionary with keys and its values.\n",
    "\n",
    "city_country_mapping = {\n",
    "    'Tokyo': 'Japan',\n",
    "    'London': 'UK',\n",
    "    'Dubai': 'UAE',\n",
    "    'New York': 'USA',\n",
    "    'Paris': 'France',\n",
    "    'Sydney': 'Australia'\n",
    "}"
   ]
  },
  {
   "cell_type": "code",
   "execution_count": 65,
   "id": "26a5de29",
   "metadata": {},
   "outputs": [],
   "source": [
    "# Fill missing values in City column using Country column\n",
    "df_raw.loc[:,'City'] =df_raw['City'].fillna(df_raw['Country'].map(city_country_mapping))\n"
   ]
  },
  {
   "cell_type": "code",
   "execution_count": 66,
   "id": "ddd80dea",
   "metadata": {},
   "outputs": [],
   "source": [
    "# Fill missing values in Country column using City column\n",
    "#lets create another dictionary by iterating over the items in city_country. i.e swapping the keys for values and vice versa\n",
    "country_city_mapping = {v: k for k, v in city_country_mapping.items()}\n",
    "df_raw.loc[:,'Country'] = df_raw['Country'].fillna(df_raw['City'].map(country_city_mapping))\n"
   ]
  },
  {
   "cell_type": "code",
   "execution_count": 67,
   "id": "1626ba51",
   "metadata": {},
   "outputs": [
    {
     "data": {
      "text/plain": [
       "3392"
      ]
     },
     "execution_count": 67,
     "metadata": {},
     "output_type": "execute_result"
    }
   ],
   "source": [
    "#lets check how many missing values we have now\n",
    "pd.isnull(df_raw['City']).sum()"
   ]
  },
  {
   "cell_type": "code",
   "execution_count": 68,
   "id": "760b5934",
   "metadata": {},
   "outputs": [
    {
     "data": {
      "text/plain": [
       "9400"
      ]
     },
     "execution_count": 68,
     "metadata": {},
     "output_type": "execute_result"
    }
   ],
   "source": [
    "pd.isnull(df_raw['Country']).sum()"
   ]
  },
  {
   "cell_type": "code",
   "execution_count": 69,
   "id": "138a5424",
   "metadata": {},
   "outputs": [],
   "source": [
    "#lets fill the empty city and Country with Online. They  might be sales that did not originate from any location, as such ,..\n",
    "#customers bought them online and not from a ny physical  store.\n",
    "df_raw.loc[:,'City']=df_raw['City'].fillna('Online')\n"
   ]
  },
  {
   "cell_type": "code",
   "execution_count": 70,
   "id": "5320b13d",
   "metadata": {},
   "outputs": [],
   "source": [
    "df_raw.loc[:,'Country']=df_raw['Country'].fillna('Online')"
   ]
  },
  {
   "cell_type": "code",
   "execution_count": 71,
   "id": "825d08ce",
   "metadata": {},
   "outputs": [
    {
     "data": {
      "text/plain": [
       "Country\n",
       "UK           27232\n",
       "USA          27004\n",
       "UAE          26887\n",
       "France       26811\n",
       "Japan        13715\n",
       "Australia    13586\n",
       "Online        9400\n",
       "Name: count, dtype: int64"
      ]
     },
     "execution_count": 71,
     "metadata": {},
     "output_type": "execute_result"
    }
   ],
   "source": [
    "df_raw['Country'].value_counts()"
   ]
  },
  {
   "cell_type": "code",
   "execution_count": 72,
   "id": "17018335",
   "metadata": {},
   "outputs": [
    {
     "data": {
      "text/plain": [
       "City\n",
       "London      28435\n",
       "New York    28232\n",
       "Dubai       28069\n",
       "Paris       27985\n",
       "Tokyo       14354\n",
       "Sydney      14168\n",
       "Online       3392\n",
       "Name: count, dtype: int64"
      ]
     },
     "execution_count": 72,
     "metadata": {},
     "output_type": "execute_result"
    }
   ],
   "source": [
    "df_raw['City'].value_counts()"
   ]
  },
  {
   "cell_type": "markdown",
   "id": "efff2d47",
   "metadata": {},
   "source": [
    "Bottle Size"
   ]
  },
  {
   "cell_type": "code",
   "execution_count": 73,
   "id": "02c296db",
   "metadata": {
    "scrolled": true
   },
   "outputs": [
    {
     "data": {
      "text/plain": [
       "Sales ID\n",
       "sid2          50ml\n",
       "sid3          30ml\n",
       "sid5          30ml\n",
       "sid6          50ml\n",
       "sid8          50ml\n",
       "             ...  \n",
       "sid99995      50ml\n",
       "sid99996     100ml\n",
       "sid99998     100ml\n",
       "sid99999      50ml\n",
       "sid100000     30ml\n",
       "Name: Bottle Size, Length: 144635, dtype: object"
      ]
     },
     "execution_count": 73,
     "metadata": {},
     "output_type": "execute_result"
    }
   ],
   "source": [
    "df_raw['Bottle Size']"
   ]
  },
  {
   "cell_type": "code",
   "execution_count": 74,
   "id": "33cf5a0a",
   "metadata": {},
   "outputs": [
    {
     "data": {
      "text/plain": [
       "array(['50ml', '30ml', '75ml', '100ml', '200ml', nan], dtype=object)"
      ]
     },
     "execution_count": 74,
     "metadata": {},
     "output_type": "execute_result"
    }
   ],
   "source": [
    "df_raw['Bottle Size'].unique()"
   ]
  },
  {
   "cell_type": "code",
   "execution_count": 75,
   "id": "2fc89cea",
   "metadata": {},
   "outputs": [
    {
     "data": {
      "text/plain": [
       "955"
      ]
     },
     "execution_count": 75,
     "metadata": {},
     "output_type": "execute_result"
    }
   ],
   "source": [
    "pd.isnull(df_raw['Bottle Size']).sum()"
   ]
  },
  {
   "cell_type": "code",
   "execution_count": 76,
   "id": "875072cd",
   "metadata": {},
   "outputs": [
    {
     "data": {
      "text/plain": [
       "0    50ml\n",
       "Name: Bottle Size, dtype: object"
      ]
     },
     "execution_count": 76,
     "metadata": {},
     "output_type": "execute_result"
    }
   ],
   "source": [
    "df_raw['Bottle Size'].mode()"
   ]
  },
  {
   "cell_type": "code",
   "execution_count": 77,
   "id": "48d7667b",
   "metadata": {},
   "outputs": [],
   "source": [
    "#lets replace all the nan with the mode of the column.\n",
    "df_raw.loc[:,'Bottle Size']=df_raw['Bottle Size'].fillna('50ml')"
   ]
  },
  {
   "cell_type": "code",
   "execution_count": 78,
   "id": "fbae2f47",
   "metadata": {},
   "outputs": [],
   "source": [
    "#lets rename the bottle size column and remove ml from the body of the values\n",
    "\n",
    "df_raw.loc[:,'Bottle Size']=df_raw['Bottle Size'].str.replace('ml','')"
   ]
  },
  {
   "cell_type": "code",
   "execution_count": 79,
   "id": "3354c8d0",
   "metadata": {},
   "outputs": [],
   "source": [
    "#renaming the column\n",
    "df_raw = df_raw.rename(columns={'Bottle Size': 'Bottle Size (ml)'})"
   ]
  },
  {
   "cell_type": "code",
   "execution_count": 80,
   "id": "78763462",
   "metadata": {},
   "outputs": [],
   "source": [
    "#lets change the column to int\n",
    "df_raw['Bottle Size (ml)']=df_raw['Bottle Size (ml)'].astype(int)"
   ]
  },
  {
   "cell_type": "markdown",
   "id": "485414e5",
   "metadata": {},
   "source": [
    "DISCOUNT"
   ]
  },
  {
   "cell_type": "code",
   "execution_count": 81,
   "id": "6a84d35c",
   "metadata": {},
   "outputs": [
    {
     "data": {
      "text/plain": [
       "Sales ID\n",
       "sid2         81.11\n",
       "sid3         36.22\n",
       "sid5         44.53\n",
       "sid6         59.32\n",
       "sid8         14.38\n",
       "             ...  \n",
       "sid99995      1.01\n",
       "sid99996     16.28\n",
       "sid99998     69.93\n",
       "sid99999     97.11\n",
       "sid100000    36.81\n",
       "Name: Discount, Length: 144635, dtype: float64"
      ]
     },
     "execution_count": 81,
     "metadata": {},
     "output_type": "execute_result"
    }
   ],
   "source": [
    "df_raw['Discount']"
   ]
  },
  {
   "cell_type": "code",
   "execution_count": 82,
   "id": "beb88326",
   "metadata": {},
   "outputs": [
    {
     "data": {
      "text/plain": [
       "5077"
      ]
     },
     "execution_count": 82,
     "metadata": {},
     "output_type": "execute_result"
    }
   ],
   "source": [
    "pd.isnull(df_raw['Discount']).sum()"
   ]
  },
  {
   "cell_type": "code",
   "execution_count": 83,
   "id": "41c481b8",
   "metadata": {},
   "outputs": [],
   "source": [
    "#the missing   values in the discount column would be replaced with Zeros.We want to assume that those sales had no discounts on them.\n",
    "df_raw.loc[:,'Discount']=df_raw['Discount'].fillna(0)"
   ]
  },
  {
   "cell_type": "code",
   "execution_count": 84,
   "id": "7993f93a",
   "metadata": {},
   "outputs": [
    {
     "data": {
      "text/plain": [
       "0"
      ]
     },
     "execution_count": 84,
     "metadata": {},
     "output_type": "execute_result"
    }
   ],
   "source": [
    "pd.isnull(df_raw['Discount']).sum()"
   ]
  },
  {
   "cell_type": "markdown",
   "id": "758d1192",
   "metadata": {},
   "source": [
    "Purchase Date"
   ]
  },
  {
   "cell_type": "code",
   "execution_count": 85,
   "id": "ca09f23f",
   "metadata": {},
   "outputs": [
    {
     "data": {
      "text/plain": [
       "Sales ID\n",
       "sid2         2017-07-26\n",
       "sid3         2019-12-23\n",
       "sid5         2022-07-26\n",
       "sid6         2017-10-16\n",
       "sid8         2020-08-07\n",
       "                ...    \n",
       "sid99995     2019/10/16\n",
       "sid99996     2018/05/08\n",
       "sid99998     2017/07/18\n",
       "sid99999     2020/10/08\n",
       "sid100000    2019/10/16\n",
       "Name: Purchase Date, Length: 144635, dtype: object"
      ]
     },
     "execution_count": 85,
     "metadata": {},
     "output_type": "execute_result"
    }
   ],
   "source": [
    "df_raw['Purchase Date']"
   ]
  },
  {
   "cell_type": "code",
   "execution_count": 86,
   "id": "9c52d814",
   "metadata": {},
   "outputs": [
    {
     "data": {
      "text/plain": [
       "0"
      ]
     },
     "execution_count": 86,
     "metadata": {},
     "output_type": "execute_result"
    }
   ],
   "source": [
    "#lets check for missing date values\n",
    "pd.isnull(df_raw['Purchase Date']).sum()"
   ]
  },
  {
   "cell_type": "code",
   "execution_count": 87,
   "id": "689521e0",
   "metadata": {},
   "outputs": [
    {
     "data": {
      "text/plain": [
       "array(['2017-07-26', '2019-12-23', '2022-07-26', ..., '2018/09/27',\n",
       "       '2019/08/22', '2020/02/26'], dtype=object)"
      ]
     },
     "execution_count": 87,
     "metadata": {},
     "output_type": "execute_result"
    }
   ],
   "source": [
    "df_raw['Purchase Date'].unique()"
   ]
  },
  {
   "cell_type": "code",
   "execution_count": 88,
   "id": "9bb8b6b3",
   "metadata": {
    "scrolled": false
   },
   "outputs": [
    {
     "data": {
      "text/plain": [
       "Sales ID\n",
       "sid2         2017-07-26 00:00:00\n",
       "sid3         2019-12-23 00:00:00\n",
       "sid5         2022-07-26 00:00:00\n",
       "sid6         2017-10-16 00:00:00\n",
       "sid8         2020-08-07 00:00:00\n",
       "                    ...         \n",
       "sid99995                     NaT\n",
       "sid99996                     NaT\n",
       "sid99998                     NaT\n",
       "sid99999                     NaT\n",
       "sid100000                    NaT\n",
       "Name: Purchase Date, Length: 144635, dtype: object"
      ]
     },
     "execution_count": 88,
     "metadata": {},
     "output_type": "execute_result"
    }
   ],
   "source": [
    "#lets standardize the date column\n",
    "df_raw.loc[:,'Purchase Date']=pd.to_datetime(df_raw['Purchase Date'], format='%Y-%m-%d', errors='coerce')\n",
    "df_raw['Purchase Date']"
   ]
  },
  {
   "cell_type": "code",
   "execution_count": 89,
   "id": "ef63c495",
   "metadata": {},
   "outputs": [
    {
     "name": "stdout",
     "output_type": "stream",
     "text": [
      "          Customer ID Product Name Sentiment        Category User Type Gender   \n",
      "Sales ID                                                                        \n",
      "sid14        cid29972        Belle  Positive   eau de parfum     Women      F  \\\n",
      "sid27        cid35312         Dusk  Positive   eau de parfum    Unisex      M   \n",
      "sid53        cid28741       Elixir  Negative   eau de parfum    Unisex      M   \n",
      "sid66        cid11742        Belle  Positive  eau de cologne     Women      F   \n",
      "sid92        cid15480         Aqua  Negative   eau de parfum    Unisex      F   \n",
      "...               ...          ...       ...             ...       ...    ...   \n",
      "sid99995     cid14569       Elixir  Negative   eau de parfum       Men      O   \n",
      "sid99996     cid15897         Aqua  Positive   eau de parfum    Unisex      F   \n",
      "sid99998     cid35422         Ciel  Positive   eau de parfum    Unisex      M   \n",
      "sid99999      cid8530       Elixir  Positive   eau de parfum     Women      F   \n",
      "sid100000    cid44269        Belle  Positive   eau de parfum     Women      M   \n",
      "\n",
      "           Age        Price  Cost Price  Quantity Payment Method      City   \n",
      "Sales ID                                                                     \n",
      "sid14       20    82.046807   49.228084       1.0  Bank Transfer     Paris  \\\n",
      "sid27       43   246.625657  197.300525       1.0           Card     Dubai   \n",
      "sid53       21    99.018765   59.411259       2.0           Card     Dubai   \n",
      "sid66       38   281.715638  225.372510       5.0           Card     Dubai   \n",
      "sid92       19    78.623144   55.036201       6.0           Card    London   \n",
      "...        ...          ...         ...       ...            ...       ...   \n",
      "sid99995    24   412.205061  494.646073       2.0           Cash    Sydney   \n",
      "sid99996    25   592.211175  710.653410       6.0  Bank Transfer     Dubai   \n",
      "sid99998    34   146.525687   10.000000       4.0           Card     Paris   \n",
      "sid99999    40   284.124574  227.299659       6.0           Cash     Paris   \n",
      "sid100000   46  6969.170760   47.773840      10.0           Cash  New York   \n",
      "\n",
      "             Country  Bottle Size (ml)  Discount Purchase Date Rating   \n",
      "Sales ID                                                                \n",
      "sid14         France               100      0.00           NaT      5  \\\n",
      "sid27            UAE               200      0.00           NaT      2   \n",
      "sid53            UAE                30      0.00           NaT      1   \n",
      "sid66            UAE               200      0.00           NaT      4   \n",
      "sid92             UK                50      0.00           NaT      1   \n",
      "...              ...               ...       ...           ...    ...   \n",
      "sid99995   Australia                50      1.01           NaT      3   \n",
      "sid99996         UAE               100     16.28           NaT      3   \n",
      "sid99998      France               100     69.93           NaT      4   \n",
      "sid99999      France                50     97.11           NaT      4   \n",
      "sid100000        USA                30     36.81           NaT      5   \n",
      "\n",
      "          Oil Content Percentage  \n",
      "Sales ID                          \n",
      "sid14                         3%  \n",
      "sid27                         3%  \n",
      "sid53                         4%  \n",
      "sid66                         2%  \n",
      "sid92                         4%  \n",
      "...                          ...  \n",
      "sid99995                      2%  \n",
      "sid99996                     19%  \n",
      "sid99998                     NaN  \n",
      "sid99999                      4%  \n",
      "sid100000                     2%  \n",
      "\n",
      "[83714 rows x 18 columns]\n"
     ]
    }
   ],
   "source": [
    "missing_dates=df_raw[df_raw['Purchase Date'].isna()]\n",
    "print(missing_dates)"
   ]
  },
  {
   "cell_type": "code",
   "execution_count": 90,
   "id": "732bc244",
   "metadata": {
    "scrolled": true
   },
   "outputs": [
    {
     "data": {
      "text/plain": [
       "83714"
      ]
     },
     "execution_count": 90,
     "metadata": {},
     "output_type": "execute_result"
    }
   ],
   "source": [
    "df_raw['Purchase Date'].isna().sum()"
   ]
  },
  {
   "cell_type": "code",
   "execution_count": 91,
   "id": "dbe2f1fd",
   "metadata": {},
   "outputs": [],
   "source": [
    "import numpy as np\n",
    "\n",
    "# Generate random dates between 2017 and 2022\n",
    "start_date = pd.to_datetime('2017-01-01')\n",
    "end_date = pd.to_datetime('2022-12-31')\n",
    "random_dates = np.random.choice(pd.date_range(start_date, end_date), size=df_raw['Purchase Date'].isnull().sum())\n",
    "\n",
    "# Fill NaN values with random dates\n",
    "df_raw.loc[df_raw['Purchase Date'].isnull(), 'Purchase Date'] = random_dates"
   ]
  },
  {
   "cell_type": "code",
   "execution_count": 92,
   "id": "a34219de",
   "metadata": {
    "scrolled": true
   },
   "outputs": [
    {
     "data": {
      "text/plain": [
       "Sales ID\n",
       "sid2                   2017-07-26 00:00:00\n",
       "sid3                   2019-12-23 00:00:00\n",
       "sid5                   2022-07-26 00:00:00\n",
       "sid6                   2017-10-16 00:00:00\n",
       "sid8                   2020-08-07 00:00:00\n",
       "                         ...              \n",
       "sid99995     2017-06-22T00:00:00.000000000\n",
       "sid99996     2022-12-31T00:00:00.000000000\n",
       "sid99998     2021-09-21T00:00:00.000000000\n",
       "sid99999     2020-09-22T00:00:00.000000000\n",
       "sid100000    2020-12-16T00:00:00.000000000\n",
       "Name: Purchase Date, Length: 144635, dtype: object"
      ]
     },
     "execution_count": 92,
     "metadata": {},
     "output_type": "execute_result"
    }
   ],
   "source": [
    "df_raw['Purchase Date']"
   ]
  },
  {
   "cell_type": "code",
   "execution_count": 93,
   "id": "cf341e41",
   "metadata": {},
   "outputs": [],
   "source": [
    "df_raw['Purchase Date'] = pd.to_datetime(df_raw['Purchase Date'])\n",
    "df_raw['Purchase Date'] = df_raw['Purchase Date'].dt.strftime('%Y-%m-%d')\n"
   ]
  },
  {
   "cell_type": "code",
   "execution_count": 94,
   "id": "6458303a",
   "metadata": {
    "scrolled": true
   },
   "outputs": [
    {
     "data": {
      "text/plain": [
       "0"
      ]
     },
     "execution_count": 94,
     "metadata": {},
     "output_type": "execute_result"
    }
   ],
   "source": [
    "df_raw['Purchase Date'].isna().sum()"
   ]
  },
  {
   "cell_type": "markdown",
   "id": "ade9a5a1",
   "metadata": {},
   "source": [
    "Rating"
   ]
  },
  {
   "cell_type": "code",
   "execution_count": 95,
   "id": "9b3abf6a",
   "metadata": {},
   "outputs": [
    {
     "data": {
      "text/plain": [
       "Sales ID\n",
       "sid2         5\n",
       "sid3         1\n",
       "sid5         3\n",
       "sid6         5\n",
       "sid8         1\n",
       "            ..\n",
       "sid99995     3\n",
       "sid99996     3\n",
       "sid99998     4\n",
       "sid99999     4\n",
       "sid100000    5\n",
       "Name: Rating, Length: 144635, dtype: object"
      ]
     },
     "execution_count": 95,
     "metadata": {},
     "output_type": "execute_result"
    }
   ],
   "source": [
    "df_raw['Rating']"
   ]
  },
  {
   "cell_type": "code",
   "execution_count": 96,
   "id": "1d65429f",
   "metadata": {},
   "outputs": [
    {
     "data": {
      "text/plain": [
       "array(['5', '1', '3', '4', '2021-05-11', '12', '2', '10', '2022-06-12', 2,\n",
       "       3, 4, 1, 5], dtype=object)"
      ]
     },
     "execution_count": 96,
     "metadata": {},
     "output_type": "execute_result"
    }
   ],
   "source": [
    "df_raw['Rating'].unique()"
   ]
  },
  {
   "cell_type": "code",
   "execution_count": 97,
   "id": "6807068a",
   "metadata": {},
   "outputs": [],
   "source": [
    "#the rating columns should be comprised of numbers 1-5. however we have numbers of up 12 as well as Date columns.\n",
    "#we replace the Ratings of 12 with 2 and 10 with 1 and also work on those having dates. change the column to an integer...\n",
    "#so that values recorded as strings can reflect int values.\n"
   ]
  },
  {
   "cell_type": "code",
   "execution_count": 98,
   "id": "cdd44132",
   "metadata": {},
   "outputs": [],
   "source": [
    "df_raw.loc[:,'Rating']=df_raw['Rating'].replace({'10':1,'12:':2, '2021-05-11':1,'2022-06-12':2})"
   ]
  },
  {
   "cell_type": "code",
   "execution_count": 99,
   "id": "8eda9572",
   "metadata": {},
   "outputs": [],
   "source": [
    "#lets assign int to the ratings column\n",
    "df_raw.loc[:,'Rating']=df_raw['Rating'].astype(int)"
   ]
  },
  {
   "cell_type": "markdown",
   "id": "e3335fa2",
   "metadata": {},
   "source": [
    "Oil Percentage"
   ]
  },
  {
   "cell_type": "code",
   "execution_count": 100,
   "id": "27998d0e",
   "metadata": {},
   "outputs": [
    {
     "data": {
      "text/plain": [
       "Sales ID\n",
       "sid2          2%\n",
       "sid3          2%\n",
       "sid5          4%\n",
       "sid6          3%\n",
       "sid8          2%\n",
       "            ... \n",
       "sid99995      2%\n",
       "sid99996     19%\n",
       "sid99998     NaN\n",
       "sid99999      4%\n",
       "sid100000     2%\n",
       "Name: Oil Content Percentage, Length: 144635, dtype: object"
      ]
     },
     "execution_count": 100,
     "metadata": {},
     "output_type": "execute_result"
    }
   ],
   "source": [
    "df_raw['Oil Content Percentage']"
   ]
  },
  {
   "cell_type": "code",
   "execution_count": 101,
   "id": "4bbe1bf7",
   "metadata": {},
   "outputs": [],
   "source": [
    "df_raw['Oil Content Percentage']=df_raw['Oil Content Percentage'].str.replace('%', '')"
   ]
  },
  {
   "cell_type": "code",
   "execution_count": 102,
   "id": "c0ff49d1",
   "metadata": {},
   "outputs": [],
   "source": [
    "df_raw=df_raw.rename(columns={'Oil Content Percentage': 'Oil Content (%)'})"
   ]
  },
  {
   "cell_type": "code",
   "execution_count": 103,
   "id": "36f5019a",
   "metadata": {},
   "outputs": [
    {
     "data": {
      "text/plain": [
       "8055"
      ]
     },
     "execution_count": 103,
     "metadata": {},
     "output_type": "execute_result"
    }
   ],
   "source": [
    "df_raw['Oil Content (%)'].isna().sum()"
   ]
  },
  {
   "cell_type": "code",
   "execution_count": 104,
   "id": "89e72872",
   "metadata": {},
   "outputs": [],
   "source": [
    "#we want to randomly assign values to the oil content % based on the values of the category row wise.\n",
    "#NB: The Oil content % column was initially generated at random based on the general applications o essential oils to categories \n",
    "#of fragrances.\n",
    "category_mapping = {\n",
    "    \"eau de cologne\": (2, 4),\n",
    "    \"eau de toilette\": (5, 15),\n",
    "    \"eau de parfum\": (16, 19)\n",
    "}"
   ]
  },
  {
   "cell_type": "code",
   "execution_count": 105,
   "id": "06c31128",
   "metadata": {},
   "outputs": [],
   "source": [
    "#lets define a function that will raandomly generate numbers to fill the missing values.\n",
    "import numpy as np\n",
    "\n",
    "def assign_random_value(Category):\n",
    "    min_val, max_val = category_mapping[Category]\n",
    "    return np.random.randint(min_val, max_val + 1)\n"
   ]
  },
  {
   "cell_type": "code",
   "execution_count": 106,
   "id": "60806da9",
   "metadata": {},
   "outputs": [],
   "source": [
    "#filling up the missing values in oil content column if null based on the valuue of the category column  \n",
    "df_raw[\"oil content (%)\"] =df_raw.apply(lambda row: assign_random_value(row[\"Category\"])\n",
    "         if pd.isnull(row[\"Oil Content (%)\"])\n",
    "         else row[\"Oil Content (%)\"], axis=1)\n"
   ]
  },
  {
   "cell_type": "code",
   "execution_count": 107,
   "id": "eee7ba4f",
   "metadata": {},
   "outputs": [
    {
     "data": {
      "text/html": [
       "<div>\n",
       "<style scoped>\n",
       "    .dataframe tbody tr th:only-of-type {\n",
       "        vertical-align: middle;\n",
       "    }\n",
       "\n",
       "    .dataframe tbody tr th {\n",
       "        vertical-align: top;\n",
       "    }\n",
       "\n",
       "    .dataframe thead th {\n",
       "        text-align: right;\n",
       "    }\n",
       "</style>\n",
       "<table border=\"1\" class=\"dataframe\">\n",
       "  <thead>\n",
       "    <tr style=\"text-align: right;\">\n",
       "      <th></th>\n",
       "      <th>Customer ID</th>\n",
       "      <th>Product Name</th>\n",
       "      <th>Sentiment</th>\n",
       "      <th>Category</th>\n",
       "      <th>User Type</th>\n",
       "      <th>Gender</th>\n",
       "      <th>Age</th>\n",
       "      <th>Price</th>\n",
       "      <th>Cost Price</th>\n",
       "      <th>Quantity</th>\n",
       "      <th>Payment Method</th>\n",
       "      <th>City</th>\n",
       "      <th>Country</th>\n",
       "      <th>Bottle Size (ml)</th>\n",
       "      <th>Discount</th>\n",
       "      <th>Purchase Date</th>\n",
       "      <th>Rating</th>\n",
       "      <th>Oil Content (%)</th>\n",
       "      <th>oil content (%)</th>\n",
       "    </tr>\n",
       "    <tr>\n",
       "      <th>Sales ID</th>\n",
       "      <th></th>\n",
       "      <th></th>\n",
       "      <th></th>\n",
       "      <th></th>\n",
       "      <th></th>\n",
       "      <th></th>\n",
       "      <th></th>\n",
       "      <th></th>\n",
       "      <th></th>\n",
       "      <th></th>\n",
       "      <th></th>\n",
       "      <th></th>\n",
       "      <th></th>\n",
       "      <th></th>\n",
       "      <th></th>\n",
       "      <th></th>\n",
       "      <th></th>\n",
       "      <th></th>\n",
       "      <th></th>\n",
       "    </tr>\n",
       "  </thead>\n",
       "  <tbody>\n",
       "    <tr>\n",
       "      <th>sid2</th>\n",
       "      <td>cid18393</td>\n",
       "      <td>Dusk</td>\n",
       "      <td>Positive</td>\n",
       "      <td>eau de parfum</td>\n",
       "      <td>Women</td>\n",
       "      <td>F</td>\n",
       "      <td>37</td>\n",
       "      <td>98.222536</td>\n",
       "      <td>58.933522</td>\n",
       "      <td>8.0</td>\n",
       "      <td>Card</td>\n",
       "      <td>Tokyo</td>\n",
       "      <td>Japan</td>\n",
       "      <td>50</td>\n",
       "      <td>81.11</td>\n",
       "      <td>2017-07-26</td>\n",
       "      <td>5</td>\n",
       "      <td>2</td>\n",
       "      <td>2</td>\n",
       "    </tr>\n",
       "    <tr>\n",
       "      <th>sid3</th>\n",
       "      <td>cid3108</td>\n",
       "      <td>Aqua</td>\n",
       "      <td>Positive</td>\n",
       "      <td>eau de parfum</td>\n",
       "      <td>Women</td>\n",
       "      <td>M</td>\n",
       "      <td>34</td>\n",
       "      <td>143.470592</td>\n",
       "      <td>100.429415</td>\n",
       "      <td>2.0</td>\n",
       "      <td>Bank Transfer</td>\n",
       "      <td>Tokyo</td>\n",
       "      <td>Japan</td>\n",
       "      <td>30</td>\n",
       "      <td>36.22</td>\n",
       "      <td>2019-12-23</td>\n",
       "      <td>1</td>\n",
       "      <td>2</td>\n",
       "      <td>2</td>\n",
       "    </tr>\n",
       "    <tr>\n",
       "      <th>sid5</th>\n",
       "      <td>cid48531</td>\n",
       "      <td>Dusk</td>\n",
       "      <td>Positive</td>\n",
       "      <td>eau de parfum</td>\n",
       "      <td>Women</td>\n",
       "      <td>F</td>\n",
       "      <td>30</td>\n",
       "      <td>62.294481</td>\n",
       "      <td>37.376689</td>\n",
       "      <td>2.0</td>\n",
       "      <td>Cash</td>\n",
       "      <td>London</td>\n",
       "      <td>UK</td>\n",
       "      <td>30</td>\n",
       "      <td>44.53</td>\n",
       "      <td>2022-07-26</td>\n",
       "      <td>3</td>\n",
       "      <td>4</td>\n",
       "      <td>4</td>\n",
       "    </tr>\n",
       "    <tr>\n",
       "      <th>sid6</th>\n",
       "      <td>cid26224</td>\n",
       "      <td>Aqua</td>\n",
       "      <td>Positive</td>\n",
       "      <td>eau de cologne</td>\n",
       "      <td>Unisex</td>\n",
       "      <td>M</td>\n",
       "      <td>27</td>\n",
       "      <td>127.765291</td>\n",
       "      <td>102.212233</td>\n",
       "      <td>3.0</td>\n",
       "      <td>Card</td>\n",
       "      <td>Dubai</td>\n",
       "      <td>UAE</td>\n",
       "      <td>50</td>\n",
       "      <td>59.32</td>\n",
       "      <td>2017-10-16</td>\n",
       "      <td>5</td>\n",
       "      <td>3</td>\n",
       "      <td>3</td>\n",
       "    </tr>\n",
       "    <tr>\n",
       "      <th>sid8</th>\n",
       "      <td>cid39791</td>\n",
       "      <td>Dusk</td>\n",
       "      <td>Positive</td>\n",
       "      <td>eau de parfum</td>\n",
       "      <td>Men</td>\n",
       "      <td>M</td>\n",
       "      <td>44</td>\n",
       "      <td>180.938378</td>\n",
       "      <td>144.750702</td>\n",
       "      <td>6.0</td>\n",
       "      <td>Card</td>\n",
       "      <td>New York</td>\n",
       "      <td>USA</td>\n",
       "      <td>50</td>\n",
       "      <td>14.38</td>\n",
       "      <td>2020-08-07</td>\n",
       "      <td>1</td>\n",
       "      <td>2</td>\n",
       "      <td>2</td>\n",
       "    </tr>\n",
       "    <tr>\n",
       "      <th>...</th>\n",
       "      <td>...</td>\n",
       "      <td>...</td>\n",
       "      <td>...</td>\n",
       "      <td>...</td>\n",
       "      <td>...</td>\n",
       "      <td>...</td>\n",
       "      <td>...</td>\n",
       "      <td>...</td>\n",
       "      <td>...</td>\n",
       "      <td>...</td>\n",
       "      <td>...</td>\n",
       "      <td>...</td>\n",
       "      <td>...</td>\n",
       "      <td>...</td>\n",
       "      <td>...</td>\n",
       "      <td>...</td>\n",
       "      <td>...</td>\n",
       "      <td>...</td>\n",
       "      <td>...</td>\n",
       "    </tr>\n",
       "    <tr>\n",
       "      <th>sid99995</th>\n",
       "      <td>cid14569</td>\n",
       "      <td>Elixir</td>\n",
       "      <td>Negative</td>\n",
       "      <td>eau de parfum</td>\n",
       "      <td>Men</td>\n",
       "      <td>O</td>\n",
       "      <td>24</td>\n",
       "      <td>412.205061</td>\n",
       "      <td>494.646073</td>\n",
       "      <td>2.0</td>\n",
       "      <td>Cash</td>\n",
       "      <td>Sydney</td>\n",
       "      <td>Australia</td>\n",
       "      <td>50</td>\n",
       "      <td>1.01</td>\n",
       "      <td>2017-06-22</td>\n",
       "      <td>3</td>\n",
       "      <td>2</td>\n",
       "      <td>2</td>\n",
       "    </tr>\n",
       "    <tr>\n",
       "      <th>sid99996</th>\n",
       "      <td>cid15897</td>\n",
       "      <td>Aqua</td>\n",
       "      <td>Positive</td>\n",
       "      <td>eau de parfum</td>\n",
       "      <td>Unisex</td>\n",
       "      <td>F</td>\n",
       "      <td>25</td>\n",
       "      <td>592.211175</td>\n",
       "      <td>710.653410</td>\n",
       "      <td>6.0</td>\n",
       "      <td>Bank Transfer</td>\n",
       "      <td>Dubai</td>\n",
       "      <td>UAE</td>\n",
       "      <td>100</td>\n",
       "      <td>16.28</td>\n",
       "      <td>2022-12-31</td>\n",
       "      <td>3</td>\n",
       "      <td>19</td>\n",
       "      <td>19</td>\n",
       "    </tr>\n",
       "    <tr>\n",
       "      <th>sid99998</th>\n",
       "      <td>cid35422</td>\n",
       "      <td>Ciel</td>\n",
       "      <td>Positive</td>\n",
       "      <td>eau de parfum</td>\n",
       "      <td>Unisex</td>\n",
       "      <td>M</td>\n",
       "      <td>34</td>\n",
       "      <td>146.525687</td>\n",
       "      <td>10.000000</td>\n",
       "      <td>4.0</td>\n",
       "      <td>Card</td>\n",
       "      <td>Paris</td>\n",
       "      <td>France</td>\n",
       "      <td>100</td>\n",
       "      <td>69.93</td>\n",
       "      <td>2021-09-21</td>\n",
       "      <td>4</td>\n",
       "      <td>NaN</td>\n",
       "      <td>16</td>\n",
       "    </tr>\n",
       "    <tr>\n",
       "      <th>sid99999</th>\n",
       "      <td>cid8530</td>\n",
       "      <td>Elixir</td>\n",
       "      <td>Positive</td>\n",
       "      <td>eau de parfum</td>\n",
       "      <td>Women</td>\n",
       "      <td>F</td>\n",
       "      <td>40</td>\n",
       "      <td>284.124574</td>\n",
       "      <td>227.299659</td>\n",
       "      <td>6.0</td>\n",
       "      <td>Cash</td>\n",
       "      <td>Paris</td>\n",
       "      <td>France</td>\n",
       "      <td>50</td>\n",
       "      <td>97.11</td>\n",
       "      <td>2020-09-22</td>\n",
       "      <td>4</td>\n",
       "      <td>4</td>\n",
       "      <td>4</td>\n",
       "    </tr>\n",
       "    <tr>\n",
       "      <th>sid100000</th>\n",
       "      <td>cid44269</td>\n",
       "      <td>Belle</td>\n",
       "      <td>Positive</td>\n",
       "      <td>eau de parfum</td>\n",
       "      <td>Women</td>\n",
       "      <td>M</td>\n",
       "      <td>46</td>\n",
       "      <td>6969.170760</td>\n",
       "      <td>47.773840</td>\n",
       "      <td>10.0</td>\n",
       "      <td>Cash</td>\n",
       "      <td>New York</td>\n",
       "      <td>USA</td>\n",
       "      <td>30</td>\n",
       "      <td>36.81</td>\n",
       "      <td>2020-12-16</td>\n",
       "      <td>5</td>\n",
       "      <td>2</td>\n",
       "      <td>2</td>\n",
       "    </tr>\n",
       "  </tbody>\n",
       "</table>\n",
       "<p>144635 rows × 19 columns</p>\n",
       "</div>"
      ],
      "text/plain": [
       "          Customer ID Product Name Sentiment        Category User Type Gender   \n",
       "Sales ID                                                                        \n",
       "sid2         cid18393         Dusk  Positive   eau de parfum     Women      F  \\\n",
       "sid3          cid3108         Aqua  Positive   eau de parfum     Women      M   \n",
       "sid5         cid48531         Dusk  Positive   eau de parfum     Women      F   \n",
       "sid6         cid26224         Aqua  Positive  eau de cologne    Unisex      M   \n",
       "sid8         cid39791         Dusk  Positive   eau de parfum       Men      M   \n",
       "...               ...          ...       ...             ...       ...    ...   \n",
       "sid99995     cid14569       Elixir  Negative   eau de parfum       Men      O   \n",
       "sid99996     cid15897         Aqua  Positive   eau de parfum    Unisex      F   \n",
       "sid99998     cid35422         Ciel  Positive   eau de parfum    Unisex      M   \n",
       "sid99999      cid8530       Elixir  Positive   eau de parfum     Women      F   \n",
       "sid100000    cid44269        Belle  Positive   eau de parfum     Women      M   \n",
       "\n",
       "           Age        Price  Cost Price  Quantity Payment Method      City   \n",
       "Sales ID                                                                     \n",
       "sid2        37    98.222536   58.933522       8.0           Card     Tokyo  \\\n",
       "sid3        34   143.470592  100.429415       2.0  Bank Transfer     Tokyo   \n",
       "sid5        30    62.294481   37.376689       2.0           Cash    London   \n",
       "sid6        27   127.765291  102.212233       3.0           Card     Dubai   \n",
       "sid8        44   180.938378  144.750702       6.0           Card  New York   \n",
       "...        ...          ...         ...       ...            ...       ...   \n",
       "sid99995    24   412.205061  494.646073       2.0           Cash    Sydney   \n",
       "sid99996    25   592.211175  710.653410       6.0  Bank Transfer     Dubai   \n",
       "sid99998    34   146.525687   10.000000       4.0           Card     Paris   \n",
       "sid99999    40   284.124574  227.299659       6.0           Cash     Paris   \n",
       "sid100000   46  6969.170760   47.773840      10.0           Cash  New York   \n",
       "\n",
       "             Country  Bottle Size (ml)  Discount Purchase Date Rating   \n",
       "Sales ID                                                                \n",
       "sid2           Japan                50     81.11    2017-07-26      5  \\\n",
       "sid3           Japan                30     36.22    2019-12-23      1   \n",
       "sid5              UK                30     44.53    2022-07-26      3   \n",
       "sid6             UAE                50     59.32    2017-10-16      5   \n",
       "sid8             USA                50     14.38    2020-08-07      1   \n",
       "...              ...               ...       ...           ...    ...   \n",
       "sid99995   Australia                50      1.01    2017-06-22      3   \n",
       "sid99996         UAE               100     16.28    2022-12-31      3   \n",
       "sid99998      France               100     69.93    2021-09-21      4   \n",
       "sid99999      France                50     97.11    2020-09-22      4   \n",
       "sid100000        USA                30     36.81    2020-12-16      5   \n",
       "\n",
       "          Oil Content (%) oil content (%)  \n",
       "Sales ID                                   \n",
       "sid2                    2               2  \n",
       "sid3                    2               2  \n",
       "sid5                    4               4  \n",
       "sid6                    3               3  \n",
       "sid8                    2               2  \n",
       "...                   ...             ...  \n",
       "sid99995                2               2  \n",
       "sid99996               19              19  \n",
       "sid99998              NaN              16  \n",
       "sid99999                4               4  \n",
       "sid100000               2               2  \n",
       "\n",
       "[144635 rows x 19 columns]"
      ]
     },
     "execution_count": 107,
     "metadata": {},
     "output_type": "execute_result"
    }
   ],
   "source": [
    "df_raw"
   ]
  },
  {
   "cell_type": "code",
   "execution_count": 108,
   "id": "5eb7f0b0",
   "metadata": {},
   "outputs": [],
   "source": [
    "#lets drop the second to the last column as we have no need for it anymore.\n",
    "df_raw.drop(df_raw.columns[-2], axis=1, inplace=True)"
   ]
  },
  {
   "cell_type": "code",
   "execution_count": 109,
   "id": "16ca06ae",
   "metadata": {},
   "outputs": [
    {
     "data": {
      "text/html": [
       "<div>\n",
       "<style scoped>\n",
       "    .dataframe tbody tr th:only-of-type {\n",
       "        vertical-align: middle;\n",
       "    }\n",
       "\n",
       "    .dataframe tbody tr th {\n",
       "        vertical-align: top;\n",
       "    }\n",
       "\n",
       "    .dataframe thead th {\n",
       "        text-align: right;\n",
       "    }\n",
       "</style>\n",
       "<table border=\"1\" class=\"dataframe\">\n",
       "  <thead>\n",
       "    <tr style=\"text-align: right;\">\n",
       "      <th></th>\n",
       "      <th>Customer ID</th>\n",
       "      <th>Product Name</th>\n",
       "      <th>Sentiment</th>\n",
       "      <th>Category</th>\n",
       "      <th>User Type</th>\n",
       "      <th>Gender</th>\n",
       "      <th>Age</th>\n",
       "      <th>Price</th>\n",
       "      <th>Cost Price</th>\n",
       "      <th>Quantity</th>\n",
       "      <th>Payment Method</th>\n",
       "      <th>City</th>\n",
       "      <th>Country</th>\n",
       "      <th>Bottle Size (ml)</th>\n",
       "      <th>Discount</th>\n",
       "      <th>Purchase Date</th>\n",
       "      <th>Rating</th>\n",
       "      <th>oil content (%)</th>\n",
       "    </tr>\n",
       "    <tr>\n",
       "      <th>Sales ID</th>\n",
       "      <th></th>\n",
       "      <th></th>\n",
       "      <th></th>\n",
       "      <th></th>\n",
       "      <th></th>\n",
       "      <th></th>\n",
       "      <th></th>\n",
       "      <th></th>\n",
       "      <th></th>\n",
       "      <th></th>\n",
       "      <th></th>\n",
       "      <th></th>\n",
       "      <th></th>\n",
       "      <th></th>\n",
       "      <th></th>\n",
       "      <th></th>\n",
       "      <th></th>\n",
       "      <th></th>\n",
       "    </tr>\n",
       "  </thead>\n",
       "  <tbody>\n",
       "    <tr>\n",
       "      <th>sid2</th>\n",
       "      <td>cid18393</td>\n",
       "      <td>Dusk</td>\n",
       "      <td>Positive</td>\n",
       "      <td>eau de parfum</td>\n",
       "      <td>Women</td>\n",
       "      <td>F</td>\n",
       "      <td>37</td>\n",
       "      <td>98.222536</td>\n",
       "      <td>58.933522</td>\n",
       "      <td>8.0</td>\n",
       "      <td>Card</td>\n",
       "      <td>Tokyo</td>\n",
       "      <td>Japan</td>\n",
       "      <td>50</td>\n",
       "      <td>81.11</td>\n",
       "      <td>2017-07-26</td>\n",
       "      <td>5</td>\n",
       "      <td>2</td>\n",
       "    </tr>\n",
       "    <tr>\n",
       "      <th>sid3</th>\n",
       "      <td>cid3108</td>\n",
       "      <td>Aqua</td>\n",
       "      <td>Positive</td>\n",
       "      <td>eau de parfum</td>\n",
       "      <td>Women</td>\n",
       "      <td>M</td>\n",
       "      <td>34</td>\n",
       "      <td>143.470592</td>\n",
       "      <td>100.429415</td>\n",
       "      <td>2.0</td>\n",
       "      <td>Bank Transfer</td>\n",
       "      <td>Tokyo</td>\n",
       "      <td>Japan</td>\n",
       "      <td>30</td>\n",
       "      <td>36.22</td>\n",
       "      <td>2019-12-23</td>\n",
       "      <td>1</td>\n",
       "      <td>2</td>\n",
       "    </tr>\n",
       "    <tr>\n",
       "      <th>sid5</th>\n",
       "      <td>cid48531</td>\n",
       "      <td>Dusk</td>\n",
       "      <td>Positive</td>\n",
       "      <td>eau de parfum</td>\n",
       "      <td>Women</td>\n",
       "      <td>F</td>\n",
       "      <td>30</td>\n",
       "      <td>62.294481</td>\n",
       "      <td>37.376689</td>\n",
       "      <td>2.0</td>\n",
       "      <td>Cash</td>\n",
       "      <td>London</td>\n",
       "      <td>UK</td>\n",
       "      <td>30</td>\n",
       "      <td>44.53</td>\n",
       "      <td>2022-07-26</td>\n",
       "      <td>3</td>\n",
       "      <td>4</td>\n",
       "    </tr>\n",
       "    <tr>\n",
       "      <th>sid6</th>\n",
       "      <td>cid26224</td>\n",
       "      <td>Aqua</td>\n",
       "      <td>Positive</td>\n",
       "      <td>eau de cologne</td>\n",
       "      <td>Unisex</td>\n",
       "      <td>M</td>\n",
       "      <td>27</td>\n",
       "      <td>127.765291</td>\n",
       "      <td>102.212233</td>\n",
       "      <td>3.0</td>\n",
       "      <td>Card</td>\n",
       "      <td>Dubai</td>\n",
       "      <td>UAE</td>\n",
       "      <td>50</td>\n",
       "      <td>59.32</td>\n",
       "      <td>2017-10-16</td>\n",
       "      <td>5</td>\n",
       "      <td>3</td>\n",
       "    </tr>\n",
       "    <tr>\n",
       "      <th>sid8</th>\n",
       "      <td>cid39791</td>\n",
       "      <td>Dusk</td>\n",
       "      <td>Positive</td>\n",
       "      <td>eau de parfum</td>\n",
       "      <td>Men</td>\n",
       "      <td>M</td>\n",
       "      <td>44</td>\n",
       "      <td>180.938378</td>\n",
       "      <td>144.750702</td>\n",
       "      <td>6.0</td>\n",
       "      <td>Card</td>\n",
       "      <td>New York</td>\n",
       "      <td>USA</td>\n",
       "      <td>50</td>\n",
       "      <td>14.38</td>\n",
       "      <td>2020-08-07</td>\n",
       "      <td>1</td>\n",
       "      <td>2</td>\n",
       "    </tr>\n",
       "    <tr>\n",
       "      <th>...</th>\n",
       "      <td>...</td>\n",
       "      <td>...</td>\n",
       "      <td>...</td>\n",
       "      <td>...</td>\n",
       "      <td>...</td>\n",
       "      <td>...</td>\n",
       "      <td>...</td>\n",
       "      <td>...</td>\n",
       "      <td>...</td>\n",
       "      <td>...</td>\n",
       "      <td>...</td>\n",
       "      <td>...</td>\n",
       "      <td>...</td>\n",
       "      <td>...</td>\n",
       "      <td>...</td>\n",
       "      <td>...</td>\n",
       "      <td>...</td>\n",
       "      <td>...</td>\n",
       "    </tr>\n",
       "    <tr>\n",
       "      <th>sid99995</th>\n",
       "      <td>cid14569</td>\n",
       "      <td>Elixir</td>\n",
       "      <td>Negative</td>\n",
       "      <td>eau de parfum</td>\n",
       "      <td>Men</td>\n",
       "      <td>O</td>\n",
       "      <td>24</td>\n",
       "      <td>412.205061</td>\n",
       "      <td>494.646073</td>\n",
       "      <td>2.0</td>\n",
       "      <td>Cash</td>\n",
       "      <td>Sydney</td>\n",
       "      <td>Australia</td>\n",
       "      <td>50</td>\n",
       "      <td>1.01</td>\n",
       "      <td>2017-06-22</td>\n",
       "      <td>3</td>\n",
       "      <td>2</td>\n",
       "    </tr>\n",
       "    <tr>\n",
       "      <th>sid99996</th>\n",
       "      <td>cid15897</td>\n",
       "      <td>Aqua</td>\n",
       "      <td>Positive</td>\n",
       "      <td>eau de parfum</td>\n",
       "      <td>Unisex</td>\n",
       "      <td>F</td>\n",
       "      <td>25</td>\n",
       "      <td>592.211175</td>\n",
       "      <td>710.653410</td>\n",
       "      <td>6.0</td>\n",
       "      <td>Bank Transfer</td>\n",
       "      <td>Dubai</td>\n",
       "      <td>UAE</td>\n",
       "      <td>100</td>\n",
       "      <td>16.28</td>\n",
       "      <td>2022-12-31</td>\n",
       "      <td>3</td>\n",
       "      <td>19</td>\n",
       "    </tr>\n",
       "    <tr>\n",
       "      <th>sid99998</th>\n",
       "      <td>cid35422</td>\n",
       "      <td>Ciel</td>\n",
       "      <td>Positive</td>\n",
       "      <td>eau de parfum</td>\n",
       "      <td>Unisex</td>\n",
       "      <td>M</td>\n",
       "      <td>34</td>\n",
       "      <td>146.525687</td>\n",
       "      <td>10.000000</td>\n",
       "      <td>4.0</td>\n",
       "      <td>Card</td>\n",
       "      <td>Paris</td>\n",
       "      <td>France</td>\n",
       "      <td>100</td>\n",
       "      <td>69.93</td>\n",
       "      <td>2021-09-21</td>\n",
       "      <td>4</td>\n",
       "      <td>16</td>\n",
       "    </tr>\n",
       "    <tr>\n",
       "      <th>sid99999</th>\n",
       "      <td>cid8530</td>\n",
       "      <td>Elixir</td>\n",
       "      <td>Positive</td>\n",
       "      <td>eau de parfum</td>\n",
       "      <td>Women</td>\n",
       "      <td>F</td>\n",
       "      <td>40</td>\n",
       "      <td>284.124574</td>\n",
       "      <td>227.299659</td>\n",
       "      <td>6.0</td>\n",
       "      <td>Cash</td>\n",
       "      <td>Paris</td>\n",
       "      <td>France</td>\n",
       "      <td>50</td>\n",
       "      <td>97.11</td>\n",
       "      <td>2020-09-22</td>\n",
       "      <td>4</td>\n",
       "      <td>4</td>\n",
       "    </tr>\n",
       "    <tr>\n",
       "      <th>sid100000</th>\n",
       "      <td>cid44269</td>\n",
       "      <td>Belle</td>\n",
       "      <td>Positive</td>\n",
       "      <td>eau de parfum</td>\n",
       "      <td>Women</td>\n",
       "      <td>M</td>\n",
       "      <td>46</td>\n",
       "      <td>6969.170760</td>\n",
       "      <td>47.773840</td>\n",
       "      <td>10.0</td>\n",
       "      <td>Cash</td>\n",
       "      <td>New York</td>\n",
       "      <td>USA</td>\n",
       "      <td>30</td>\n",
       "      <td>36.81</td>\n",
       "      <td>2020-12-16</td>\n",
       "      <td>5</td>\n",
       "      <td>2</td>\n",
       "    </tr>\n",
       "  </tbody>\n",
       "</table>\n",
       "<p>144635 rows × 18 columns</p>\n",
       "</div>"
      ],
      "text/plain": [
       "          Customer ID Product Name Sentiment        Category User Type Gender   \n",
       "Sales ID                                                                        \n",
       "sid2         cid18393         Dusk  Positive   eau de parfum     Women      F  \\\n",
       "sid3          cid3108         Aqua  Positive   eau de parfum     Women      M   \n",
       "sid5         cid48531         Dusk  Positive   eau de parfum     Women      F   \n",
       "sid6         cid26224         Aqua  Positive  eau de cologne    Unisex      M   \n",
       "sid8         cid39791         Dusk  Positive   eau de parfum       Men      M   \n",
       "...               ...          ...       ...             ...       ...    ...   \n",
       "sid99995     cid14569       Elixir  Negative   eau de parfum       Men      O   \n",
       "sid99996     cid15897         Aqua  Positive   eau de parfum    Unisex      F   \n",
       "sid99998     cid35422         Ciel  Positive   eau de parfum    Unisex      M   \n",
       "sid99999      cid8530       Elixir  Positive   eau de parfum     Women      F   \n",
       "sid100000    cid44269        Belle  Positive   eau de parfum     Women      M   \n",
       "\n",
       "           Age        Price  Cost Price  Quantity Payment Method      City   \n",
       "Sales ID                                                                     \n",
       "sid2        37    98.222536   58.933522       8.0           Card     Tokyo  \\\n",
       "sid3        34   143.470592  100.429415       2.0  Bank Transfer     Tokyo   \n",
       "sid5        30    62.294481   37.376689       2.0           Cash    London   \n",
       "sid6        27   127.765291  102.212233       3.0           Card     Dubai   \n",
       "sid8        44   180.938378  144.750702       6.0           Card  New York   \n",
       "...        ...          ...         ...       ...            ...       ...   \n",
       "sid99995    24   412.205061  494.646073       2.0           Cash    Sydney   \n",
       "sid99996    25   592.211175  710.653410       6.0  Bank Transfer     Dubai   \n",
       "sid99998    34   146.525687   10.000000       4.0           Card     Paris   \n",
       "sid99999    40   284.124574  227.299659       6.0           Cash     Paris   \n",
       "sid100000   46  6969.170760   47.773840      10.0           Cash  New York   \n",
       "\n",
       "             Country  Bottle Size (ml)  Discount Purchase Date Rating   \n",
       "Sales ID                                                                \n",
       "sid2           Japan                50     81.11    2017-07-26      5  \\\n",
       "sid3           Japan                30     36.22    2019-12-23      1   \n",
       "sid5              UK                30     44.53    2022-07-26      3   \n",
       "sid6             UAE                50     59.32    2017-10-16      5   \n",
       "sid8             USA                50     14.38    2020-08-07      1   \n",
       "...              ...               ...       ...           ...    ...   \n",
       "sid99995   Australia                50      1.01    2017-06-22      3   \n",
       "sid99996         UAE               100     16.28    2022-12-31      3   \n",
       "sid99998      France               100     69.93    2021-09-21      4   \n",
       "sid99999      France                50     97.11    2020-09-22      4   \n",
       "sid100000        USA                30     36.81    2020-12-16      5   \n",
       "\n",
       "          oil content (%)  \n",
       "Sales ID                   \n",
       "sid2                    2  \n",
       "sid3                    2  \n",
       "sid5                    4  \n",
       "sid6                    3  \n",
       "sid8                    2  \n",
       "...                   ...  \n",
       "sid99995                2  \n",
       "sid99996               19  \n",
       "sid99998               16  \n",
       "sid99999                4  \n",
       "sid100000               2  \n",
       "\n",
       "[144635 rows x 18 columns]"
      ]
     },
     "execution_count": 109,
     "metadata": {},
     "output_type": "execute_result"
    }
   ],
   "source": [
    "df_raw"
   ]
  },
  {
   "cell_type": "code",
   "execution_count": 110,
   "id": "c9ea0898",
   "metadata": {},
   "outputs": [],
   "source": [
    "df_Elysian_cleaned=df_raw"
   ]
  },
  {
   "cell_type": "code",
   "execution_count": 111,
   "id": "3f2f2144",
   "metadata": {},
   "outputs": [],
   "source": [
    "df_Elysian_cleaned.to_csv('df_Elysian_cleaned.csv', index=True)"
   ]
  },
  {
   "cell_type": "code",
   "execution_count": null,
   "id": "39464101",
   "metadata": {},
   "outputs": [],
   "source": []
  }
 ],
 "metadata": {
  "kernelspec": {
   "display_name": "Python 3 (ipykernel)",
   "language": "python",
   "name": "python3"
  },
  "language_info": {
   "codemirror_mode": {
    "name": "ipython",
    "version": 3
   },
   "file_extension": ".py",
   "mimetype": "text/x-python",
   "name": "python",
   "nbconvert_exporter": "python",
   "pygments_lexer": "ipython3",
   "version": "3.9.12"
  }
 },
 "nbformat": 4,
 "nbformat_minor": 5
}
